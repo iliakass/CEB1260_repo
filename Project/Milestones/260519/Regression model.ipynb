{
 "cells": [
  {
   "cell_type": "code",
   "execution_count": 21,
   "metadata": {},
   "outputs": [],
   "source": [
    "# import the library\n",
    "%matplotlib inline\n",
    "\n",
    "import pandas as pd\n",
    "import numpy as np\n",
    "import matplotlib.pyplot as plt\n",
    "import seaborn as sns # the more advanced python visualization library\n",
    "\n",
    "# sklearn :: utils\n",
    "from sklearn.model_selection import train_test_split\n",
    "from sklearn.model_selection import KFold\n",
    "\n",
    "    # For Classification\n",
    "from sklearn.metrics import confusion_matrix\n",
    "from sklearn.metrics import precision_score\n",
    "from sklearn.metrics import recall_score\n",
    "\n",
    "# sklearn :: models\n",
    "from sklearn.linear_model import LinearRegression\n",
    "from sklearn.ensemble import RandomForestRegressor\n",
    "from sklearn.neighbors import KNeighborsRegressor\n",
    "from sklearn.tree import DecisionTreeRegressor\n",
    "\n",
    "    # For Classification\n",
    "from sklearn.naive_bayes import GaussianNB\n",
    "from sklearn.tree import DecisionTreeClassifier\n",
    "\n",
    "# sklearn :: evaluation metrics\n",
    "from sklearn.metrics import mean_absolute_error\n",
    "from sklearn.metrics import mean_squared_error\n",
    "\n",
    "# Date time\n",
    "from datetime import datetime\n",
    "\n",
    "sns.set_style('whitegrid')\n",
    "\n",
    "# apply style to all the charts\n",
    "sns.set_style('whitegrid')\n",
    "\n",
    "# convert scientific notation to decimals\n",
    "pd.set_option('display.float_format', lambda x: '%.2f' % x)"
   ]
  },
  {
   "cell_type": "markdown",
   "metadata": {},
   "source": [
    "### Loading clean Dataset"
   ]
  },
  {
   "cell_type": "code",
   "execution_count": 22,
   "metadata": {},
   "outputs": [],
   "source": [
    "# Load the data\n",
    "df = pd.read_csv('declarations-exterminations-punaises-de-lit-1.csv')"
   ]
  },
  {
   "cell_type": "markdown",
   "metadata": {},
   "source": [
    "#### Verify Datatype and make modifications "
   ]
  },
  {
   "cell_type": "code",
   "execution_count": 23,
   "metadata": {},
   "outputs": [
    {
     "name": "stdout",
     "output_type": "stream",
     "text": [
      "NO_DECLARATION        int64\n",
      "DATE_DECLARATION     object\n",
      "DATE_PRIOR_INSP      object\n",
      "EXT_FREQ            float64\n",
      "DATE_FIRST_EXT       object\n",
      "DATE_LAST_EXT        object\n",
      "HOOD_NUM             object\n",
      "HOOD_NAME            object\n",
      "BORO_NAME            object\n",
      "MTM8_X              float64\n",
      "MTM8_Y              float64\n",
      "LONGITUDE           float64\n",
      "LATITUDE            float64\n",
      "LONG_LAT             object\n",
      "MTM_X_Y              object\n",
      "DEC_MONTH             int64\n",
      "DEC_ISSUE             int64\n",
      "DATE_DIFF           float64\n",
      "dtype: object\n"
     ]
    }
   ],
   "source": [
    "print(df.dtypes)"
   ]
  },
  {
   "cell_type": "code",
   "execution_count": 25,
   "metadata": {},
   "outputs": [
    {
     "name": "stdout",
     "output_type": "stream",
     "text": [
      "NO_DECLARATION        int64\n",
      "DATE_DECLARATION     object\n",
      "DATE_PRIOR_INSP      object\n",
      "EXT_FREQ              int64\n",
      "DATE_FIRST_EXT       object\n",
      "DATE_LAST_EXT        object\n",
      "HOOD_NUM             object\n",
      "HOOD_NAME            object\n",
      "BORO_NAME            object\n",
      "MTM8_X              float64\n",
      "MTM8_Y              float64\n",
      "LONGITUDE           float64\n",
      "LATITUDE            float64\n",
      "LONG_LAT             object\n",
      "MTM_X_Y              object\n",
      "DEC_MONTH             int64\n",
      "DEC_ISSUE             int64\n",
      "DATE_DIFF             int64\n",
      "dtype: object\n"
     ]
    }
   ],
   "source": [
    "# Convert 'DATE_INSP_VISPRE', 'DATE_DEBUTTRAIT', and 'DATE_FINTRAIT'\n",
    "\n",
    "# Ref.:https://pandas.pydata.org/pandas-docs/stable/reference/api/pandas.to_datetime.html\n",
    "# df['DATE_DECLARATION'] = pd.to_datetime(df['DATE_DECLARATION'])\n",
    "# df['DATE_PRIOR_INSP'] = pd.to_datetime(df['DATE_PRIOR_INSP'])\n",
    "# df['DATE_FIRST_EXT'] = pd.to_datetime(df['DATE_FIRST_EXT'])\n",
    "# df['DATE_LAST_EXT'] = pd.to_datetime(df['DATE_LAST_EXT'])\n",
    "\n",
    "print(df.dtypes)"
   ]
  },
  {
   "cell_type": "markdown",
   "metadata": {},
   "source": [
    "#### Create Declaration date Month and Year Columns "
   ]
  },
  {
   "cell_type": "code",
   "execution_count": 26,
   "metadata": {},
   "outputs": [],
   "source": [
    "#We have this for month:\n",
    "df['DEC_YEAR'] = pd.DatetimeIndex(df['DATE_DECLARATION']).year"
   ]
  },
  {
   "cell_type": "markdown",
   "metadata": {},
   "source": [
    "### Convert most columns to Integer"
   ]
  },
  {
   "cell_type": "code",
   "execution_count": 27,
   "metadata": {},
   "outputs": [
    {
     "ename": "ValueError",
     "evalue": "Could not convert object to NumPy datetime",
     "output_type": "error",
     "traceback": [
      "\u001b[1;31m---------------------------------------------------------------------------\u001b[0m",
      "\u001b[1;31mValueError\u001b[0m                                Traceback (most recent call last)",
      "\u001b[1;32m<ipython-input-27-bf1ed687cb66>\u001b[0m in \u001b[0;36m<module>\u001b[1;34m()\u001b[0m\n\u001b[0;32m     13\u001b[0m \u001b[1;33m\u001b[0m\u001b[0m\n\u001b[0;32m     14\u001b[0m \u001b[1;31m# Ref.: https://stackoverflow.com/questions/47562634/converting-numpy-datetime64-to-long-integer-and-back\u001b[0m\u001b[1;33m\u001b[0m\u001b[1;33m\u001b[0m\u001b[0m\n\u001b[1;32m---> 15\u001b[1;33m \u001b[0mnp\u001b[0m\u001b[1;33m.\u001b[0m\u001b[0mdatetime64\u001b[0m\u001b[1;33m(\u001b[0m\u001b[0mnp\u001b[0m\u001b[1;33m.\u001b[0m\u001b[0mdatetime64\u001b[0m\u001b[1;33m(\u001b[0m\u001b[0mdf\u001b[0m\u001b[1;33m[\u001b[0m\u001b[1;34m'DATE_DECLARATION'\u001b[0m\u001b[1;33m]\u001b[0m\u001b[1;33m)\u001b[0m\u001b[1;33m.\u001b[0m\u001b[0mastype\u001b[0m\u001b[1;33m(\u001b[0m\u001b[0mlong\u001b[0m\u001b[1;33m)\u001b[0m\u001b[1;33m,\u001b[0m \u001b[1;34m'ns'\u001b[0m\u001b[1;33m)\u001b[0m\u001b[1;33m\u001b[0m\u001b[0m\n\u001b[0m\u001b[0;32m     16\u001b[0m \u001b[1;33m\u001b[0m\u001b[0m\n\u001b[0;32m     17\u001b[0m \u001b[1;33m\u001b[0m\u001b[0m\n",
      "\u001b[1;31mValueError\u001b[0m: Could not convert object to NumPy datetime"
     ]
    }
   ],
   "source": [
    "# Ref. : https://stackoverflow.com/questions/43956335/convert-float64-column-to-int64-in-pandas\n",
    "df['DATE_DIFF'] = df['DATE_DIFF'].astype(np.int64)\n",
    "df['EXT_FREQ'] = df['EXT_FREQ'].astype(np.int64)\n",
    "\n",
    "# Ref.: https://stackoverflow.com/questions/50863691/pandas-convert-date-object-to-int\\\n",
    "# df['DATE_DECLARATION'].dt.strftime(\"%Y%m%d\").astype(int)\n",
    "# df['DATE_PRIOR_INSP'].dt.strftime(\"%Y%m%d\").astype(int)\n",
    "# df['DATE_FIRST_EXT'].dt.strftime(\"%Y%m%d\").astype(int)\n",
    "# df['DATE_LAST_EXT'].dt.strftime(\"%Y%m%d\").astype(int)\n",
    "\n",
    "# Ref.: https://thispointer.com/python-how-to-convert-datetime-object-to-string-using-datetime-strftime/\n",
    "# df['DATE_DECLARATION'] = df['DATE_DECLARATION'].strftime(\"%Y-%b-%d\")\n",
    "\n",
    "# Ref.: https://stackoverflow.com/questions/47562634/converting-numpy-datetime64-to-long-integer-and-back\n",
    "np.datetime64(np.datetime64(df['DATE_DECLARATION']).astype(long), 'ns')\n",
    "\n",
    "\n",
    "df.dtypes"
   ]
  },
  {
   "cell_type": "markdown",
   "metadata": {},
   "source": [
    "#### Dataframe summary"
   ]
  },
  {
   "cell_type": "code",
   "execution_count": 15,
   "metadata": {
    "scrolled": true
   },
   "outputs": [
    {
     "name": "stdout",
     "output_type": "stream",
     "text": [
      "Bed bug extermination declarations\n",
      "\n",
      "==================COLUMNS==================\n",
      "Index(['NO_DECLARATION', 'DATE_DECLARATION', 'DATE_PRIOR_INSP', 'EXT_FREQ',\n",
      "       'DATE_FIRST_EXT', 'DATE_LAST_EXT', 'HOOD_NUM', 'HOOD_NAME', 'BORO_NAME',\n",
      "       'MTM8_X', 'MTM8_Y', 'LONGITUDE', 'LATITUDE', 'LONG_LAT', 'MTM_X_Y',\n",
      "       'DEC_MONTH', 'DEC_ISSUE', 'DATE_DIFF'],\n",
      "      dtype='object')\n",
      "\n",
      "==================HEAD==================\n",
      "   NO_DECLARATION DATE_DECLARATION DATE_PRIOR_INSP  EXT_FREQ DATE_FIRST_EXT  \\\n",
      "0            4254       2012-10-28      2012-09-21      1.00     2012-09-21   \n",
      "1             830       2011-09-16      2011-07-13      1.00     2011-07-27   \n",
      "2            1380       2011-11-08      2011-11-02      1.00     2011-11-07   \n",
      "3             455       2011-08-10      2011-08-09      1.00     2011-08-09   \n",
      "4            1243       2011-10-26      2011-09-16      1.00     2011-10-05   \n",
      "\n",
      "  DATE_LAST_EXT HOOD_NUM      HOOD_NAME                            BORO_NAME  \\\n",
      "0    2012-09-21       24     Beaurivage        Mercier–Hochelaga-Maisonneuve   \n",
      "1    2011-08-17       50    Saint-Henri                         Le Sud-Ouest   \n",
      "2    2011-11-21       30   Sainte-Marie                          Ville-Marie   \n",
      "3    2011-08-09       44  Upper Lachine  Côte-des-Neiges–Notre-Dame-de-Grâce   \n",
      "4    2011-10-05       19    Petite-Côte            Rosemont–La Petite-Patrie   \n",
      "\n",
      "     MTM8_X     MTM8_Y  LONGITUDE  LATITUDE                      LONG_LAT  \\\n",
      "0 303753.60 5049835.70     -73.51     45.59          -73.513411_45.588426   \n",
      "1 298119.80 5036963.70     -73.59     45.47          -73.585437_45.472569   \n",
      "2 300294.90 5042372.10     -73.56     45.52          -73.557668_45.521253   \n",
      "3 296046.90 5036494.90     -73.61     45.47          -73.611941_45.468327   \n",
      "4 299524.20 5045639.90     -73.57     45.55  -73.56756899999999_45.550652   \n",
      "\n",
      "              MTM_X_Y  DEC_MONTH  DEC_ISSUE  DATE_DIFF  \n",
      "0  303753.6_5049835.7         10          1      37.00  \n",
      "1  298119.8_5036963.7          9          1      65.00  \n",
      "2  300294.9_5042372.1         11          1       6.00  \n",
      "3  296046.9_5036494.9          8          1       1.00  \n",
      "4  299524.2_5045639.9         10          1      40.00  \n",
      "\n",
      "==================TAIL==================\n",
      "       NO_DECLARATION DATE_DECLARATION DATE_PRIOR_INSP  EXT_FREQ  \\\n",
      "31236           22221       2016-04-07      2016-03-29      1.00   \n",
      "31237           23753       2016-08-17      2016-07-27      1.00   \n",
      "31238           26147       2017-02-23      2017-02-10      1.00   \n",
      "31239           25763       2017-01-18      2017-01-12      4.00   \n",
      "31240           29096       2017-10-02      2017-09-29      4.00   \n",
      "\n",
      "      DATE_FIRST_EXT DATE_LAST_EXT HOOD_NUM                      HOOD_NAME  \\\n",
      "31236     2016-04-04    2016-04-04       40                        Snowdon   \n",
      "31237     2016-07-27    2016-07-27       75  L'Île-Bizard–Sainte-Geneviève   \n",
      "31238     2017-02-23    2017-02-23       50                    Saint-Henri   \n",
      "31239     2017-01-12    2017-05-11       63                 Grande-Prairie   \n",
      "31240     2017-09-29    2017-10-13       41              Édouard-Montpetit   \n",
      "\n",
      "                                 BORO_NAME    MTM8_X     MTM8_Y  LONGITUDE  \\\n",
      "31236  Côte-des-Neiges–Notre-Dame-de-Grâce 293508.30 5038936.00     -73.64   \n",
      "31237        L'Île-Bizard–Sainte-Geneviève 276305.70 5038429.00     -73.86   \n",
      "31238                         Le Sud-Ouest 298127.50 5037218.70     -73.59   \n",
      "31239                        Saint-Léonard 299330.40 5049214.00     -73.57   \n",
      "31240  Côte-des-Neiges–Notre-Dame-de-Grâce 295797.50 5040825.60     -73.62   \n",
      "\n",
      "       LATITUDE                       LONG_LAT             MTM_X_Y  DEC_MONTH  \\\n",
      "31236     45.49           -73.644463_45.490257  293508.3_5038936.0          4   \n",
      "31237     45.49  -73.864514_45.485203999999996  276305.7_5038429.0          8   \n",
      "31238     45.47   -73.58534300000001_45.474863  298127.5_5037218.7          2   \n",
      "31239     45.58           -73.570091_45.582812  299330.4_5049214.0          1   \n",
      "31240     45.51           -73.615209_45.507293  295797.5_5040825.6         10   \n",
      "\n",
      "       DEC_ISSUE  DATE_DIFF  \n",
      "31236          1       9.00  \n",
      "31237          1      21.00  \n",
      "31238          1      13.00  \n",
      "31239          1       6.00  \n",
      "31240          1       3.00  \n",
      "\n",
      "==================DESCRIBE==================\n",
      "       NO_DECLARATION  EXT_FREQ    MTM8_X     MTM8_Y  LONGITUDE  LATITUDE  \\\n",
      "count        31241.00  31241.00  31241.00   31241.00   31241.00  31241.00   \n",
      "mean         17061.36      1.50 297102.04 5044105.27     -73.60     45.54   \n",
      "std           9822.28      0.91   3671.99    4772.25       0.05      0.04   \n",
      "min            104.00      1.00 274266.10 5030733.00     -73.89     45.42   \n",
      "25%           8563.00      1.00 294890.30 5041950.60     -73.63     45.52   \n",
      "50%          17028.00      1.00 297706.60 5044179.10     -73.59     45.54   \n",
      "75%          25555.00      2.00 299678.30 5046440.50     -73.57     45.56   \n",
      "max          34130.00      4.00 305921.50 5062070.20     -73.49     45.70   \n",
      "\n",
      "       DEC_MONTH  DEC_ISSUE  DATE_DIFF  \n",
      "count   31241.00   31241.00   31241.00  \n",
      "mean        7.13       1.00      36.79  \n",
      "std         3.34       0.00      78.21  \n",
      "min         1.00       1.00    -348.00  \n",
      "25%         4.00       1.00       6.00  \n",
      "50%         8.00       1.00      15.00  \n",
      "75%        10.00       1.00      39.00  \n",
      "max        12.00       1.00    3737.00  \n"
     ]
    }
   ],
   "source": [
    "print('Bed bug extermination declarations')\n",
    "print('')\n",
    "print('==================COLUMNS==================')\n",
    "print(df.columns)\n",
    "print('')\n",
    "print('==================HEAD==================')\n",
    "print(df.head())\n",
    "print('')\n",
    "print('==================TAIL==================')\n",
    "print(df.tail())\n",
    "print('')\n",
    "print('==================DESCRIBE==================')\n",
    "print(df.describe())"
   ]
  },
  {
   "cell_type": "code",
   "execution_count": null,
   "metadata": {},
   "outputs": [],
   "source": [
    "print(\"df shape:\"+str(df.shape) )"
   ]
  },
  {
   "cell_type": "code",
   "execution_count": null,
   "metadata": {},
   "outputs": [],
   "source": [
    "df['NO_DECLARATION'].dtype"
   ]
  },
  {
   "cell_type": "markdown",
   "metadata": {},
   "source": [
    "# Feature Engineering"
   ]
  },
  {
   "cell_type": "markdown",
   "metadata": {},
   "source": [
    "### Missing values "
   ]
  },
  {
   "cell_type": "code",
   "execution_count": null,
   "metadata": {
    "scrolled": false
   },
   "outputs": [],
   "source": [
    "df.isnull().sum()"
   ]
  },
  {
   "cell_type": "markdown",
   "metadata": {},
   "source": [
    "### Additing intersections as columns"
   ]
  },
  {
   "cell_type": "code",
   "execution_count": null,
   "metadata": {
    "scrolled": true
   },
   "outputs": [],
   "source": [
    "# Ref.: https://github.com/arybressane/CEBD1260-BIG-DATA-ANALYTICS\n",
    "\n",
    "# intersection to numerical columns\n",
    "df_inter = pd.get_dummies(df['LONG_LAT'])\n",
    "df_model = pd.concat([df, df_inter], axis=1).fillna(0.0)\n",
    "\n",
    "print(list(df_inter.columns))\n",
    "print('')\n"
   ]
  },
  {
   "cell_type": "code",
   "execution_count": null,
   "metadata": {},
   "outputs": [],
   "source": [
    "print('================df_model.columns================')\n",
    "print(list(df_model.columns))"
   ]
  },
  {
   "cell_type": "code",
   "execution_count": null,
   "metadata": {},
   "outputs": [],
   "source": [
    "# Ref.: https://github.com/arybressane/CEBD1260-BIG-DATA-ANALYTICS\n",
    "\n",
    "# select the columns\n",
    "    # X input for model\n",
    "    \n",
    "X_columns = ['EXT_FREQ', 'DEC_MONTH', 'DEC_YEAR', 'DATE_DIFF'] + list(df_inter.columns)\n",
    "    # Recall  ['DATE_DIFF'] = ['DATE_DECLARATION'] - ['DATE_PRIOR_INSP']\n",
    "\n",
    "# measured output Y\n",
    "y_column = ['DATE_LAST_EXT']\n",
    "    # Ref.: http://donnees.ville.montreal.qc.ca/dataset/declarations-exterminations-punaises-de-lit/resource/6173de60-c2da-4d63-bc75-0607cb8dcb74\n",
    "    # Recall DATE_FINTRAIT [now DATE_LAST_EXT] : Date for the end of the last extermination associated to a declaration\n",
    "\n",
    "print(X_columns)"
   ]
  },
  {
   "cell_type": "markdown",
   "metadata": {},
   "source": [
    "Using regression, use a model in order to determine the features that help determine an end date for an extermination. This model would help determine whether an extermination was trully successful for an intersection or whether additional visits will be needed.\n",
    "\n",
    "An alternative regression would entail in determining the number of declarations, although the number of exterminations is capped at four for each declaration. This alternative is not considered in this model. A classification model can be created to determine whether the extermination occured successfully or not with False Positives and True Negatives, as an indicate that an inspection is needed to verify a future reoccurence."
   ]
  },
  {
   "cell_type": "markdown",
   "metadata": {},
   "source": [
    "# Model Training"
   ]
  },
  {
   "cell_type": "code",
   "execution_count": null,
   "metadata": {},
   "outputs": [],
   "source": [
    "# threshold = 0.8 \n",
    "# 80% for train, 20% for test\n",
    "\n",
    "threshold = 0.8\n",
    "\n",
    "X = df_model[X_columns]\n",
    "y = df_model[y_column]\n",
    "\n",
    "X_train, X_test, y_train, y_test = train_test_split(X, y, test_size=1.0-threshold, shuffle=True)\n",
    "\n",
    "print('==============X_train==============') # X_train\n",
    "print(X_train.shape)\n",
    "print(X_train.dtypes)\n",
    "print('')\n",
    "print('==============y_train==============') # y_train\n",
    "print(y_train.shape) \n",
    "print(y_train.dtypes)\n",
    "print('')\n",
    "print('==============X_test==============') # X_test\n",
    "print(X_test.shape)\n",
    "print(X_test.dtypes)\n",
    "print('')\n",
    "print('==============y_test==============') # y_test\n",
    "print(y_test.shape) \n",
    "print(y_test.dtypes) "
   ]
  },
  {
   "cell_type": "markdown",
   "metadata": {},
   "source": [
    "### Linear Regression"
   ]
  },
  {
   "cell_type": "code",
   "execution_count": null,
   "metadata": {},
   "outputs": [],
   "source": [
    "model = LinearRegression()\n",
    "model.fit(X_train, y_train)\n",
    "y_pred = model.predict(X_test)\n",
    "\n",
    "mae = mean_absolute_error(y_test, y_pred)\n",
    "print('MAE', round(mae, 2))\n",
    "\n",
    "plt.scatter(y_test, y_pred, alpha=0.3)\n",
    "\n",
    "plt.plot(range(0,50, 1), range(0,50, 1), '--r', alpha=0.3, label='Line1')\n",
    "\n",
    "plt.title('Linear Regression')\n",
    "plt.xlabel('True Value')\n",
    "plt.ylabel('Predict Value')\n",
    "plt.xlim([0, 50])\n",
    "plt.ylim([0, 50])\n",
    "plt.show()\n",
    "\n",
    "#calculate the RMSE\n",
    "RMAE = np.sqrt(mean_squared_error(y_test, y_pred))\n",
    "print('RMAE', round(RMAE, 2))"
   ]
  },
  {
   "cell_type": "markdown",
   "metadata": {},
   "source": [
    "### KNN"
   ]
  },
  {
   "cell_type": "code",
   "execution_count": null,
   "metadata": {},
   "outputs": [],
   "source": [
    "model = KNeighborsRegressor(10)\n",
    "model.fit(X_train, y_train)\n",
    "y_pred = model.predict(X_test)\n",
    "\n",
    "mae = mean_absolute_error(y_test, y_pred)\n",
    "print('MAE', round(mae, 2))"
   ]
  },
  {
   "cell_type": "markdown",
   "metadata": {},
   "source": [
    "### Decision Tree"
   ]
  },
  {
   "cell_type": "code",
   "execution_count": null,
   "metadata": {},
   "outputs": [],
   "source": [
    "model = DecisionTreeRegressor()\n",
    "model.fit(X_train, y_train)\n",
    "y_pred = model.predict(X_test)\n",
    "\n",
    "mae = mean_absolute_error(y_test, y_pred)\n",
    "print('MAE', round(mae, 2))"
   ]
  },
  {
   "cell_type": "markdown",
   "metadata": {},
   "source": [
    "# Experiments"
   ]
  },
  {
   "cell_type": "code",
   "execution_count": null,
   "metadata": {},
   "outputs": [],
   "source": [
    "# Ref.: https://github.com/arybressane/CEBD1260-BIG-DATA-ANALYTICS/blob/master/week5/regression-house-sklearn-ext-class-version.ipynb\n",
    "\n",
    "def model_training(model_name, model, X_train, y_train):\n",
    "    model.fit(X_train, y_train)\n",
    "    return model\n",
    "    \n",
    "def model_prediction(model, X_test):\n",
    "    y_pred = model.predict(X_test)\n",
    "    return y_pred\n",
    "\n",
    "def model_evaluation(model_name, y_test, y_pred):\n",
    "    print(model_name)\n",
    "    print('MAE', mean_absolute_error(y_test, y_pred))\n",
    "    print('RMSE', np.sqrt(mean_squared_error(y_test, y_pred)))\n",
    "    plt.scatter(y_test, y_pred, alpha=0.3)\n",
    "    plt.plot(range(0,5000000, 100), range(0,5000000, 100), '--r', alpha=0.3, label='Line1')\n",
    "    plt.title(model_name)\n",
    "    plt.xlabel('True Value')\n",
    "    plt.ylabel('Predict Value')\n",
    "    plt.xlim([0, 5000000])\n",
    "    plt.ylim([0, 5000000])\n",
    "    plt.show()\n",
    "    print('')\n",
    "\n",
    "def run_experiment(model_name, model, X_train, y_train, X_test):\n",
    "    train_model = model_training(model_name, model, X_train, y_train)\n",
    "    predictions = model_prediction(train_model, X_test)\n",
    "    model_evaluation(model_name, y_test, predictions)\n",
    "    \n",
    "run_experiment('Linear Regression', LinearRegression(), X_train, y_train, X_test)\n",
    "run_experiment('KNN 5', KNeighborsRegressor(5), X_train, y_train, X_test)\n",
    "run_experiment('KNN 2', KNeighborsRegressor(2), X_train, y_train, X_test)\n",
    "run_experiment('Decision Tree', DecisionTreeRegressor(), X_train, y_train, X_test)\n",
    "run_experiment('Random Forest 10', RandomForestRegressor(10), X_train, y_train, X_test)\n",
    "run_experiment('Random Forest 100', RandomForestRegressor(100), X_train, y_train, X_test)"
   ]
  },
  {
   "cell_type": "markdown",
   "metadata": {},
   "source": [
    "# Error Analysis"
   ]
  },
  {
   "cell_type": "code",
   "execution_count": null,
   "metadata": {},
   "outputs": [],
   "source": [
    "# Ref.: https://github.com/arybressane/CEBD1260-BIG-DATA-ANALYTICS/blob/master/week5/regression-house-sklearn-ext-class-version.ipynb\n",
    "\n",
    "model = RandomForestRegressor(100)\n",
    "model.fit(X_train, y_train)\n",
    "y_pred = model.predict(X_test)"
   ]
  },
  {
   "cell_type": "code",
   "execution_count": null,
   "metadata": {},
   "outputs": [],
   "source": [
    "#for i in range(len(X_test.columns)):\n",
    "fi = []\n",
    "for i, col in enumerate(X_test.columns):\n",
    "    fi.append([col, model.feature_importances_[i]])\n",
    "pd.DataFrame(fi).sort_values(1, ascending=False)"
   ]
  },
  {
   "cell_type": "code",
   "execution_count": null,
   "metadata": {},
   "outputs": [],
   "source": [
    "df_test = pd.DataFrame(X_test).copy()\n",
    "df_test['price'] = y_test\n",
    "df_test['prediction'] = y_pred\n",
    "df_test['abs_error'] = abs(df_test['price']-df_test['prediction'])\n",
    "df_test.sort_values(by='abs_error', ascending=False).round()"
   ]
  },
  {
   "cell_type": "code",
   "execution_count": null,
   "metadata": {},
   "outputs": [],
   "source": [
    "plt.hist(df_test['abs_error'], bins=30)\n",
    "plt.show()"
   ]
  },
  {
   "cell_type": "code",
   "execution_count": null,
   "metadata": {},
   "outputs": [],
   "source": [
    "df_error = df_test[df_test['abs_error']>0]\n",
    "df_error"
   ]
  },
  {
   "cell_type": "code",
   "execution_count": null,
   "metadata": {},
   "outputs": [],
   "source": [
    "df_error.describe()"
   ]
  },
  {
   "cell_type": "code",
   "execution_count": null,
   "metadata": {},
   "outputs": [],
   "source": [
    "df_error.corr()['abs_error'].dropna().sort_values()"
   ]
  },
  {
   "cell_type": "markdown",
   "metadata": {},
   "source": [
    "# Cross Validation"
   ]
  },
  {
   "cell_type": "code",
   "execution_count": null,
   "metadata": {},
   "outputs": [],
   "source": [
    "models = [\n",
    "    ('LinearRegression', LinearRegression()),\n",
    "    ('RandomForestRegressor10', RandomForestRegressor(n_estimators=10)),\n",
    "    ('RandomForestRegressor100', RandomForestRegressor(n_estimators=100, n_jobs=4)),\n",
    "    ('KNeighborsRegressor', KNeighborsRegressor()),\n",
    "    ('DecisionTreeRegressor', DecisionTreeRegressor())\n",
    "]\n",
    "\n",
    "k = 10\n",
    "results = {}\n",
    "for m in models:\n",
    "     print('MODEL', m[0])\n",
    "     results[m[0]] = {'mae':[], 'rmse':[]}\n",
    "     kf = KFold(n_splits=k)\n",
    "     for train_index, test_index in kf.split(X):\n",
    "         X_train_k, X_test_k = X.values[train_index], X.values[test_index]\n",
    "         y_train_k, y_test_k = y.values[train_index], y.values[test_index]\n",
    "        \n",
    "         model = m[1]\n",
    "         model.fit(X_train_k, y_train_k.ravel())\n",
    "         y_pred = model.predict(X_test_k)\n",
    "            \n",
    "         mae = mean_absolute_error(y_test_k, y_pred)\n",
    "         rmse = np.sqrt(mean_squared_error(y_test_k, y_pred))\n",
    "            \n",
    "         results[m[0]]['mae'].append(mae)\n",
    "         results[m[0]]['rmse'].append(rmse)"
   ]
  },
  {
   "cell_type": "code",
   "execution_count": null,
   "metadata": {},
   "outputs": [],
   "source": [
    "for metric in ['mae', 'rmse']:\n",
    "     values = []\n",
    "     labels = []\n",
    "     for model, result_values in results.items():\n",
    "         for m, v in result_values.items():\n",
    "             if m == metric:\n",
    "                 labels.append(model)\n",
    "                 values.append(v)\n",
    "                    \n",
    "     plt.figure(figsize=(12,6))\n",
    "     plt.title(metric)\n",
    "     plt.boxplot(values)\n",
    "     plt.xticks(range(1, len(labels)+1), labels, rotation='horizontal')\n",
    "     plt.show()"
   ]
  }
 ],
 "metadata": {
  "kernelspec": {
   "display_name": "Python 3",
   "language": "python",
   "name": "python3"
  },
  "language_info": {
   "codemirror_mode": {
    "name": "ipython",
    "version": 3
   },
   "file_extension": ".py",
   "mimetype": "text/x-python",
   "name": "python",
   "nbconvert_exporter": "python",
   "pygments_lexer": "ipython3",
   "version": "3.6.4"
  }
 },
 "nbformat": 4,
 "nbformat_minor": 2
}
