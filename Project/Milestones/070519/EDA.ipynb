{
 "cells": [
  {
   "cell_type": "markdown",
   "metadata": {},
   "source": [
    "# Exploratory Data Analysis (EDA) (Notebook 1_Week 3 Deliverable_Part2)"
   ]
  },
  {
   "cell_type": "markdown",
   "metadata": {},
   "source": [
    "### Import libraries"
   ]
  },
  {
   "cell_type": "code",
   "execution_count": 1,
   "metadata": {},
   "outputs": [],
   "source": [
    "# import the library\n",
    "%matplotlib inline\n",
    "\n",
    "import pandas as pd\n",
    "import numpy as np\n",
    "import scipy\n",
    "import matplotlib.pyplot as plt\n",
    "\n",
    "import calendar # for months bar chart\n",
    "\n",
    "# the more advanced python visualization library\n",
    "import seaborn as sns\n",
    "\n",
    "# apply style to all the charts\n",
    "sns.set_style('whitegrid')\n",
    "\n",
    "# convert scientific notation to decimals\n",
    "pd.set_option('display.float_format', lambda x: '%.2f' % x)"
   ]
  },
  {
   "cell_type": "markdown",
   "metadata": {},
   "source": [
    "### Loading clean Dataset"
   ]
  },
  {
   "cell_type": "code",
   "execution_count": 2,
   "metadata": {},
   "outputs": [],
   "source": [
    "# Load the data\n",
    "df = pd.read_csv('declarations-exterminations-punaises-de-lit-1.csv')"
   ]
  },
  {
   "cell_type": "markdown",
   "metadata": {},
   "source": [
    "#### Verify Datatype and make modifications"
   ]
  },
  {
   "cell_type": "code",
   "execution_count": 3,
   "metadata": {},
   "outputs": [
    {
     "name": "stdout",
     "output_type": "stream",
     "text": [
      "NO_DECLARATION        int64\n",
      "DATE_DECLARATION     object\n",
      "DATE_PRIOR_INSP      object\n",
      "EXT_FREQ            float64\n",
      "DATE_FIRST_EXT       object\n",
      "DATE_LAST_EXT        object\n",
      "HOOD_NUM             object\n",
      "HOOD_NAME            object\n",
      "BORO_NAME            object\n",
      "MTM8_X              float64\n",
      "MTM8_Y              float64\n",
      "LONGITUDE           float64\n",
      "LATITUDE            float64\n",
      "LONG_LAT             object\n",
      "MTM_X_Y              object\n",
      "DEC_MONTH             int64\n",
      "DEC_ISSUE             int64\n",
      "DATE_DIFF           float64\n",
      "dtype: object\n"
     ]
    }
   ],
   "source": [
    "print(df.dtypes)"
   ]
  },
  {
   "cell_type": "code",
   "execution_count": 4,
   "metadata": {},
   "outputs": [
    {
     "name": "stdout",
     "output_type": "stream",
     "text": [
      "NO_DECLARATION               int64\n",
      "DATE_DECLARATION    datetime64[ns]\n",
      "DATE_PRIOR_INSP     datetime64[ns]\n",
      "EXT_FREQ                   float64\n",
      "DATE_FIRST_EXT      datetime64[ns]\n",
      "DATE_LAST_EXT       datetime64[ns]\n",
      "HOOD_NUM                    object\n",
      "HOOD_NAME                   object\n",
      "BORO_NAME                   object\n",
      "MTM8_X                     float64\n",
      "MTM8_Y                     float64\n",
      "LONGITUDE                  float64\n",
      "LATITUDE                   float64\n",
      "LONG_LAT                    object\n",
      "MTM_X_Y                     object\n",
      "DEC_MONTH                    int64\n",
      "DEC_ISSUE                    int64\n",
      "DATE_DIFF                  float64\n",
      "dtype: object\n"
     ]
    }
   ],
   "source": [
    "# Convert 'DATE_INSP_VISPRE', 'DATE_DEBUTTRAIT', and 'DATE_FINTRAIT'\n",
    "df['DATE_PRIOR_INSP'] = pd.to_datetime(df['DATE_PRIOR_INSP'])\n",
    "df['DATE_FIRST_EXT'] = pd.to_datetime(df['DATE_FIRST_EXT'])\n",
    "df['DATE_LAST_EXT'] = pd.to_datetime(df['DATE_LAST_EXT'])\n",
    "df['DATE_DECLARATION'] = pd.to_datetime(df['DATE_DECLARATION'])\n",
    "print(df.dtypes)"
   ]
  },
  {
   "cell_type": "markdown",
   "metadata": {},
   "source": [
    "#### Dataframe summary"
   ]
  },
  {
   "cell_type": "code",
   "execution_count": 5,
   "metadata": {},
   "outputs": [
    {
     "name": "stdout",
     "output_type": "stream",
     "text": [
      "Bed bug extermination declarations\n",
      "\n",
      "==================COLUMNS==================\n",
      "Index(['NO_DECLARATION', 'DATE_DECLARATION', 'DATE_PRIOR_INSP', 'EXT_FREQ',\n",
      "       'DATE_FIRST_EXT', 'DATE_LAST_EXT', 'HOOD_NUM', 'HOOD_NAME', 'BORO_NAME',\n",
      "       'MTM8_X', 'MTM8_Y', 'LONGITUDE', 'LATITUDE', 'LONG_LAT', 'MTM_X_Y',\n",
      "       'DEC_MONTH', 'DEC_ISSUE', 'DATE_DIFF'],\n",
      "      dtype='object')\n",
      "\n",
      "==================HEAD==================\n",
      "   NO_DECLARATION DATE_DECLARATION DATE_PRIOR_INSP  EXT_FREQ DATE_FIRST_EXT  \\\n",
      "0            4254       2012-10-28      2012-09-21      1.00     2012-09-21   \n",
      "1             830       2011-09-16      2011-07-13      1.00     2011-07-27   \n",
      "2            1380       2011-11-08      2011-11-02      1.00     2011-11-07   \n",
      "3             455       2011-08-10      2011-08-09      1.00     2011-08-09   \n",
      "4            1243       2011-10-26      2011-09-16      1.00     2011-10-05   \n",
      "\n",
      "  DATE_LAST_EXT HOOD_NUM      HOOD_NAME                            BORO_NAME  \\\n",
      "0    2012-09-21       24     Beaurivage        Mercier–Hochelaga-Maisonneuve   \n",
      "1    2011-08-17       50    Saint-Henri                         Le Sud-Ouest   \n",
      "2    2011-11-21       30   Sainte-Marie                          Ville-Marie   \n",
      "3    2011-08-09       44  Upper Lachine  Côte-des-Neiges–Notre-Dame-de-Grâce   \n",
      "4    2011-10-05       19    Petite-Côte            Rosemont–La Petite-Patrie   \n",
      "\n",
      "     MTM8_X     MTM8_Y  LONGITUDE  LATITUDE                      LONG_LAT  \\\n",
      "0 303753.60 5049835.70     -73.51     45.59          -73.513411_45.588426   \n",
      "1 298119.80 5036963.70     -73.59     45.47          -73.585437_45.472569   \n",
      "2 300294.90 5042372.10     -73.56     45.52          -73.557668_45.521253   \n",
      "3 296046.90 5036494.90     -73.61     45.47          -73.611941_45.468327   \n",
      "4 299524.20 5045639.90     -73.57     45.55  -73.56756899999999_45.550652   \n",
      "\n",
      "              MTM_X_Y  DEC_MONTH  DEC_ISSUE  DATE_DIFF  \n",
      "0  303753.6_5049835.7         10          1      37.00  \n",
      "1  298119.8_5036963.7          9          1      65.00  \n",
      "2  300294.9_5042372.1         11          1       6.00  \n",
      "3  296046.9_5036494.9          8          1       1.00  \n",
      "4  299524.2_5045639.9         10          1      40.00  \n",
      "\n",
      "==================DESCRIBE==================\n",
      "       NO_DECLARATION  EXT_FREQ    MTM8_X     MTM8_Y  LONGITUDE  LATITUDE  \\\n",
      "count        33365.00  33365.00  33365.00   33365.00   33365.00  33365.00   \n",
      "mean         17119.47      1.46 297055.28 5044088.86     -73.60     45.54   \n",
      "std           9819.57      0.89   3664.67    4756.57       0.05      0.04   \n",
      "min            104.00      1.00 274266.10 5030733.00     -73.89     45.42   \n",
      "25%           8602.00      1.00 294841.50 5041950.60     -73.63     45.52   \n",
      "50%          17099.00      1.00 297627.30 5044129.10     -73.59     45.54   \n",
      "75%          25632.00      2.00 299638.40 5046434.50     -73.57     45.56   \n",
      "max          34130.00      4.00 306021.80 5062070.20     -73.48     45.70   \n",
      "\n",
      "       DEC_MONTH  DEC_ISSUE  DATE_DIFF  \n",
      "count   33365.00   33365.00   33357.00  \n",
      "mean        7.13       1.00      37.33  \n",
      "std         3.33       0.00      78.70  \n",
      "min         1.00       1.00    -348.00  \n",
      "25%         4.00       1.00       6.00  \n",
      "50%         8.00       1.00      15.00  \n",
      "75%        10.00       1.00      39.00  \n",
      "max        12.00       1.00    3737.00  \n"
     ]
    }
   ],
   "source": [
    "#print(df.shape)\n",
    "\n",
    "print('Bed bug extermination declarations')\n",
    "print('')\n",
    "print('==================COLUMNS==================')\n",
    "print(df.columns)\n",
    "print('')\n",
    "print('==================HEAD==================')\n",
    "print(df.head())\n",
    "print('')\n",
    "print('==================DESCRIBE==================')\n",
    "print(df.describe())"
   ]
  },
  {
   "cell_type": "code",
   "execution_count": 6,
   "metadata": {},
   "outputs": [
    {
     "name": "stdout",
     "output_type": "stream",
     "text": [
      "==================BORO_VALUE_COUNT==================\n",
      "Rosemont–La Petite-Patrie                   4320\n",
      "Villeray–Saint-Michel–Parc-Extension        4304\n",
      "Mercier–Hochelaga-Maisonneuve               4036\n",
      "Le Plateau-Mont-Royal                       3696\n",
      "Ville-Marie                                 3347\n",
      "Côte-des-Neiges–Notre-Dame-de-Grâce         2909\n",
      "Ahuntsic-Cartierville                       2695\n",
      "Montréal-Nord                               1754\n",
      "Le Sud-Ouest                                1251\n",
      "Saint-Laurent                               1116\n",
      "Saint-Léonard                                994\n",
      "Verdun                                       782\n",
      "Rivière-des-Prairies–Pointe-aux-Trembles     695\n",
      "LaSalle                                      521\n",
      "Lachine                                      361\n",
      "Anjou                                        304\n",
      "Outremont                                    145\n",
      "Pierrefonds-Roxboro                          117\n",
      "L'Île-Bizard–Sainte-Geneviève                 18\n",
      "Name: BORO_NAME, dtype: int64\n",
      "\n",
      "==================ANALYSIS==================\n",
      "max: 4320\n",
      "min: 18\n",
      "sum: 33365\n",
      "mean: 1756.0526315789473\n",
      "mean: 1756.05\n",
      "std: 1521.2930951793749\n",
      "std: 1521.29\n",
      "median: 1116.0\n",
      "count: 19\n"
     ]
    }
   ],
   "source": [
    "print('==================BORO_VALUE_COUNT==================')\n",
    "print(df['BORO_NAME'].value_counts())\n",
    "print('')\n",
    "print('==================ANALYSIS==================')\n",
    "print('max:',np.max(df['BORO_NAME'].value_counts()))\n",
    "print('min:',np.min(df['BORO_NAME'].value_counts()))\n",
    "print('sum:',np.sum(df['BORO_NAME'].value_counts()))\n",
    "print('mean:',np.mean(df['BORO_NAME'].value_counts()))\n",
    "print('mean:',np.round(np.mean(df['BORO_NAME'].value_counts()),2))\n",
    "print('std:',np.std(df['BORO_NAME'].value_counts()))\n",
    "print('std:',np.round(np.std(df['BORO_NAME'].value_counts()),2))\n",
    "print('median:',np.median(df['BORO_NAME'].value_counts()))\n",
    "print ('count:',df['BORO_NAME'].value_counts().count())"
   ]
  },
  {
   "cell_type": "markdown",
   "metadata": {},
   "source": [
    "#### Create Declaration date Month and Year Columns"
   ]
  },
  {
   "cell_type": "code",
   "execution_count": 16,
   "metadata": {},
   "outputs": [],
   "source": [
    "#We have this for month:\n",
    "df['DEC_MONTH'] = pd.DatetimeIndex(df['DATE_DECLARATION']).month\n",
    "df['DEC_YEAR'] = pd.DatetimeIndex(df['DATE_DECLARATION']).year"
   ]
  },
  {
   "cell_type": "markdown",
   "metadata": {},
   "source": [
    "#### Correletation"
   ]
  },
  {
   "cell_type": "code",
   "execution_count": 7,
   "metadata": {},
   "outputs": [
    {
     "name": "stdout",
     "output_type": "stream",
     "text": [
      "==================CORR==================\n",
      "Corr:                 NO_DECLARATION  EXT_FREQ  MTM8_X  MTM8_Y  LONGITUDE  LATITUDE  \\\n",
      "NO_DECLARATION            1.00     -0.05   -0.05   -0.00      -0.05     -0.00   \n",
      "EXT_FREQ                 -0.05      1.00    0.02    0.01       0.02      0.01   \n",
      "MTM8_X                   -0.05      0.02    1.00    0.22       1.00      0.22   \n",
      "MTM8_Y                   -0.00      0.01    0.22    1.00       0.22      1.00   \n",
      "LONGITUDE                -0.05      0.02    1.00    0.22       1.00      0.22   \n",
      "LATITUDE                 -0.00      0.01    0.22    1.00       0.22      1.00   \n",
      "DEC_MONTH                 0.08     -0.05   -0.00    0.02      -0.00      0.02   \n",
      "DEC_ISSUE                  nan       nan     nan     nan        nan       nan   \n",
      "DATE_DIFF                 0.11     -0.03   -0.07    0.01      -0.07      0.01   \n",
      "\n",
      "                DEC_MONTH  DEC_ISSUE  DATE_DIFF  \n",
      "NO_DECLARATION       0.08        nan       0.11  \n",
      "EXT_FREQ            -0.05        nan      -0.03  \n",
      "MTM8_X              -0.00        nan      -0.07  \n",
      "MTM8_Y               0.02        nan       0.01  \n",
      "LONGITUDE           -0.00        nan      -0.07  \n",
      "LATITUDE             0.02        nan       0.01  \n",
      "DEC_MONTH            1.00        nan       0.05  \n",
      "DEC_ISSUE             nan        nan        nan  \n",
      "DATE_DIFF            0.05        nan       1.00  \n"
     ]
    }
   ],
   "source": [
    "print('==================CORR==================')\n",
    "print('Corr:',df.corr())"
   ]
  },
  {
   "cell_type": "markdown",
   "metadata": {},
   "source": [
    "# Data Perspective\n",
    "- One variable\n",
    "    - Numeric variables\n",
    "    - Categorical variables\n",
    "Business Perspective"
   ]
  },
  {
   "cell_type": "markdown",
   "metadata": {},
   "source": [
    "## One Variable (numeric)"
   ]
  },
  {
   "cell_type": "code",
   "execution_count": 34,
   "metadata": {},
   "outputs": [
    {
     "name": "stdout",
     "output_type": "stream",
     "text": [
      "==================DESCRIBE==================\n",
      "count   33357.00\n",
      "mean       37.00\n",
      "std        79.00\n",
      "min      -348.00\n",
      "25%         6.00\n",
      "50%        15.00\n",
      "75%        39.00\n",
      "max      3737.00\n",
      "Name: DATE_DIFF, dtype: float64\n",
      "\n"
     ]
    },
    {
     "name": "stderr",
     "output_type": "stream",
     "text": [
      "C:\\Users\\outpost\\Anaconda3\\lib\\site-packages\\numpy\\core\\_methods.py:29: RuntimeWarning: invalid value encountered in reduce\n",
      "  return umr_minimum(a, axis, None, out, keepdims)\n",
      "C:\\Users\\outpost\\Anaconda3\\lib\\site-packages\\numpy\\core\\_methods.py:26: RuntimeWarning: invalid value encountered in reduce\n",
      "  return umr_maximum(a, axis, None, out, keepdims)\n"
     ]
    },
    {
     "ename": "ValueError",
     "evalue": "max must be larger than min in range parameter.",
     "output_type": "error",
     "traceback": [
      "\u001b[1;31m---------------------------------------------------------------------------\u001b[0m",
      "\u001b[1;31mValueError\u001b[0m                                Traceback (most recent call last)",
      "\u001b[1;32m<ipython-input-34-c07a4f749ce7>\u001b[0m in \u001b[0;36m<module>\u001b[1;34m()\u001b[0m\n\u001b[0;32m      7\u001b[0m \u001b[1;33m\u001b[0m\u001b[0m\n\u001b[0;32m      8\u001b[0m \u001b[1;33m\u001b[0m\u001b[0m\n\u001b[1;32m----> 9\u001b[1;33m \u001b[0mplt\u001b[0m\u001b[1;33m.\u001b[0m\u001b[0mhist\u001b[0m\u001b[1;33m(\u001b[0m\u001b[0mdf\u001b[0m\u001b[1;33m[\u001b[0m\u001b[1;34m'DATE_DIFF'\u001b[0m\u001b[1;33m]\u001b[0m\u001b[1;33m,\u001b[0m \u001b[0mbins\u001b[0m\u001b[1;33m=\u001b[0m\u001b[1;36m50\u001b[0m\u001b[1;33m)\u001b[0m\u001b[1;33m\u001b[0m\u001b[0m\n\u001b[0m\u001b[0;32m     10\u001b[0m \u001b[0mplt\u001b[0m\u001b[1;33m.\u001b[0m\u001b[0mshow\u001b[0m\u001b[1;33m(\u001b[0m\u001b[1;33m)\u001b[0m\u001b[1;33m\u001b[0m\u001b[0m\n\u001b[0;32m     11\u001b[0m \u001b[1;33m\u001b[0m\u001b[0m\n",
      "\u001b[1;32m~\\Anaconda3\\lib\\site-packages\\matplotlib\\pyplot.py\u001b[0m in \u001b[0;36mhist\u001b[1;34m(x, bins, range, density, weights, cumulative, bottom, histtype, align, orientation, rwidth, log, color, label, stacked, normed, hold, data, **kwargs)\u001b[0m\n\u001b[0;32m   3023\u001b[0m                       \u001b[0mhisttype\u001b[0m\u001b[1;33m=\u001b[0m\u001b[0mhisttype\u001b[0m\u001b[1;33m,\u001b[0m \u001b[0malign\u001b[0m\u001b[1;33m=\u001b[0m\u001b[0malign\u001b[0m\u001b[1;33m,\u001b[0m \u001b[0morientation\u001b[0m\u001b[1;33m=\u001b[0m\u001b[0morientation\u001b[0m\u001b[1;33m,\u001b[0m\u001b[1;33m\u001b[0m\u001b[0m\n\u001b[0;32m   3024\u001b[0m                       \u001b[0mrwidth\u001b[0m\u001b[1;33m=\u001b[0m\u001b[0mrwidth\u001b[0m\u001b[1;33m,\u001b[0m \u001b[0mlog\u001b[0m\u001b[1;33m=\u001b[0m\u001b[0mlog\u001b[0m\u001b[1;33m,\u001b[0m \u001b[0mcolor\u001b[0m\u001b[1;33m=\u001b[0m\u001b[0mcolor\u001b[0m\u001b[1;33m,\u001b[0m \u001b[0mlabel\u001b[0m\u001b[1;33m=\u001b[0m\u001b[0mlabel\u001b[0m\u001b[1;33m,\u001b[0m\u001b[1;33m\u001b[0m\u001b[0m\n\u001b[1;32m-> 3025\u001b[1;33m                       stacked=stacked, normed=normed, data=data, **kwargs)\n\u001b[0m\u001b[0;32m   3026\u001b[0m     \u001b[1;32mfinally\u001b[0m\u001b[1;33m:\u001b[0m\u001b[1;33m\u001b[0m\u001b[0m\n\u001b[0;32m   3027\u001b[0m         \u001b[0max\u001b[0m\u001b[1;33m.\u001b[0m\u001b[0m_hold\u001b[0m \u001b[1;33m=\u001b[0m \u001b[0mwashold\u001b[0m\u001b[1;33m\u001b[0m\u001b[0m\n",
      "\u001b[1;32m~\\Anaconda3\\lib\\site-packages\\matplotlib\\__init__.py\u001b[0m in \u001b[0;36minner\u001b[1;34m(ax, *args, **kwargs)\u001b[0m\n\u001b[0;32m   1715\u001b[0m                     warnings.warn(msg % (label_namer, func.__name__),\n\u001b[0;32m   1716\u001b[0m                                   RuntimeWarning, stacklevel=2)\n\u001b[1;32m-> 1717\u001b[1;33m             \u001b[1;32mreturn\u001b[0m \u001b[0mfunc\u001b[0m\u001b[1;33m(\u001b[0m\u001b[0max\u001b[0m\u001b[1;33m,\u001b[0m \u001b[1;33m*\u001b[0m\u001b[0margs\u001b[0m\u001b[1;33m,\u001b[0m \u001b[1;33m**\u001b[0m\u001b[0mkwargs\u001b[0m\u001b[1;33m)\u001b[0m\u001b[1;33m\u001b[0m\u001b[0m\n\u001b[0m\u001b[0;32m   1718\u001b[0m         \u001b[0mpre_doc\u001b[0m \u001b[1;33m=\u001b[0m \u001b[0minner\u001b[0m\u001b[1;33m.\u001b[0m\u001b[0m__doc__\u001b[0m\u001b[1;33m\u001b[0m\u001b[0m\n\u001b[0;32m   1719\u001b[0m         \u001b[1;32mif\u001b[0m \u001b[0mpre_doc\u001b[0m \u001b[1;32mis\u001b[0m \u001b[1;32mNone\u001b[0m\u001b[1;33m:\u001b[0m\u001b[1;33m\u001b[0m\u001b[0m\n",
      "\u001b[1;32m~\\Anaconda3\\lib\\site-packages\\matplotlib\\axes\\_axes.py\u001b[0m in \u001b[0;36mhist\u001b[1;34m(***failed resolving arguments***)\u001b[0m\n\u001b[0;32m   6163\u001b[0m             \u001b[1;31m# this will automatically overwrite bins,\u001b[0m\u001b[1;33m\u001b[0m\u001b[1;33m\u001b[0m\u001b[0m\n\u001b[0;32m   6164\u001b[0m             \u001b[1;31m# so that each histogram uses the same bins\u001b[0m\u001b[1;33m\u001b[0m\u001b[1;33m\u001b[0m\u001b[0m\n\u001b[1;32m-> 6165\u001b[1;33m             \u001b[0mm\u001b[0m\u001b[1;33m,\u001b[0m \u001b[0mbins\u001b[0m \u001b[1;33m=\u001b[0m \u001b[0mnp\u001b[0m\u001b[1;33m.\u001b[0m\u001b[0mhistogram\u001b[0m\u001b[1;33m(\u001b[0m\u001b[0mx\u001b[0m\u001b[1;33m[\u001b[0m\u001b[0mi\u001b[0m\u001b[1;33m]\u001b[0m\u001b[1;33m,\u001b[0m \u001b[0mbins\u001b[0m\u001b[1;33m,\u001b[0m \u001b[0mweights\u001b[0m\u001b[1;33m=\u001b[0m\u001b[0mw\u001b[0m\u001b[1;33m[\u001b[0m\u001b[0mi\u001b[0m\u001b[1;33m]\u001b[0m\u001b[1;33m,\u001b[0m \u001b[1;33m**\u001b[0m\u001b[0mhist_kwargs\u001b[0m\u001b[1;33m)\u001b[0m\u001b[1;33m\u001b[0m\u001b[0m\n\u001b[0m\u001b[0;32m   6166\u001b[0m             \u001b[0mm\u001b[0m \u001b[1;33m=\u001b[0m \u001b[0mm\u001b[0m\u001b[1;33m.\u001b[0m\u001b[0mastype\u001b[0m\u001b[1;33m(\u001b[0m\u001b[0mfloat\u001b[0m\u001b[1;33m)\u001b[0m  \u001b[1;31m# causes problems later if it's an int\u001b[0m\u001b[1;33m\u001b[0m\u001b[0m\n\u001b[0;32m   6167\u001b[0m             \u001b[1;32mif\u001b[0m \u001b[0mmlast\u001b[0m \u001b[1;32mis\u001b[0m \u001b[1;32mNone\u001b[0m\u001b[1;33m:\u001b[0m\u001b[1;33m\u001b[0m\u001b[0m\n",
      "\u001b[1;32m~\\Anaconda3\\lib\\site-packages\\numpy\\lib\\function_base.py\u001b[0m in \u001b[0;36mhistogram\u001b[1;34m(a, bins, range, normed, weights, density)\u001b[0m\n\u001b[0;32m    665\u001b[0m     \u001b[1;32mif\u001b[0m \u001b[0mfirst_edge\u001b[0m \u001b[1;33m>\u001b[0m \u001b[0mlast_edge\u001b[0m\u001b[1;33m:\u001b[0m\u001b[1;33m\u001b[0m\u001b[0m\n\u001b[0;32m    666\u001b[0m         raise ValueError(\n\u001b[1;32m--> 667\u001b[1;33m             'max must be larger than min in range parameter.')\n\u001b[0m\u001b[0;32m    668\u001b[0m     \u001b[1;32mif\u001b[0m \u001b[1;32mnot\u001b[0m \u001b[0mnp\u001b[0m\u001b[1;33m.\u001b[0m\u001b[0mall\u001b[0m\u001b[1;33m(\u001b[0m\u001b[0mnp\u001b[0m\u001b[1;33m.\u001b[0m\u001b[0misfinite\u001b[0m\u001b[1;33m(\u001b[0m\u001b[1;33m[\u001b[0m\u001b[0mfirst_edge\u001b[0m\u001b[1;33m,\u001b[0m \u001b[0mlast_edge\u001b[0m\u001b[1;33m]\u001b[0m\u001b[1;33m)\u001b[0m\u001b[1;33m)\u001b[0m\u001b[1;33m:\u001b[0m\u001b[1;33m\u001b[0m\u001b[0m\n\u001b[0;32m    669\u001b[0m         raise ValueError(\n",
      "\u001b[1;31mValueError\u001b[0m: max must be larger than min in range parameter."
     ]
    },
    {
     "data": {
      "image/png": "[encoded data removed]",
      "text/plain": [
       "<matplotlib.figure.Figure at 0xc0300f0>"
      ]
     },
     "metadata": {},
     "output_type": "display_data"
    }
   ],
   "source": [
    "# Analyzing number of days between declaration and inspection\n",
    "\n",
    "# Histogram\n",
    "print('==================DESCRIBE==================')\n",
    "print(df['DATE_DIFF'].describe().round())\n",
    "print('')\n",
    "\n",
    "\n",
    "plt.hist(df['DATE_DIFF'], bins=50)\n",
    "plt.show()\n",
    "\n",
    "# Box plot\n",
    "#plt.boxplot(df['DEC_ISSUE'])\n",
    "#plt.xticks([1], df['DEC_ISSUE'], rotation='horizontal')\n",
    "#plt.show()"
   ]
  },
  {
   "cell_type": "code",
   "execution_count": 9,
   "metadata": {},
   "outputs": [],
   "source": [
    "#TODO: Analyze all the numerical variables"
   ]
  },
  {
   "cell_type": "markdown",
   "metadata": {},
   "source": [
    "## One Variable (categorical)"
   ]
  },
  {
   "cell_type": "markdown",
   "metadata": {},
   "source": [
    "### Boroughs"
   ]
  },
  {
   "cell_type": "code",
   "execution_count": 10,
   "metadata": {},
   "outputs": [
    {
     "name": "stdout",
     "output_type": "stream",
     "text": [
      "==================BORO_DESC==================\n",
      "Rosemont–La Petite-Patrie                   4320\n",
      "Villeray–Saint-Michel–Parc-Extension        4304\n",
      "Mercier–Hochelaga-Maisonneuve               4036\n",
      "Le Plateau-Mont-Royal                       3696\n",
      "Ville-Marie                                 3347\n",
      "Côte-des-Neiges–Notre-Dame-de-Grâce         2909\n",
      "Ahuntsic-Cartierville                       2695\n",
      "Montréal-Nord                               1754\n",
      "Le Sud-Ouest                                1251\n",
      "Saint-Laurent                               1116\n",
      "Saint-Léonard                                994\n",
      "Verdun                                       782\n",
      "Rivière-des-Prairies–Pointe-aux-Trembles     695\n",
      "LaSalle                                      521\n",
      "Lachine                                      361\n",
      "Anjou                                        304\n",
      "Outremont                                    145\n",
      "Pierrefonds-Roxboro                          117\n",
      "L'Île-Bizard–Sainte-Geneviève                 18\n",
      "Name: BORO_NAME, dtype: int64\n",
      "\n",
      "==================TOP_4==================\n",
      "First 4 locations represent 49.0 % of total declarations counts\n",
      "\n"
     ]
    },
    {
     "data": {
      "image/png": "[encoded data removed]",
      "text/plain": [
       "<matplotlib.figure.Figure at 0xb9764a8>"
      ]
     },
     "metadata": {},
     "output_type": "display_data"
    }
   ],
   "source": [
    "# Ref. : https://pythonspot.com/matplotlib-bar-chart/\n",
    "# Ref. : https://python-graph-gallery.com/2-horizontal-barplot/\n",
    "\n",
    "# Analyze by borough distribution with horizontal bar chart\n",
    "print('==================BORO_DESC==================')\n",
    "print(df['BORO_NAME'].value_counts())\n",
    "print('')\n",
    "\n",
    "print('==================TOP_4==================')\n",
    "print( 'First 4 locations represent '+str( round((df['BORO_NAME'].value_counts()[0]\n",
    "             +df['BORO_NAME'].value_counts()[1]\n",
    "             +df['BORO_NAME'].value_counts()[2]\n",
    "             +df['BORO_NAME'].value_counts()[3])\n",
    "           /(df['BORO_NAME'].value_counts()).sum()*100 ))  + ' % of total declarations counts')\n",
    "print('')\n",
    "\n",
    "# Bar Chart\n",
    "plt.figure(figsize=(12,6))\n",
    "plt.title('Top 10 Boroughs By Declaration')\n",
    "\n",
    "labels = df['BORO_NAME'].value_counts().head(10).index\n",
    "values = df['BORO_NAME'].value_counts().head(10).values\n",
    "\n",
    "y_pos = range(len(labels))\n",
    "\n",
    "plt.barh(y_pos, values, align='center', alpha=0.5)\n",
    "plt.yticks(y_pos, labels)\n",
    "\n",
    "plt.ylabel('Boroughs')\n",
    "plt.xlabel('Declarations')\n",
    "\n",
    "\n",
    "plt.show()"
   ]
  },
  {
   "cell_type": "code",
   "execution_count": 11,
   "metadata": {},
   "outputs": [
    {
     "name": "stdout",
     "output_type": "stream",
     "text": [
      "==================BORO_DESC==================\n"
     ]
    },
    {
     "data": {
      "text/html": [
       "<div>\n",
       "<style scoped>\n",
       "    .dataframe tbody tr th:only-of-type {\n",
       "        vertical-align: middle;\n",
       "    }\n",
       "\n",
       "    .dataframe tbody tr th {\n",
       "        vertical-align: top;\n",
       "    }\n",
       "\n",
       "    .dataframe thead th {\n",
       "        text-align: right;\n",
       "    }\n",
       "</style>\n",
       "<table border=\"1\" class=\"dataframe\">\n",
       "  <thead>\n",
       "    <tr style=\"text-align: right;\">\n",
       "      <th></th>\n",
       "      <th>EXT_QT</th>\n",
       "      <th>DECL_QT</th>\n",
       "    </tr>\n",
       "    <tr>\n",
       "      <th>BORO_NAME</th>\n",
       "      <th></th>\n",
       "      <th></th>\n",
       "    </tr>\n",
       "  </thead>\n",
       "  <tbody>\n",
       "    <tr>\n",
       "      <th>Rosemont–La Petite-Patrie</th>\n",
       "      <td>6571.00</td>\n",
       "      <td>4320</td>\n",
       "    </tr>\n",
       "    <tr>\n",
       "      <th>Villeray–Saint-Michel–Parc-Extension</th>\n",
       "      <td>6197.00</td>\n",
       "      <td>4304</td>\n",
       "    </tr>\n",
       "    <tr>\n",
       "      <th>Mercier–Hochelaga-Maisonneuve</th>\n",
       "      <td>6005.00</td>\n",
       "      <td>4036</td>\n",
       "    </tr>\n",
       "    <tr>\n",
       "      <th>Le Plateau-Mont-Royal</th>\n",
       "      <td>5690.00</td>\n",
       "      <td>3696</td>\n",
       "    </tr>\n",
       "    <tr>\n",
       "      <th>Ville-Marie</th>\n",
       "      <td>5031.00</td>\n",
       "      <td>3347</td>\n",
       "    </tr>\n",
       "    <tr>\n",
       "      <th>Côte-des-Neiges–Notre-Dame-de-Grâce</th>\n",
       "      <td>4196.00</td>\n",
       "      <td>2909</td>\n",
       "    </tr>\n",
       "    <tr>\n",
       "      <th>Ahuntsic-Cartierville</th>\n",
       "      <td>3719.00</td>\n",
       "      <td>2695</td>\n",
       "    </tr>\n",
       "    <tr>\n",
       "      <th>Montréal-Nord</th>\n",
       "      <td>2476.00</td>\n",
       "      <td>1754</td>\n",
       "    </tr>\n",
       "    <tr>\n",
       "      <th>Le Sud-Ouest</th>\n",
       "      <td>1715.00</td>\n",
       "      <td>1251</td>\n",
       "    </tr>\n",
       "    <tr>\n",
       "      <th>Saint-Laurent</th>\n",
       "      <td>1706.00</td>\n",
       "      <td>1116</td>\n",
       "    </tr>\n",
       "  </tbody>\n",
       "</table>\n",
       "</div>"
      ],
      "text/plain": [
       "                                      EXT_QT  DECL_QT\n",
       "BORO_NAME                                            \n",
       "Rosemont–La Petite-Patrie            6571.00     4320\n",
       "Villeray–Saint-Michel–Parc-Extension 6197.00     4304\n",
       "Mercier–Hochelaga-Maisonneuve        6005.00     4036\n",
       "Le Plateau-Mont-Royal                5690.00     3696\n",
       "Ville-Marie                          5031.00     3347\n",
       "Côte-des-Neiges–Notre-Dame-de-Grâce  4196.00     2909\n",
       "Ahuntsic-Cartierville                3719.00     2695\n",
       "Montréal-Nord                        2476.00     1754\n",
       "Le Sud-Ouest                         1715.00     1251\n",
       "Saint-Laurent                        1706.00     1116"
      ]
     },
     "execution_count": 11,
     "metadata": {},
     "output_type": "execute_result"
    }
   ],
   "source": [
    "# Ref. : https://pythonspot.com/matplotlib-bar-chart/\n",
    "# Ref. : https://python-graph-gallery.com/2-horizontal-barplot/\n",
    "\n",
    "# Analyze by borough distribution with horizontal bar chart\n",
    "print('==================BORO_DESC==================')\n",
    "((df.groupby(['BORO_NAME'])\n",
    "       .agg({'EXT_FREQ': sum, 'NO_DECLARATION':'count'}))\n",
    "       .sort_values(by = ['EXT_FREQ','NO_DECLARATION'],ascending=False)\n",
    "       .rename(columns={'EXT_FREQ':'EXT_QT','NO_DECLARATION':'DECL_QT'})\n",
    "       .head(10))\n"
   ]
  },
  {
   "cell_type": "markdown",
   "metadata": {},
   "source": [
    "For boroughs orders in descending order based on extermination reports, the order remains unchanged when descending based on the number of declarations."
   ]
  },
  {
   "cell_type": "markdown",
   "metadata": {},
   "source": [
    "### Neighborhoods"
   ]
  },
  {
   "cell_type": "code",
   "execution_count": 12,
   "metadata": {},
   "outputs": [
    {
     "name": "stdout",
     "output_type": "stream",
     "text": [
      "==================TOP_10_HOOD==================\n",
      "Sainte-Marie      1730\n",
      "Crémazie          1205\n",
      "Parc-Extension    1171\n",
      "Maisonneuve       1150\n",
      "Lorimier           964\n",
      "Vieux-Rosemont     938\n",
      "Est                866\n",
      "Père-Marquette     800\n",
      "Cartierville       793\n",
      "Montagne           792\n",
      "Name: HOOD_NAME, dtype: int64\n",
      "\n",
      "==================TOP_4==================\n",
      "First 4 locations represent 24.0 % of total declarations counts\n",
      "\n"
     ]
    },
    {
     "data": {
      "image/png": "[encoded data removed]",
      "text/plain": [
       "<matplotlib.figure.Figure at 0xb94c160>"
      ]
     },
     "metadata": {},
     "output_type": "display_data"
    }
   ],
   "source": [
    "# Analyze Neighborhood distribution\n",
    "print('==================TOP_10_HOOD==================')\n",
    "print(df['HOOD_NAME'].value_counts().head(10))\n",
    "print('')\n",
    "\n",
    "print('==================TOP_4==================')\n",
    "print( 'First 4 locations represent '+str( round((df['BORO_NAME'].value_counts()[0]\n",
    "             +df['HOOD_NAME'].value_counts()[1]\n",
    "             +df['HOOD_NAME'].value_counts()[2]\n",
    "             +df['HOOD_NAME'].value_counts()[3])\n",
    "           /(df['HOOD_NAME'].value_counts()).sum()*100 ))  + ' % of total declarations counts')\n",
    "print('')\n",
    "\n",
    "# Bar Chart\n",
    "plt.figure(figsize=(12,6))\n",
    "plt.title('Top 10 Neighborhoods By Declaration')\n",
    "\n",
    "plt.ylabel('Neighborhoods')\n",
    "plt.xlabel('Declarations')\n",
    "\n",
    "labels = df['HOOD_NAME'].value_counts().head(10).index\n",
    "values = df['HOOD_NAME'].value_counts().head(10).values\n",
    "\n",
    "y_pos = range(len(labels))\n",
    "\n",
    "plt.barh(y_pos, values, align='center', alpha=0.5)\n",
    "plt.yticks(y_pos, labels)\n",
    "\n",
    "plt.show()"
   ]
  },
  {
   "cell_type": "code",
   "execution_count": 13,
   "metadata": {},
   "outputs": [
    {
     "name": "stdout",
     "output_type": "stream",
     "text": [
      "==================TOP_10_HOOD==================\n"
     ]
    },
    {
     "data": {
      "text/html": [
       "<div>\n",
       "<style scoped>\n",
       "    .dataframe tbody tr th:only-of-type {\n",
       "        vertical-align: middle;\n",
       "    }\n",
       "\n",
       "    .dataframe tbody tr th {\n",
       "        vertical-align: top;\n",
       "    }\n",
       "\n",
       "    .dataframe thead th {\n",
       "        text-align: right;\n",
       "    }\n",
       "</style>\n",
       "<table border=\"1\" class=\"dataframe\">\n",
       "  <thead>\n",
       "    <tr style=\"text-align: right;\">\n",
       "      <th></th>\n",
       "      <th>EXT_QT</th>\n",
       "      <th>DECL_QT</th>\n",
       "    </tr>\n",
       "    <tr>\n",
       "      <th>HOOD_NAME</th>\n",
       "      <th></th>\n",
       "      <th></th>\n",
       "    </tr>\n",
       "  </thead>\n",
       "  <tbody>\n",
       "    <tr>\n",
       "      <th>Sainte-Marie</th>\n",
       "      <td>2854.00</td>\n",
       "      <td>1730</td>\n",
       "    </tr>\n",
       "    <tr>\n",
       "      <th>Crémazie</th>\n",
       "      <td>1953.00</td>\n",
       "      <td>1205</td>\n",
       "    </tr>\n",
       "    <tr>\n",
       "      <th>Maisonneuve</th>\n",
       "      <td>1763.00</td>\n",
       "      <td>1150</td>\n",
       "    </tr>\n",
       "    <tr>\n",
       "      <th>Parc-Extension</th>\n",
       "      <td>1534.00</td>\n",
       "      <td>1171</td>\n",
       "    </tr>\n",
       "    <tr>\n",
       "      <th>Lorimier</th>\n",
       "      <td>1399.00</td>\n",
       "      <td>964</td>\n",
       "    </tr>\n",
       "    <tr>\n",
       "      <th>Père-Marquette</th>\n",
       "      <td>1392.00</td>\n",
       "      <td>800</td>\n",
       "    </tr>\n",
       "    <tr>\n",
       "      <th>Vieux-Rosemont</th>\n",
       "      <td>1319.00</td>\n",
       "      <td>938</td>\n",
       "    </tr>\n",
       "    <tr>\n",
       "      <th>Est</th>\n",
       "      <td>1216.00</td>\n",
       "      <td>866</td>\n",
       "    </tr>\n",
       "    <tr>\n",
       "      <th>Parc-Laurier</th>\n",
       "      <td>1213.00</td>\n",
       "      <td>670</td>\n",
       "    </tr>\n",
       "    <tr>\n",
       "      <th>Hochelaga</th>\n",
       "      <td>1143.00</td>\n",
       "      <td>767</td>\n",
       "    </tr>\n",
       "  </tbody>\n",
       "</table>\n",
       "</div>"
      ],
      "text/plain": [
       "                EXT_QT  DECL_QT\n",
       "HOOD_NAME                      \n",
       "Sainte-Marie   2854.00     1730\n",
       "Crémazie       1953.00     1205\n",
       "Maisonneuve    1763.00     1150\n",
       "Parc-Extension 1534.00     1171\n",
       "Lorimier       1399.00      964\n",
       "Père-Marquette 1392.00      800\n",
       "Vieux-Rosemont 1319.00      938\n",
       "Est            1216.00      866\n",
       "Parc-Laurier   1213.00      670\n",
       "Hochelaga      1143.00      767"
      ]
     },
     "execution_count": 13,
     "metadata": {},
     "output_type": "execute_result"
    }
   ],
   "source": [
    "# Analyze Neighborhood distribution\n",
    "print('==================TOP_10_HOOD==================')\n",
    "((df.groupby(['HOOD_NAME'])\n",
    "       .agg({'EXT_FREQ': sum, 'NO_DECLARATION':'count'}))\n",
    "       .sort_values(by = ['EXT_FREQ','NO_DECLARATION'],ascending=False)\n",
    "       .rename(columns={'EXT_FREQ':'EXT_QT','NO_DECLARATION':'DECL_QT'})\n",
    "       .head(10))"
   ]
  },
  {
   "cell_type": "markdown",
   "metadata": {},
   "source": [
    "The order for neighborhoods is different when descending based based on extermination reports rather than the number of declarations."
   ]
  },
  {
   "cell_type": "markdown",
   "metadata": {},
   "source": [
    "When comparing the results between boroughs and neighborhoods, the number of exterminations reports per declaration is more apparent at the neighborhood level. Specifically, it is possible to have more reports for a neighborhood, while having fewer exterminations reports. This is not apparent at the borough level."
   ]
  },
  {
   "cell_type": "markdown",
   "metadata": {},
   "source": [
    "### Months"
   ]
  },
  {
   "cell_type": "code",
   "execution_count": 35,
   "metadata": {},
   "outputs": [
    {
     "name": "stdout",
     "output_type": "stream",
     "text": [
      "==================DECLARATION_BY_MONTH_DESC==================\n",
      "10    4022\n",
      "9     3671\n",
      "11    3379\n",
      "7     3217\n",
      "8     3202\n",
      "12    2703\n",
      "6     2552\n",
      "2     2264\n",
      "3     2186\n",
      "5     2069\n",
      "4     2069\n",
      "1     2031\n",
      "Name: DEC_MONTH, dtype: int64\n",
      "\n"
     ]
    },
    {
     "data": {
      "image/png": "[encoded data removed]",
      "text/plain": [
       "<matplotlib.figure.Figure at 0xba6fdd8>"
      ]
     },
     "metadata": {},
     "output_type": "display_data"
    }
   ],
   "source": [
    "# Analyze Months distribution from declaration\n",
    "print('==================DECLARATION_BY_MONTH_DESC==================')\n",
    "print( (df['DEC_MONTH'].value_counts()) )\n",
    "print('')\n",
    "\n",
    "# Bar Chart\n",
    "\n",
    "df['DEC_MONTH'] = df['DEC_MONTH'].apply(lambda x: calendar.month_abbr[x])\n",
    "\n",
    "plt.figure(figsize=(12,6))\n",
    "plt.title('Declarations by Month')\n",
    "plt.xlabel('Month')\n",
    "plt.ylabel('Declarations')\n",
    "\n",
    "labels = df['DEC_MONTH'].value_counts().head(12).index\n",
    "values = df['DEC_MONTH'].value_counts().head(12).values\n",
    "\n",
    "y_pos = range(len(labels))\n",
    "plt.bar(y_pos, values, align='center', alpha=0.5)\n",
    "plt.xticks(y_pos, labels)\n",
    "plt.show()"
   ]
  },
  {
   "cell_type": "markdown",
   "metadata": {},
   "source": [
    "### Intersections"
   ]
  },
  {
   "cell_type": "code",
   "execution_count": 16,
   "metadata": {},
   "outputs": [
    {
     "name": "stdout",
     "output_type": "stream",
     "text": [
      "==================TOP_10_INTERSECTIONS_BASED_ON_LONG_LAT==================\n",
      "-73.571239_45.584338                     264\n",
      "-73.659233_45.569024                     181\n",
      "-73.620588_45.551456                     151\n",
      "-73.582592_45.49409                      148\n",
      "-73.68714399999999_45.518173             139\n",
      "-73.58043_45.492816999999995             136\n",
      "-73.60591600000001_45.428377000000005    116\n",
      "-73.563652_45.528809                     114\n",
      "-73.604952_45.58441                      107\n",
      "-73.634049_45.504446                     101\n",
      "Name: LONG_LAT, dtype: int64\n",
      "\n",
      "==================TOP_4==================\n",
      "First 4 locations represent 14.0 % of total declarations counts\n",
      "\n"
     ]
    },
    {
     "data": {
      "image/png": "[encoded data removed]",
      "text/plain": [
       "<matplotlib.figure.Figure at 0x80ce6a0>"
      ]
     },
     "metadata": {},
     "output_type": "display_data"
    }
   ],
   "source": [
    "print('==================TOP_10_INTERSECTIONS_BASED_ON_LONG_LAT==================')\n",
    "# Analyze Coordinates distribution from declaration\n",
    "print(df['LONG_LAT'].value_counts().head(10))\n",
    "print('')\n",
    "\n",
    "print('==================TOP_4==================')\n",
    "print( 'First 4 locations represent '+str( round((df['BORO_NAME'].value_counts()[0]\n",
    "             +df['LONG_LAT'].value_counts()[1]\n",
    "             +df['LONG_LAT'].value_counts()[2]\n",
    "             +df['LONG_LAT'].value_counts()[3])\n",
    "           /(df['LONG_LAT'].value_counts()).sum()*100 ))  + ' % of total declarations counts')\n",
    "print('')\n",
    "\n",
    "\n",
    "# Bar Chart\n",
    "plt.figure(figsize=(12,6))\n",
    "plt.title('Declarations by LON_LAT')\n",
    "\n",
    "plt.ylabel('Coordinates')\n",
    "plt.xlabel('Declarations')\n",
    "\n",
    "labels = df['LONG_LAT'].value_counts().head(10).index\n",
    "values = df['LONG_LAT'].value_counts().head(10).values\n",
    "\n",
    "y_pos = range(len(labels))\n",
    "\n",
    "plt.barh(y_pos, values, align='center', alpha=0.5)\n",
    "plt.yticks(y_pos, labels)\n",
    "\n",
    "plt.show()\n"
   ]
  },
  {
   "cell_type": "code",
   "execution_count": 27,
   "metadata": {},
   "outputs": [
    {
     "name": "stdout",
     "output_type": "stream",
     "text": [
      "\n",
      "==================TOP_10_INTERSECTIONS_BASED_ON_EXT_FREQ_AND_ON_DECLARATIONS==================\n"
     ]
    },
    {
     "data": {
      "text/html": [
       "<div>\n",
       "<style scoped>\n",
       "    .dataframe tbody tr th:only-of-type {\n",
       "        vertical-align: middle;\n",
       "    }\n",
       "\n",
       "    .dataframe tbody tr th {\n",
       "        vertical-align: top;\n",
       "    }\n",
       "\n",
       "    .dataframe thead th {\n",
       "        text-align: right;\n",
       "    }\n",
       "</style>\n",
       "<table border=\"1\" class=\"dataframe\">\n",
       "  <thead>\n",
       "    <tr style=\"text-align: right;\">\n",
       "      <th></th>\n",
       "      <th></th>\n",
       "      <th></th>\n",
       "      <th>EXT_QT</th>\n",
       "      <th>DECL_QT</th>\n",
       "    </tr>\n",
       "    <tr>\n",
       "      <th>LONG_LAT</th>\n",
       "      <th>HOOD_NAME</th>\n",
       "      <th>BORO_NAME</th>\n",
       "      <th></th>\n",
       "      <th></th>\n",
       "    </tr>\n",
       "  </thead>\n",
       "  <tbody>\n",
       "    <tr>\n",
       "      <th>-73.571239_45.584338</th>\n",
       "      <th>Grande-Prairie</th>\n",
       "      <th>Saint-Léonard</th>\n",
       "      <td>352.00</td>\n",
       "      <td>264</td>\n",
       "    </tr>\n",
       "    <tr>\n",
       "      <th>-73.68714399999999_45.518173</th>\n",
       "      <th>Grenet</th>\n",
       "      <th>Saint-Laurent</th>\n",
       "      <td>302.00</td>\n",
       "      <td>139</td>\n",
       "    </tr>\n",
       "    <tr>\n",
       "      <th>-73.630494_45.509854</th>\n",
       "      <th>Parc-Kent</th>\n",
       "      <th>Côte-des-Neiges–Notre-Dame-de-Grâce</th>\n",
       "      <td>210.00</td>\n",
       "      <td>67</td>\n",
       "    </tr>\n",
       "    <tr>\n",
       "      <th>-73.659233_45.569024</th>\n",
       "      <th>Sault-au-Récollet</th>\n",
       "      <th>Ahuntsic-Cartierville</th>\n",
       "      <td>193.00</td>\n",
       "      <td>181</td>\n",
       "    </tr>\n",
       "    <tr>\n",
       "      <th>-73.585636_45.527404</th>\n",
       "      <th>Parc-Laurier</th>\n",
       "      <th>Le Plateau-Mont-Royal</th>\n",
       "      <td>189.00</td>\n",
       "      <td>79</td>\n",
       "    </tr>\n",
       "    <tr>\n",
       "      <th>-73.600298_45.637873</th>\n",
       "      <th>Marc-Aurèle-Fortin</th>\n",
       "      <th>Rivière-des-Prairies–Pointe-aux-Trembles</th>\n",
       "      <td>181.00</td>\n",
       "      <td>76</td>\n",
       "    </tr>\n",
       "    <tr>\n",
       "      <th>-73.61954399999999_45.545823999999996</th>\n",
       "      <th>Crémazie</th>\n",
       "      <th>Villeray–Saint-Michel–Parc-Extension</th>\n",
       "      <td>176.00</td>\n",
       "      <td>74</td>\n",
       "    </tr>\n",
       "    <tr>\n",
       "      <th>-73.53832299999999_45.543811</th>\n",
       "      <th>Hochelaga</th>\n",
       "      <th>Mercier–Hochelaga-Maisonneuve</th>\n",
       "      <td>164.00</td>\n",
       "      <td>63</td>\n",
       "    </tr>\n",
       "    <tr>\n",
       "      <th>-73.582592_45.49409</th>\n",
       "      <th>Montagne</th>\n",
       "      <th>Ville-Marie</th>\n",
       "      <td>162.00</td>\n",
       "      <td>148</td>\n",
       "    </tr>\n",
       "    <tr>\n",
       "      <th>-73.563652_45.528809</th>\n",
       "      <th>Lorimier</th>\n",
       "      <th>Le Plateau-Mont-Royal</th>\n",
       "      <td>161.00</td>\n",
       "      <td>103</td>\n",
       "    </tr>\n",
       "  </tbody>\n",
       "</table>\n",
       "</div>"
      ],
      "text/plain": [
       "                                                                                                   EXT_QT  \\\n",
       "LONG_LAT                              HOOD_NAME          BORO_NAME                                          \n",
       "-73.571239_45.584338                  Grande-Prairie     Saint-Léonard                             352.00   \n",
       "-73.68714399999999_45.518173          Grenet             Saint-Laurent                             302.00   \n",
       "-73.630494_45.509854                  Parc-Kent          Côte-des-Neiges–Notre-Dame-de-Grâce       210.00   \n",
       "-73.659233_45.569024                  Sault-au-Récollet  Ahuntsic-Cartierville                     193.00   \n",
       "-73.585636_45.527404                  Parc-Laurier       Le Plateau-Mont-Royal                     189.00   \n",
       "-73.600298_45.637873                  Marc-Aurèle-Fortin Rivière-des-Prairies–Pointe-aux-Trembles  181.00   \n",
       "-73.61954399999999_45.545823999999996 Crémazie           Villeray–Saint-Michel–Parc-Extension      176.00   \n",
       "-73.53832299999999_45.543811          Hochelaga          Mercier–Hochelaga-Maisonneuve             164.00   \n",
       "-73.582592_45.49409                   Montagne           Ville-Marie                               162.00   \n",
       "-73.563652_45.528809                  Lorimier           Le Plateau-Mont-Royal                     161.00   \n",
       "\n",
       "                                                                                                   DECL_QT  \n",
       "LONG_LAT                              HOOD_NAME          BORO_NAME                                          \n",
       "-73.571239_45.584338                  Grande-Prairie     Saint-Léonard                                 264  \n",
       "-73.68714399999999_45.518173          Grenet             Saint-Laurent                                 139  \n",
       "-73.630494_45.509854                  Parc-Kent          Côte-des-Neiges–Notre-Dame-de-Grâce            67  \n",
       "-73.659233_45.569024                  Sault-au-Récollet  Ahuntsic-Cartierville                         181  \n",
       "-73.585636_45.527404                  Parc-Laurier       Le Plateau-Mont-Royal                          79  \n",
       "-73.600298_45.637873                  Marc-Aurèle-Fortin Rivière-des-Prairies–Pointe-aux-Trembles       76  \n",
       "-73.61954399999999_45.545823999999996 Crémazie           Villeray–Saint-Michel–Parc-Extension           74  \n",
       "-73.53832299999999_45.543811          Hochelaga          Mercier–Hochelaga-Maisonneuve                  63  \n",
       "-73.582592_45.49409                   Montagne           Ville-Marie                                   148  \n",
       "-73.563652_45.528809                  Lorimier           Le Plateau-Mont-Royal                         103  "
      ]
     },
     "execution_count": 27,
     "metadata": {},
     "output_type": "execute_result"
    }
   ],
   "source": [
    "# Ref. : https://stackoverflow.com/questions/37965380/python-pandas-simple-pivot-table-sum-count\n",
    "    # Ref. : https://www.shanelynn.ie/summarising-aggregation-and-grouping-data-in-python-pandas/\n",
    "\n",
    "# Ref. : https://pandas.pydata.org/pandas-docs/stable/reference/api/pandas.DataFrame.sort_values.html\n",
    "print('')\n",
    "print('==================TOP_10_INTERSECTIONS_BASED_ON_EXT_FREQ_AND_ON_DECLARATIONS==================')\n",
    "((df.groupby(['LONG_LAT','HOOD_NAME','BORO_NAME'])\n",
    "       .agg({'EXT_FREQ': sum, 'NO_DECLARATION':'count'}))\n",
    "       .sort_values(by = ['EXT_FREQ','NO_DECLARATION'],ascending=False)\n",
    "       .rename(columns={'EXT_FREQ':'EXT_QT','NO_DECLARATION':'DECL_QT'})\n",
    "       .head(10))\n",
    "\n"
   ]
  },
  {
   "cell_type": "markdown",
   "metadata": {},
   "source": [
    "By going from the neighborhood to the intersection level, the number of extermination reports is more apparent is being independent from the number of declarations."
   ]
  },
  {
   "cell_type": "code",
   "execution_count": 31,
   "metadata": {},
   "outputs": [
    {
     "data": {
      "image/png": "[encoded data removed]",
      "text/plain": [
       "<matplotlib.figure.Figure at 0xb98fda0>"
      ]
     },
     "metadata": {},
     "output_type": "display_data"
    }
   ],
   "source": [
    "df_coff = ((df.groupby(['LONG_LAT','HOOD_NAME','BORO_NAME'])\n",
    "       .agg({'EXT_FREQ': sum, 'NO_DECLARATION':'count'}))\n",
    "       .sort_values(by = ['EXT_FREQ','NO_DECLARATION'],ascending=False)\n",
    "       .rename(columns={'EXT_FREQ':'EXT_QT','NO_DECLARATION':'DECL_QT'})\n",
    "        )\n",
    "# Scatter plot\n",
    "plt.figure(figsize=(12,6))\n",
    "plt.title('Declarations vs. Extermination Reports')\n",
    "\n",
    "plt.ylabel('Coordinates')\n",
    "plt.xlabel('Declarations')\n",
    "\n",
    "plt.plot(df_coff['EXT_QT'], df_coff['DECL_QT'], 'o')\n",
    "plt.show()"
   ]
  },
  {
   "cell_type": "markdown",
   "metadata": {},
   "source": [
    "There is a proportional relationship between the number of declarations and the number of extermination reports. Specifically, one report is assumed to be included in one declaration, as a minimum."
   ]
  },
  {
   "cell_type": "code",
   "execution_count": 31,
   "metadata": {},
   "outputs": [
    {
     "data": {
      "image/png": "[encoded data removed]",
      "text/plain": [
       "<matplotlib.figure.Figure at 0xb98fda0>"
      ]
     },
     "metadata": {},
     "output_type": "display_data"
    }
   ],
   "source": [
    "# Scatter plot\n",
    "plt.plot(df_coff['EXT_QT'], df_coff['DECL_QT'], 'o')\n",
    "plt.show()"
   ]
  },
  {
   "cell_type": "code",
   "execution_count": null,
   "metadata": {},
   "outputs": [],
   "source": [
    "# Over time trend"
   ]
  },
  {
   "cell_type": "code",
   "execution_count": 18,
   "metadata": {},
   "outputs": [
    {
     "data": {
      "text/plain": [
       "DEC_YEAR  BORO_NAME                                 HOOD_NAME                    \n",
       "2011      Ahuntsic-Cartierville                     Cartierville                      20\n",
       "                                                    La Visitation                     12\n",
       "                                                    Nicolas-Viel                      21\n",
       "                                                    Nouveau-Bordeaux                   5\n",
       "                                                    Saint-Sulpice                      4\n",
       "                                                    Sault-au-Récollet                 30\n",
       "          Anjou                                     Anjou                             22\n",
       "          Côte-des-Neiges–Notre-Dame-de-Grâce       Côte-Saint-Antoine                14\n",
       "                                                    Loyola                            23\n",
       "                                                    Parc-Kent                         27\n",
       "                                                    Savane                            27\n",
       "                                                    Snowdon                           25\n",
       "                                                    Upper Lachine                     36\n",
       "                                                    Édouard-Montpetit                 29\n",
       "          L'Île-Bizard–Sainte-Geneviève             L'Île-Bizard–Sainte-Geneviève      2\n",
       "          LaSalle                                   Cecil-P.-Newman                   12\n",
       "                                                    Sault-Saint-Louis                 22\n",
       "          Lachine                                   Lachine-Ouest                      7\n",
       "                                                    Vieux-Lachine - Saint-Pierre      15\n",
       "          Le Plateau-Mont-Royal                     Lorimier                          60\n",
       "                                                    Mile End                          37\n",
       "                                                    Milton-Parc                       20\n",
       "                                                    Parc-Lafontaine                   45\n",
       "                                                    Parc-Laurier                      35\n",
       "                                                    Saint-Louis                       15\n",
       "          Le Sud-Ouest                              Côte-Saint-Paul                    7\n",
       "                                                    Petite-Bourgogne                  10\n",
       "                                                    Pointe-Saint-Charles              20\n",
       "                                                    Saint-Henri                       18\n",
       "                                                    Ville-Émard                        5\n",
       "                                                                                    ... \n",
       "2018      Rivière-des-Prairies–Pointe-aux-Trembles  Pointe-aux-Trembles               64\n",
       "                                                    Rivière-des-Prairies               4\n",
       "          Rosemont–La Petite-Patrie                 Louis-Hébert                      72\n",
       "                                                    Marie-Victorin                    56\n",
       "                                                    Petite-Côte                       30\n",
       "                                                    Père-Marquette                   117\n",
       "                                                    Saint-Édouard                     53\n",
       "                                                    Vieux-Rosemont                   118\n",
       "                                                    Étienne Desmarteaux               54\n",
       "          Saint-Laurent                             Bois-Francs                        2\n",
       "                                                    Chameran/Montpellier              35\n",
       "                                                    Du College/Hodge                   7\n",
       "                                                    Dutrisac                           5\n",
       "                                                    Grenet                             7\n",
       "          Saint-Léonard                             Grande-Prairie                    35\n",
       "                                                    Port-Maurice                      16\n",
       "          Verdun                                    Desmarchais-Crawford              39\n",
       "                                                    Ile-des-Soeurs                     2\n",
       "                                                    Verdun-Centre                     94\n",
       "          Ville-Marie                               Montagne                         117\n",
       "                                                    René-Lévesque                     64\n",
       "                                                    Sainte-Marie                     176\n",
       "                                                    Vieux-Montréal                    14\n",
       "          Villeray–Saint-Michel–Parc-Extension      Crémazie                         155\n",
       "                                                    François-Perrault                 34\n",
       "                                                    Gabriel-Sagard                    68\n",
       "                                                    Parc-Extension                   118\n",
       "                                                    Parc-Jarry                        32\n",
       "                                                    René-Goupil                       26\n",
       "                                                    Sainte-Lucie                      45\n",
       "Name: HOOD_NAME, Length: 613, dtype: int64"
      ]
     },
     "execution_count": 18,
     "metadata": {},
     "output_type": "execute_result"
    }
   ],
   "source": [
    "df.groupby(['DEC_YEAR','BORO_NAME','HOOD_NAME'])['HOOD_NAME'].count()"
   ]
  },
  {
   "cell_type": "markdown",
   "metadata": {},
   "source": [
    "## Correlation"
   ]
  },
  {
   "cell_type": "code",
   "execution_count": 19,
   "metadata": {},
   "outputs": [
    {
     "data": {
      "text/html": [
       "<div>\n",
       "<style scoped>\n",
       "    .dataframe tbody tr th:only-of-type {\n",
       "        vertical-align: middle;\n",
       "    }\n",
       "\n",
       "    .dataframe tbody tr th {\n",
       "        vertical-align: top;\n",
       "    }\n",
       "\n",
       "    .dataframe thead th {\n",
       "        text-align: right;\n",
       "    }\n",
       "</style>\n",
       "<table border=\"1\" class=\"dataframe\">\n",
       "  <thead>\n",
       "    <tr style=\"text-align: right;\">\n",
       "      <th></th>\n",
       "      <th>NO_DECLARATION</th>\n",
       "      <th>EXT_FREQ</th>\n",
       "      <th>MTM8_X</th>\n",
       "      <th>MTM8_Y</th>\n",
       "      <th>LONGITUDE</th>\n",
       "      <th>LATITUDE</th>\n",
       "      <th>DEC_MONTH</th>\n",
       "      <th>DEC_ISSUE</th>\n",
       "      <th>DATE_DIFF</th>\n",
       "      <th>DEC_YEAR</th>\n",
       "    </tr>\n",
       "  </thead>\n",
       "  <tbody>\n",
       "    <tr>\n",
       "      <th>NO_DECLARATION</th>\n",
       "      <td>1.00</td>\n",
       "      <td>-0.05</td>\n",
       "      <td>-0.05</td>\n",
       "      <td>-0.00</td>\n",
       "      <td>-0.05</td>\n",
       "      <td>-0.00</td>\n",
       "      <td>0.08</td>\n",
       "      <td>nan</td>\n",
       "      <td>0.11</td>\n",
       "      <td>0.99</td>\n",
       "    </tr>\n",
       "    <tr>\n",
       "      <th>EXT_FREQ</th>\n",
       "      <td>-0.05</td>\n",
       "      <td>1.00</td>\n",
       "      <td>0.02</td>\n",
       "      <td>0.01</td>\n",
       "      <td>0.02</td>\n",
       "      <td>0.01</td>\n",
       "      <td>-0.05</td>\n",
       "      <td>nan</td>\n",
       "      <td>-0.03</td>\n",
       "      <td>-0.04</td>\n",
       "    </tr>\n",
       "    <tr>\n",
       "      <th>MTM8_X</th>\n",
       "      <td>-0.05</td>\n",
       "      <td>0.02</td>\n",
       "      <td>1.00</td>\n",
       "      <td>0.22</td>\n",
       "      <td>1.00</td>\n",
       "      <td>0.22</td>\n",
       "      <td>-0.00</td>\n",
       "      <td>nan</td>\n",
       "      <td>-0.07</td>\n",
       "      <td>-0.05</td>\n",
       "    </tr>\n",
       "    <tr>\n",
       "      <th>MTM8_Y</th>\n",
       "      <td>-0.00</td>\n",
       "      <td>0.01</td>\n",
       "      <td>0.22</td>\n",
       "      <td>1.00</td>\n",
       "      <td>0.22</td>\n",
       "      <td>1.00</td>\n",
       "      <td>0.02</td>\n",
       "      <td>nan</td>\n",
       "      <td>0.01</td>\n",
       "      <td>-0.01</td>\n",
       "    </tr>\n",
       "    <tr>\n",
       "      <th>LONGITUDE</th>\n",
       "      <td>-0.05</td>\n",
       "      <td>0.02</td>\n",
       "      <td>1.00</td>\n",
       "      <td>0.22</td>\n",
       "      <td>1.00</td>\n",
       "      <td>0.22</td>\n",
       "      <td>-0.00</td>\n",
       "      <td>nan</td>\n",
       "      <td>-0.07</td>\n",
       "      <td>-0.05</td>\n",
       "    </tr>\n",
       "    <tr>\n",
       "      <th>LATITUDE</th>\n",
       "      <td>-0.00</td>\n",
       "      <td>0.01</td>\n",
       "      <td>0.22</td>\n",
       "      <td>1.00</td>\n",
       "      <td>0.22</td>\n",
       "      <td>1.00</td>\n",
       "      <td>0.02</td>\n",
       "      <td>nan</td>\n",
       "      <td>0.01</td>\n",
       "      <td>-0.01</td>\n",
       "    </tr>\n",
       "    <tr>\n",
       "      <th>DEC_MONTH</th>\n",
       "      <td>0.08</td>\n",
       "      <td>-0.05</td>\n",
       "      <td>-0.00</td>\n",
       "      <td>0.02</td>\n",
       "      <td>-0.00</td>\n",
       "      <td>0.02</td>\n",
       "      <td>1.00</td>\n",
       "      <td>nan</td>\n",
       "      <td>0.05</td>\n",
       "      <td>-0.06</td>\n",
       "    </tr>\n",
       "    <tr>\n",
       "      <th>DEC_ISSUE</th>\n",
       "      <td>nan</td>\n",
       "      <td>nan</td>\n",
       "      <td>nan</td>\n",
       "      <td>nan</td>\n",
       "      <td>nan</td>\n",
       "      <td>nan</td>\n",
       "      <td>nan</td>\n",
       "      <td>nan</td>\n",
       "      <td>nan</td>\n",
       "      <td>nan</td>\n",
       "    </tr>\n",
       "    <tr>\n",
       "      <th>DATE_DIFF</th>\n",
       "      <td>0.11</td>\n",
       "      <td>-0.03</td>\n",
       "      <td>-0.07</td>\n",
       "      <td>0.01</td>\n",
       "      <td>-0.07</td>\n",
       "      <td>0.01</td>\n",
       "      <td>0.05</td>\n",
       "      <td>nan</td>\n",
       "      <td>1.00</td>\n",
       "      <td>0.10</td>\n",
       "    </tr>\n",
       "    <tr>\n",
       "      <th>DEC_YEAR</th>\n",
       "      <td>0.99</td>\n",
       "      <td>-0.04</td>\n",
       "      <td>-0.05</td>\n",
       "      <td>-0.01</td>\n",
       "      <td>-0.05</td>\n",
       "      <td>-0.01</td>\n",
       "      <td>-0.06</td>\n",
       "      <td>nan</td>\n",
       "      <td>0.10</td>\n",
       "      <td>1.00</td>\n",
       "    </tr>\n",
       "  </tbody>\n",
       "</table>\n",
       "</div>"
      ],
      "text/plain": [
       "                NO_DECLARATION  EXT_FREQ  MTM8_X  MTM8_Y  LONGITUDE  LATITUDE  \\\n",
       "NO_DECLARATION            1.00     -0.05   -0.05   -0.00      -0.05     -0.00   \n",
       "EXT_FREQ                 -0.05      1.00    0.02    0.01       0.02      0.01   \n",
       "MTM8_X                   -0.05      0.02    1.00    0.22       1.00      0.22   \n",
       "MTM8_Y                   -0.00      0.01    0.22    1.00       0.22      1.00   \n",
       "LONGITUDE                -0.05      0.02    1.00    0.22       1.00      0.22   \n",
       "LATITUDE                 -0.00      0.01    0.22    1.00       0.22      1.00   \n",
       "DEC_MONTH                 0.08     -0.05   -0.00    0.02      -0.00      0.02   \n",
       "DEC_ISSUE                  nan       nan     nan     nan        nan       nan   \n",
       "DATE_DIFF                 0.11     -0.03   -0.07    0.01      -0.07      0.01   \n",
       "DEC_YEAR                  0.99     -0.04   -0.05   -0.01      -0.05     -0.01   \n",
       "\n",
       "                DEC_MONTH  DEC_ISSUE  DATE_DIFF  DEC_YEAR  \n",
       "NO_DECLARATION       0.08        nan       0.11      0.99  \n",
       "EXT_FREQ            -0.05        nan      -0.03     -0.04  \n",
       "MTM8_X              -0.00        nan      -0.07     -0.05  \n",
       "MTM8_Y               0.02        nan       0.01     -0.01  \n",
       "LONGITUDE           -0.00        nan      -0.07     -0.05  \n",
       "LATITUDE             0.02        nan       0.01     -0.01  \n",
       "DEC_MONTH            1.00        nan       0.05     -0.06  \n",
       "DEC_ISSUE             nan        nan        nan       nan  \n",
       "DATE_DIFF            0.05        nan       1.00      0.10  \n",
       "DEC_YEAR            -0.06        nan       0.10      1.00  "
      ]
     },
     "execution_count": 19,
     "metadata": {},
     "output_type": "execute_result"
    }
   ],
   "source": [
    "# Correlation\n",
    "df.corr()"
   ]
  },
  {
   "cell_type": "markdown",
   "metadata": {},
   "source": [
    "There is a strong correlation between MTM8_X and Longitude, and another strong relationship between MTM8_Y and Latitude. All other relationships are negligible."
   ]
  },
  {
   "cell_type": "markdown",
   "metadata": {},
   "source": [
    "# Business Perspective"
   ]
  },
  {
   "cell_type": "markdown",
   "metadata": {
    "slideshow": {
     "slide_type": "notes"
    }
   },
   "source": [
    "## Data Persepective"
   ]
  },
  {
   "cell_type": "markdown",
   "metadata": {
    "slideshow": {
     "slide_type": "notes"
    }
   },
   "source": [
    "## One Variable"
   ]
  },
  {
   "cell_type": "markdown",
   "metadata": {},
   "source": [
    "### Categorical"
   ]
  },
  {
   "cell_type": "markdown",
   "metadata": {},
   "source": [
    "There are a few categorical values that we can generate utilizing our data.  This would be counts based on neighborhood (NOM_QR), borough (NOM_ARROND), declaration date (DATE_DECLARATION) and intersection location (COORD_X x COORD_Y) for longitude and latitude.  This would give us different insights on the infestations declared in the various areas of the city. "
   ]
  },
  {
   "cell_type": "markdown",
   "metadata": {},
   "source": [
    "### Numerical"
   ]
  },
  {
   "cell_type": "markdown",
   "metadata": {},
   "source": [
    "Based on the categorical values we generated above, we can then establish Min, Max, Mean values based on those Counts.  We can also generate Sums based on the number of visits by location or by time of year (based on declaration dates) to possibly gain insight on variables such as temperature or moving period (seasonal). "
   ]
  },
  {
   "cell_type": "markdown",
   "metadata": {
    "slideshow": {
     "slide_type": "notes"
    }
   },
   "source": [
    "## Multiple Variables"
   ]
  },
  {
   "cell_type": "markdown",
   "metadata": {},
   "source": [
    "Multi variable statistics can also be generated based on our dataset to try and establish trends and gain further insight. Examples of such include:\n",
    "\n",
    "-\tCounts on borough (NOM_ARROND) and neighborhood (NOM_QR) by date of declaration\n",
    "-\tNumber of days between DATE_INSP_VISPRE and DATE_DECLARATION. \n",
    "(Long waiting period can cause infestations to spread.)\n",
    "-\tNumber of days between DATE_DECLARATION - DATE_DEBUTTRAIT\n",
    "-\t(Long waiting period can cause infestations to spread.)\n"
   ]
  },
  {
   "cell_type": "markdown",
   "metadata": {
    "slideshow": {
     "slide_type": "notes"
    }
   },
   "source": [
    "# Business Persepective"
   ]
  },
  {
   "cell_type": "markdown",
   "metadata": {},
   "source": [
    "### Descriptive Data Analysis"
   ]
  },
  {
   "cell_type": "markdown",
   "metadata": {},
   "source": [
    "■ Descriptive Analytics\n",
    "\n",
    "What happened? We know that there were exterminations at this location (intersection) in the past, sometimes frequently.\n",
    "\n",
    "■ Diagnostic Analytics\n",
    "\n",
    "Why it happened? History of exterminations nearby, where the bed bugs spread through clothing, humans, animals or other items unto uncontaminated items. With an incubation period, the spread may have been undetected for one to two weeks. \n",
    "Used clothing, used furniture, rental housing, and travel accommodation facilities are available nearby from locations where exterminations occurred.\n",
    "(Environment Canada 2018)\n"
   ]
  },
  {
   "cell_type": "markdown",
   "metadata": {},
   "source": [
    "\n"
   ]
  },
  {
   "cell_type": "markdown",
   "metadata": {},
   "source": [
    "### Diagnostic Data Analysis"
   ]
  },
  {
   "cell_type": "markdown",
   "metadata": {},
   "source": [
    "Bedbugs can spread and infest an area in numerous ways.  Based on government reports we know infestations can spread by human contact (clothing), unsanitary environments, along with used furniture and mattresses to name a few.  This exercise in data mining has been undertaken to potentially uncover flash points, periods and/or locations that can possibly bring to light problematic scenarios that we can rectify and decrease, if not eliminate, future infestations."
   ]
  },
  {
   "cell_type": "markdown",
   "metadata": {},
   "source": [
    "1.\tNumber of days between Inspection/Declaration and Start-End of extermination.  \n",
    "(Given a lengthy waiting period we could have a potential opportunity for spreading)  \n",
    "\n",
    "2.\tIdentify the most problematic boroughs\n",
    "(What is the difference between worst and best ranked)\n",
    "\n",
    "3.\tIdentify the most problematic neighborhood\n",
    "(What is the difference between worst and best ranked)\n",
    "\n",
    "4.\tBased on 2 and 3, is the issue borough wide or at neighborhood level? \n",
    "(Management issue)\n",
    "\n",
    "5.\tWhen was the declaration made?\n",
    "(Is the problem based on a specific time of year? Heat? Moving period?)\n",
    "\n",
    "6.\tIs a problem more relevant to a particular block?\n",
    "(COORD_X x COORD_Y)\n",
    "\n",
    "7.\tNbr_Exterminations x COORD_X x COORD_Y x Nom_QR\n",
    "(Can the issue be subject to extermination mismanagement?) \n"
   ]
  },
  {
   "cell_type": "code",
   "execution_count": null,
   "metadata": {},
   "outputs": [],
   "source": []
  }
 ],
 "metadata": {
  "anaconda-cloud": {},
  "kernelspec": {
   "display_name": "Python 3",
   "language": "python",
   "name": "python3"
  },
  "language_info": {
   "codemirror_mode": {
    "name": "ipython",
    "version": 3
   },
   "file_extension": ".py",
   "mimetype": "text/x-python",
   "name": "python",
   "nbconvert_exporter": "python",
   "pygments_lexer": "ipython3",
   "version": "3.6.4"
  }
 },
 "nbformat": 4,
 "nbformat_minor": 1
}
