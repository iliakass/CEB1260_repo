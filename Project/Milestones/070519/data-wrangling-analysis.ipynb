{
 "cells": [
  {
   "cell_type": "markdown",
   "metadata": {},
   "source": [
    "# Data Wrangling & Data Cleaning (Notebook 1_Week 3 Deliverable)"
   ]
  },
  {
   "cell_type": "markdown",
   "metadata": {},
   "source": [
    "### Import libraries"
   ]
  },
  {
   "cell_type": "code",
   "execution_count": 1,
   "metadata": {},
   "outputs": [],
   "source": [
    "# import the library\n",
    "%matplotlib inline\n",
    "\n",
    "import pandas as pd #pandas library, data structures and data analysis tools for python\n",
    "import numpy as np #numpy library, multi-dimensional container of generic data, and scientific use\n",
    "import matplotlib.pyplot as plt #matplotlib for graphs, Python 2D plotting library\n",
    "\n",
    "# convert scientific notation to foat \"decimals\"\n",
    "pd.set_option('display.float_format', lambda x: '%.2f' % x)"
   ]
  },
  {
   "cell_type": "markdown",
   "metadata": {},
   "source": [
    "### Import the Dataset"
   ]
  },
  {
   "cell_type": "code",
   "execution_count": 2,
   "metadata": {},
   "outputs": [],
   "source": [
    "# Source for dataset: http://donnees.ville.montreal.qc.ca/dataset/declarations-exterminations-punaises-de-lit/resource/6173de60-c2da-4d63-bc75-0607cb8dcb74\n",
    "df_bedbugs = pd.read_csv('declarations-exterminations-punaises-de-lit.csv')"
   ]
  },
  {
   "cell_type": "markdown",
   "metadata": {},
   "source": [
    "## Summarizing data for inspection"
   ]
  },
  {
   "cell_type": "markdown",
   "metadata": {},
   "source": [
    "#### Types"
   ]
  },
  {
   "cell_type": "code",
   "execution_count": 3,
   "metadata": {},
   "outputs": [
    {
     "name": "stdout",
     "output_type": "stream",
     "text": [
      "NO_DECLARATION        int64\n",
      "DATE_DECLARATION     object\n",
      "DATE_INSP_VISPRE     object\n",
      "NBR_EXTERMIN        float64\n",
      "DATE_DEBUTTRAIT      object\n",
      "DATE_FINTRAIT        object\n",
      "No_QR                object\n",
      "NOM_QR               object\n",
      "NOM_ARROND           object\n",
      "COORD_X             float64\n",
      "COORD_Y             float64\n",
      "LONGITUDE           float64\n",
      "LATITUDE            float64\n",
      "dtype: object\n"
     ]
    }
   ],
   "source": [
    "#Ref.: https://www.geeksforgeeks.org/python-pandas-series-astype-to-convert-data-type-of-series/\n",
    "print(df_bedbugs.dtypes)"
   ]
  },
  {
   "cell_type": "markdown",
   "metadata": {},
   "source": [
    "#### Converting data types"
   ]
  },
  {
   "cell_type": "code",
   "execution_count": 4,
   "metadata": {},
   "outputs": [
    {
     "name": "stdout",
     "output_type": "stream",
     "text": [
      "0    2012-10-28T16:36:04\n",
      "1    2011-09-16T09:45:58\n",
      "2    2011-11-08T14:01:04\n",
      "3    2011-08-10T09:53:47\n",
      "4    2011-10-26T10:11:32\n",
      "Name: DATE_DECLARATION, dtype: object\n"
     ]
    }
   ],
   "source": [
    "#Ref [1]: https://pandas.pydata.org/pandas-docs/stable/reference/api/pandas.to_datetime.html\n",
    "\n",
    "# Convert 'DATE_INSP_VISPRE', 'DATE_DEBUTTRAIT', and 'DATE_FINTRAIT'\n",
    "df_bedbugs['DATE_INSP_VISPRE'] = pd.to_datetime(df_bedbugs['DATE_INSP_VISPRE'])\n",
    "df_bedbugs['DATE_DEBUTTRAIT'] = pd.to_datetime(df_bedbugs['DATE_DEBUTTRAIT'])\n",
    "df_bedbugs['DATE_FINTRAIT'] = pd.to_datetime(df_bedbugs['DATE_FINTRAIT'])\n",
    "\n",
    "# print\n",
    "print(df_bedbugs['DATE_DECLARATION'].head())"
   ]
  },
  {
   "cell_type": "code",
   "execution_count": 5,
   "metadata": {},
   "outputs": [
    {
     "name": "stdout",
     "output_type": "stream",
     "text": [
      "0   2012-10-28\n",
      "1   2011-09-16\n",
      "2   2011-11-08\n",
      "3   2011-08-10\n",
      "4   2011-10-26\n",
      "Name: DATE_DECLARATION, dtype: datetime64[ns]\n"
     ]
    }
   ],
   "source": [
    "# Convert 'DATE_DECLARATION to %Y-%m-%d %H:%M:%S\n",
    "df_bedbugs['DATE_DECLARATION'] = pd.to_datetime(df_bedbugs['DATE_DECLARATION'])\n",
    "\n",
    "# Ref. https://stackoverflow.com/questions/51310072/how-to-change-format-of-data-to-ymd-in-pandas\n",
    "# Convert to string\n",
    "df_bedbugs['DATE_DECLARATION'] = df_bedbugs['DATE_DECLARATION'].dt.strftime('%Y-%m-%d')\n",
    "\n",
    "# Convert 'DATE_DECLARATION to %Y-%m-%d\n",
    "df_bedbugs['DATE_DECLARATION'] = pd.to_datetime(df_bedbugs['DATE_DECLARATION'])\n",
    "\n",
    "print(df_bedbugs['DATE_DECLARATION'].head())"
   ]
  },
  {
   "cell_type": "code",
   "execution_count": 6,
   "metadata": {},
   "outputs": [
    {
     "name": "stdout",
     "output_type": "stream",
     "text": [
      "NO_DECLARATION               int64\n",
      "DATE_DECLARATION    datetime64[ns]\n",
      "DATE_INSP_VISPRE    datetime64[ns]\n",
      "NBR_EXTERMIN               float64\n",
      "DATE_DEBUTTRAIT     datetime64[ns]\n",
      "DATE_FINTRAIT       datetime64[ns]\n",
      "No_QR                       object\n",
      "NOM_QR                      object\n",
      "NOM_ARROND                  object\n",
      "COORD_X                    float64\n",
      "COORD_Y                    float64\n",
      "LONGITUDE                  float64\n",
      "LATITUDE                   float64\n",
      "dtype: object\n"
     ]
    }
   ],
   "source": [
    "# Print converted data types\n",
    "print(df_bedbugs.dtypes)"
   ]
  },
  {
   "cell_type": "markdown",
   "metadata": {},
   "source": [
    "### Columns, Head, and Describe Dataset"
   ]
  },
  {
   "cell_type": "code",
   "execution_count": 7,
   "metadata": {},
   "outputs": [
    {
     "data": {
      "text/plain": [
       "RangeIndex(start=0, stop=33365, step=1)"
      ]
     },
     "execution_count": 7,
     "metadata": {},
     "output_type": "execute_result"
    }
   ],
   "source": [
    "# view the dataframe index\n",
    "df_bedbugs.index"
   ]
  },
  {
   "cell_type": "code",
   "execution_count": 8,
   "metadata": {},
   "outputs": [
    {
     "data": {
      "text/plain": [
       "(33365, 13)"
      ]
     },
     "execution_count": 8,
     "metadata": {},
     "output_type": "execute_result"
    }
   ],
   "source": [
    "# view the dataframe shape\n",
    "df_bedbugs.shape"
   ]
  },
  {
   "cell_type": "code",
   "execution_count": 9,
   "metadata": {},
   "outputs": [
    {
     "data": {
      "text/plain": [
       "33365"
      ]
     },
     "execution_count": 9,
     "metadata": {},
     "output_type": "execute_result"
    }
   ],
   "source": [
    "len(df_bedbugs)"
   ]
  },
  {
   "cell_type": "code",
   "execution_count": 10,
   "metadata": {
    "scrolled": true
   },
   "outputs": [
    {
     "name": "stdout",
     "output_type": "stream",
     "text": [
      "Bed bug extermination declarations\n",
      "\n",
      "==================COLUMNS==================\n",
      "Index(['NO_DECLARATION', 'DATE_DECLARATION', 'DATE_INSP_VISPRE',\n",
      "       'NBR_EXTERMIN', 'DATE_DEBUTTRAIT', 'DATE_FINTRAIT', 'No_QR', 'NOM_QR',\n",
      "       'NOM_ARROND', 'COORD_X', 'COORD_Y', 'LONGITUDE', 'LATITUDE'],\n",
      "      dtype='object')\n",
      "\n",
      "==================HEAD==================\n",
      "   NO_DECLARATION DATE_DECLARATION DATE_INSP_VISPRE  NBR_EXTERMIN  \\\n",
      "0            4254       2012-10-28       2012-09-21          1.00   \n",
      "1             830       2011-09-16       2011-07-13          1.00   \n",
      "2            1380       2011-11-08       2011-11-02          1.00   \n",
      "3             455       2011-08-10       2011-08-09          1.00   \n",
      "4            1243       2011-10-26       2011-09-16          1.00   \n",
      "\n",
      "  DATE_DEBUTTRAIT DATE_FINTRAIT No_QR         NOM_QR  \\\n",
      "0      2012-09-21    2012-09-21    24     Beaurivage   \n",
      "1      2011-07-27    2011-08-17    50    Saint-Henri   \n",
      "2      2011-11-07    2011-11-21    30   Sainte-Marie   \n",
      "3      2011-08-09    2011-08-09    44  Upper Lachine   \n",
      "4      2011-10-05    2011-10-05    19    Petite-Côte   \n",
      "\n",
      "                            NOM_ARROND   COORD_X    COORD_Y  LONGITUDE  \\\n",
      "0        Mercier–Hochelaga-Maisonneuve 303753.60 5049835.70     -73.51   \n",
      "1                         Le Sud-Ouest 298119.80 5036963.70     -73.59   \n",
      "2                          Ville-Marie 300294.90 5042372.10     -73.56   \n",
      "3  Côte-des-Neiges–Notre-Dame-de-Grâce 296046.90 5036494.90     -73.61   \n",
      "4            Rosemont–La Petite-Patrie 299524.20 5045639.90     -73.57   \n",
      "\n",
      "   LATITUDE  \n",
      "0     45.59  \n",
      "1     45.47  \n",
      "2     45.52  \n",
      "3     45.47  \n",
      "4     45.55  \n",
      "\n",
      "==================DESCRIBE==================\n",
      "       NO_DECLARATION  NBR_EXTERMIN   COORD_X    COORD_Y  LONGITUDE  LATITUDE\n",
      "count        33365.00      31241.00  33365.00   33365.00   33365.00  33365.00\n",
      "mean         17119.47          1.50 297055.28 5044088.86     -73.60     45.54\n",
      "std           9819.57          0.91   3664.67    4756.57       0.05      0.04\n",
      "min            104.00          1.00 274266.10 5030733.00     -73.89     45.42\n",
      "25%           8602.00          1.00 294841.50 5041950.60     -73.63     45.52\n",
      "50%          17099.00          1.00 297627.30 5044129.10     -73.59     45.54\n",
      "75%          25632.00          2.00 299638.40 5046434.50     -73.57     45.56\n",
      "max          34130.00          4.00 306021.80 5062070.20     -73.48     45.70\n",
      "\n",
      "==================COUNT==================\n",
      "NO_DECLARATION      33365\n",
      "DATE_DECLARATION    33365\n",
      "DATE_INSP_VISPRE    33357\n",
      "NBR_EXTERMIN        31241\n",
      "DATE_DEBUTTRAIT     31241\n",
      "DATE_FINTRAIT       31241\n",
      "No_QR               33365\n",
      "NOM_QR              33365\n",
      "NOM_ARROND          33365\n",
      "COORD_X             33365\n",
      "COORD_Y             33365\n",
      "LONGITUDE           33365\n",
      "LATITUDE            33365\n",
      "dtype: int64\n"
     ]
    }
   ],
   "source": [
    "print('Bed bug extermination declarations')\n",
    "print('')\n",
    "print('==================COLUMNS==================')\n",
    "print(df_bedbugs.columns)\n",
    "print('')\n",
    "print('==================HEAD==================')\n",
    "print(df_bedbugs.head())\n",
    "print('')\n",
    "print('==================DESCRIBE==================')\n",
    "print(df_bedbugs.describe())\n",
    "print('')\n",
    "print('==================COUNT==================')\n",
    "print(df_bedbugs.count())"
   ]
  },
  {
   "cell_type": "markdown",
   "metadata": {},
   "source": [
    "#### Fixing column name"
   ]
  },
  {
   "cell_type": "code",
   "execution_count": 11,
   "metadata": {},
   "outputs": [
    {
     "name": "stdout",
     "output_type": "stream",
     "text": [
      "==================COLUMNS==================\n",
      "Index(['NO_DECLARATION', 'DATE_DECLARATION', 'DATE_PRIOR_INSP', 'EXT_FREQ',\n",
      "       'DATE_FIRST_EXT', 'DATE_LAST_EXT', 'HOOD_NUM', 'HOOD_NAME', 'BORO_NAME',\n",
      "       'MTM8_X', 'MTM8_Y', 'LONGITUDE', 'LATITUDE'],\n",
      "      dtype='object')\n",
      "\n"
     ]
    }
   ],
   "source": [
    "df_bedbugs.columns = ['NO_DECLARATION', 'DATE_DECLARATION', 'DATE_PRIOR_INSP', 'EXT_FREQ','DATE_FIRST_EXT','DATE_LAST_EXT',\n",
    "                      'HOOD_NUM','HOOD_NAME','BORO_NAME','MTM8_X','MTM8_Y','LONGITUDE','LATITUDE']\n",
    "print('==================COLUMNS==================')\n",
    "print(df_bedbugs.columns)\n",
    "print('')"
   ]
  },
  {
   "cell_type": "markdown",
   "metadata": {},
   "source": [
    "#### Adding new columns for intersections"
   ]
  },
  {
   "cell_type": "code",
   "execution_count": 12,
   "metadata": {},
   "outputs": [
    {
     "data": {
      "text/plain": [
       "0            -73.513411_45.588426\n",
       "1            -73.585437_45.472569\n",
       "2            -73.557668_45.521253\n",
       "3            -73.611941_45.468327\n",
       "4    -73.56756899999999_45.550652\n",
       "Name: LONG_LAT, dtype: object"
      ]
     },
     "execution_count": 12,
     "metadata": {},
     "output_type": "execute_result"
    }
   ],
   "source": [
    "#create a new column with longitude and latitude for an intersection\n",
    "\n",
    "# Ref.: https://stackoverflow.com/questions/19377969/combine-two-columns-of-text-in-dataframe-in-pandas-python/36911306\n",
    "df_bedbugs['LONG_LAT'] = df_bedbugs['LONGITUDE'].map(str)+\"_\"+df_bedbugs['LATITUDE'].map(str)\n",
    "df_bedbugs['LONG_LAT'].head()"
   ]
  },
  {
   "cell_type": "code",
   "execution_count": 13,
   "metadata": {},
   "outputs": [
    {
     "data": {
      "text/plain": [
       "0    303753.6_5049835.7\n",
       "1    298119.8_5036963.7\n",
       "2    300294.9_5042372.1\n",
       "3    296046.9_5036494.9\n",
       "4    299524.2_5045639.9\n",
       "Name: MTM_X_Y, dtype: object"
      ]
     },
     "execution_count": 13,
     "metadata": {},
     "output_type": "execute_result"
    }
   ],
   "source": [
    "# Concatenate MTM8_X and MTM8_Y\n",
    "#https://stackoverflow.com/questions/42520266/concatenating-two-floats-into-one-column-in-pandas\n",
    "# df['MTMXY'] = [', '.join(str(x) for x in y) for y in map(tuple, df[['MTM8_X', 'MTM8_Y']].values)]\n",
    "\n",
    "df_bedbugs['MTM_X_Y'] = df_bedbugs['MTM8_X'].map(str)+\"_\"+df_bedbugs['MTM8_Y'].map(str)\n",
    "df_bedbugs['MTM_X_Y'].head()"
   ]
  },
  {
   "cell_type": "code",
   "execution_count": 14,
   "metadata": {},
   "outputs": [
    {
     "data": {
      "text/plain": [
       "(33365, 15)"
      ]
     },
     "execution_count": 14,
     "metadata": {},
     "output_type": "execute_result"
    }
   ],
   "source": [
    "df_bedbugs.shape"
   ]
  },
  {
   "cell_type": "markdown",
   "metadata": {},
   "source": [
    "#### Adding new columns"
   ]
  },
  {
   "cell_type": "code",
   "execution_count": 15,
   "metadata": {},
   "outputs": [],
   "source": [
    "# Create a column extracting month\n",
    "df_bedbugs['DEC_MONTH'] = pd.DatetimeIndex(df_bedbugs['DATE_DECLARATION']).month"
   ]
  },
  {
   "cell_type": "code",
   "execution_count": 16,
   "metadata": {},
   "outputs": [],
   "source": [
    "# Create Declared Incidents column for regression purposes\n",
    "df_bedbugs['DEC_ISSUE'] = 1"
   ]
  },
  {
   "cell_type": "markdown",
   "metadata": {},
   "source": [
    "#### Difference between Declaration and Inspection Dates"
   ]
  },
  {
   "cell_type": "code",
   "execution_count": 17,
   "metadata": {},
   "outputs": [],
   "source": [
    "# Ref.: https://docs.scipy.org/doc/numpy/reference/arrays.datetime.html\n",
    "\n",
    "# Create difference between Declaration and Inspection\n",
    "df_bedbugs['DATE_DIFF'] = round( (df_bedbugs['DATE_DECLARATION'] - df_bedbugs['DATE_PRIOR_INSP'] ) \n",
    "                                / np.timedelta64(1,'D') )\n",
    "\n",
    "#df['DATE_DIFF'].fillna(0, inplace=True)"
   ]
  },
  {
   "cell_type": "code",
   "execution_count": 18,
   "metadata": {},
   "outputs": [
    {
     "name": "stdout",
     "output_type": "stream",
     "text": [
      "0   37.00\n",
      "1   65.00\n",
      "2    6.00\n",
      "3    1.00\n",
      "4   40.00\n",
      "Name: DATE_DIFF, dtype: float64\n"
     ]
    }
   ],
   "source": [
    "print(df_bedbugs['DATE_DIFF'].head())"
   ]
  },
  {
   "cell_type": "code",
   "execution_count": 19,
   "metadata": {},
   "outputs": [
    {
     "name": "stdout",
     "output_type": "stream",
     "text": [
      "33360    9.00\n",
      "33361   21.00\n",
      "33362   13.00\n",
      "33363    6.00\n",
      "33364    3.00\n",
      "Name: DATE_DIFF, dtype: float64\n"
     ]
    }
   ],
   "source": [
    "print(df_bedbugs['DATE_DIFF'].tail())"
   ]
  },
  {
   "cell_type": "markdown",
   "metadata": {},
   "source": [
    "#### Declarations at the same intersection (longitude and latitude)"
   ]
  },
  {
   "cell_type": "code",
   "execution_count": 20,
   "metadata": {},
   "outputs": [
    {
     "name": "stdout",
     "output_type": "stream",
     "text": [
      "4873 longitude and latitude group-locations\n"
     ]
    }
   ],
   "source": [
    "print(str(len(df_bedbugs.groupby(['LONG_LAT'])))\n",
    "      +' longitude and latitude group-locations')"
   ]
  },
  {
   "cell_type": "code",
   "execution_count": 21,
   "metadata": {},
   "outputs": [
    {
     "data": {
      "text/plain": [
       "LONG_LAT\n",
       "-73.484312_45.694138    1\n",
       "-73.485599_45.698515    1\n",
       "-73.487241_45.695382    6\n",
       "-73.487936_45.649078    3\n",
       "-73.489228_45.693533    1\n",
       "Name: NO_DECLARATION, dtype: int64"
      ]
     },
     "execution_count": 21,
     "metadata": {},
     "output_type": "execute_result"
    }
   ],
   "source": [
    "# Count of location : 1 = unique, and not equal to 1 is reoccuring\n",
    "df_bedbugs.groupby(by = 'LONG_LAT')['NO_DECLARATION'].count().head()"
   ]
  },
  {
   "cell_type": "code",
   "execution_count": 22,
   "metadata": {},
   "outputs": [
    {
     "data": {
      "text/plain": [
       "LONG_LAT\n",
       "-73.881748_45.459389            1\n",
       "-73.88297299999999_45.453919    1\n",
       "-73.887183_45.453657            1\n",
       "-73.889477_45.458117            1\n",
       "-73.890405_45.456179            2\n",
       "Name: NO_DECLARATION, dtype: int64"
      ]
     },
     "execution_count": 22,
     "metadata": {},
     "output_type": "execute_result"
    }
   ],
   "source": [
    "df_bedbugs.groupby(by = 'LONG_LAT')['NO_DECLARATION'].count().tail()"
   ]
  },
  {
   "cell_type": "code",
   "execution_count": 23,
   "metadata": {},
   "outputs": [
    {
     "data": {
      "text/html": [
       "<div>\n",
       "<style scoped>\n",
       "    .dataframe tbody tr th:only-of-type {\n",
       "        vertical-align: middle;\n",
       "    }\n",
       "\n",
       "    .dataframe tbody tr th {\n",
       "        vertical-align: top;\n",
       "    }\n",
       "\n",
       "    .dataframe thead th {\n",
       "        text-align: right;\n",
       "    }\n",
       "</style>\n",
       "<table border=\"1\" class=\"dataframe\">\n",
       "  <thead>\n",
       "    <tr style=\"text-align: right;\">\n",
       "      <th></th>\n",
       "      <th>NO_DECLARATION</th>\n",
       "      <th>DATE_DECLARATION</th>\n",
       "      <th>DATE_PRIOR_INSP</th>\n",
       "      <th>EXT_FREQ</th>\n",
       "      <th>DATE_FIRST_EXT</th>\n",
       "      <th>DATE_LAST_EXT</th>\n",
       "      <th>HOOD_NUM</th>\n",
       "      <th>HOOD_NAME</th>\n",
       "      <th>BORO_NAME</th>\n",
       "      <th>MTM8_X</th>\n",
       "      <th>MTM8_Y</th>\n",
       "      <th>LONGITUDE</th>\n",
       "      <th>LATITUDE</th>\n",
       "      <th>LONG_LAT</th>\n",
       "      <th>MTM_X_Y</th>\n",
       "      <th>DEC_MONTH</th>\n",
       "      <th>DEC_ISSUE</th>\n",
       "      <th>DATE_DIFF</th>\n",
       "    </tr>\n",
       "  </thead>\n",
       "  <tbody>\n",
       "    <tr>\n",
       "      <th>3299</th>\n",
       "      <td>22099</td>\n",
       "      <td>2016-03-31</td>\n",
       "      <td>2016-03-22</td>\n",
       "      <td>1.00</td>\n",
       "      <td>2016-03-21</td>\n",
       "      <td>2016-03-21</td>\n",
       "      <td>54</td>\n",
       "      <td>Pointe-aux-Trembles</td>\n",
       "      <td>Rivière-des-Prairies–Pointe-aux-Trembles</td>\n",
       "      <td>305740.30</td>\n",
       "      <td>5056576.00</td>\n",
       "      <td>-73.49</td>\n",
       "      <td>45.65</td>\n",
       "      <td>-73.487936_45.649078</td>\n",
       "      <td>305740.3_5056576.0</td>\n",
       "      <td>3</td>\n",
       "      <td>1</td>\n",
       "      <td>9.00</td>\n",
       "    </tr>\n",
       "    <tr>\n",
       "      <th>10328</th>\n",
       "      <td>24502</td>\n",
       "      <td>2016-10-05</td>\n",
       "      <td>2016-09-30</td>\n",
       "      <td>1.00</td>\n",
       "      <td>2016-09-30</td>\n",
       "      <td>2016-09-30</td>\n",
       "      <td>54</td>\n",
       "      <td>Pointe-aux-Trembles</td>\n",
       "      <td>Rivière-des-Prairies–Pointe-aux-Trembles</td>\n",
       "      <td>305740.30</td>\n",
       "      <td>5056576.00</td>\n",
       "      <td>-73.49</td>\n",
       "      <td>45.65</td>\n",
       "      <td>-73.487936_45.649078</td>\n",
       "      <td>305740.3_5056576.0</td>\n",
       "      <td>10</td>\n",
       "      <td>1</td>\n",
       "      <td>5.00</td>\n",
       "    </tr>\n",
       "    <tr>\n",
       "      <th>21599</th>\n",
       "      <td>21937</td>\n",
       "      <td>2016-03-18</td>\n",
       "      <td>2016-01-11</td>\n",
       "      <td>1.00</td>\n",
       "      <td>2016-01-11</td>\n",
       "      <td>2016-01-13</td>\n",
       "      <td>54</td>\n",
       "      <td>Pointe-aux-Trembles</td>\n",
       "      <td>Rivière-des-Prairies–Pointe-aux-Trembles</td>\n",
       "      <td>305740.30</td>\n",
       "      <td>5056576.00</td>\n",
       "      <td>-73.49</td>\n",
       "      <td>45.65</td>\n",
       "      <td>-73.487936_45.649078</td>\n",
       "      <td>305740.3_5056576.0</td>\n",
       "      <td>3</td>\n",
       "      <td>1</td>\n",
       "      <td>67.00</td>\n",
       "    </tr>\n",
       "  </tbody>\n",
       "</table>\n",
       "</div>"
      ],
      "text/plain": [
       "       NO_DECLARATION DATE_DECLARATION DATE_PRIOR_INSP  EXT_FREQ  \\\n",
       "3299            22099       2016-03-31      2016-03-22      1.00   \n",
       "10328           24502       2016-10-05      2016-09-30      1.00   \n",
       "21599           21937       2016-03-18      2016-01-11      1.00   \n",
       "\n",
       "      DATE_FIRST_EXT DATE_LAST_EXT HOOD_NUM            HOOD_NAME  \\\n",
       "3299      2016-03-21    2016-03-21       54  Pointe-aux-Trembles   \n",
       "10328     2016-09-30    2016-09-30       54  Pointe-aux-Trembles   \n",
       "21599     2016-01-11    2016-01-13       54  Pointe-aux-Trembles   \n",
       "\n",
       "                                      BORO_NAME    MTM8_X     MTM8_Y  \\\n",
       "3299   Rivière-des-Prairies–Pointe-aux-Trembles 305740.30 5056576.00   \n",
       "10328  Rivière-des-Prairies–Pointe-aux-Trembles 305740.30 5056576.00   \n",
       "21599  Rivière-des-Prairies–Pointe-aux-Trembles 305740.30 5056576.00   \n",
       "\n",
       "       LONGITUDE  LATITUDE              LONG_LAT             MTM_X_Y  \\\n",
       "3299      -73.49     45.65  -73.487936_45.649078  305740.3_5056576.0   \n",
       "10328     -73.49     45.65  -73.487936_45.649078  305740.3_5056576.0   \n",
       "21599     -73.49     45.65  -73.487936_45.649078  305740.3_5056576.0   \n",
       "\n",
       "       DEC_MONTH  DEC_ISSUE  DATE_DIFF  \n",
       "3299           3          1       9.00  \n",
       "10328         10          1       5.00  \n",
       "21599          3          1      67.00  "
      ]
     },
     "execution_count": 23,
     "metadata": {},
     "output_type": "execute_result"
    }
   ],
   "source": [
    "# Verification of reoccuring\n",
    "df_bedbugs[(df_bedbugs['LONGITUDE']==-73.487936) & (df_bedbugs['LATITUDE']==45.649078)]"
   ]
  },
  {
   "cell_type": "code",
   "execution_count": 24,
   "metadata": {},
   "outputs": [
    {
     "data": {
      "text/plain": [
       "NO_DECLARATION      0\n",
       "DATE_DECLARATION    0\n",
       "DATE_PRIOR_INSP     0\n",
       "EXT_FREQ            0\n",
       "DATE_FIRST_EXT      0\n",
       "DATE_LAST_EXT       0\n",
       "HOOD_NUM            0\n",
       "HOOD_NAME           0\n",
       "BORO_NAME           0\n",
       "MTM8_X              0\n",
       "MTM8_Y              0\n",
       "LONGITUDE           0\n",
       "LATITUDE            0\n",
       "MTM_X_Y             0\n",
       "DEC_MONTH           0\n",
       "DEC_ISSUE           0\n",
       "DATE_DIFF           0\n",
       "dtype: int64"
      ]
     },
     "execution_count": 24,
     "metadata": {},
     "output_type": "execute_result"
    }
   ],
   "source": [
    "# Verify group for any null values\n",
    "(df_bedbugs.groupby(by = 'LONG_LAT').count()).isnull().sum()"
   ]
  },
  {
   "cell_type": "code",
   "execution_count": 25,
   "metadata": {},
   "outputs": [
    {
     "name": "stdout",
     "output_type": "stream",
     "text": [
      "3395 longitude and latitude reoccuring group-locations\n"
     ]
    }
   ],
   "source": [
    "# Ref. : hhttps://stackoverflow.com/questions/12765833/counting-the-number-of-true-booleans-in-a-python-list\n",
    "\n",
    "# Number of reoccuring locations\n",
    "print(str((df_bedbugs.groupby(by = 'LONG_LAT')['NO_DECLARATION'].count()>1).sum() )\n",
    "    +' longitude and latitude reoccuring group-locations')"
   ]
  },
  {
   "cell_type": "code",
   "execution_count": 26,
   "metadata": {},
   "outputs": [
    {
     "data": {
      "text/plain": [
       "NO_DECLARATION      3395\n",
       "DATE_DECLARATION    3395\n",
       "DATE_PRIOR_INSP     3395\n",
       "EXT_FREQ            3243\n",
       "DATE_FIRST_EXT      3243\n",
       "DATE_LAST_EXT       3243\n",
       "HOOD_NUM            3395\n",
       "HOOD_NAME           3395\n",
       "BORO_NAME           3395\n",
       "MTM8_X              3395\n",
       "MTM8_Y              3395\n",
       "LONGITUDE           3395\n",
       "LATITUDE            3395\n",
       "MTM_X_Y             3395\n",
       "DEC_MONTH           3395\n",
       "DEC_ISSUE           3395\n",
       "DATE_DIFF           3395\n",
       "dtype: int64"
      ]
     },
     "execution_count": 26,
     "metadata": {},
     "output_type": "execute_result"
    }
   ],
   "source": [
    "# Number of reoccuring locations, where DATE_FIRST_EXT and DATE_LAST_EXT at times co-inside\n",
    "(df_bedbugs.groupby(by = 'LONG_LAT').count()>1).sum()"
   ]
  },
  {
   "cell_type": "code",
   "execution_count": 27,
   "metadata": {},
   "outputs": [
    {
     "name": "stdout",
     "output_type": "stream",
     "text": [
      "Out of 33365 declarations, there are 4873 intersections where 3395 intersections will more than one declaration.\n",
      "\n",
      "Also, there are case for intersections with more than one declaration, where the dates of the first and last extermination are repeated.\n"
     ]
    }
   ],
   "source": [
    "print('Out of '+str(len(df_bedbugs))\n",
    "      + ' declarations, there are '+str(len(df_bedbugs.groupby(['LONG_LAT'])))+' intersections where '\n",
    "      + str((df_bedbugs.groupby(by = 'LONG_LAT')['NO_DECLARATION'].count()>1).sum() )\n",
    "      + ' intersections will more than one declaration.')\n",
    "print('')\n",
    "print('Also, there are case for intersections with more than one declaration, where the dates of the first and last extermination are repeated.')"
   ]
  },
  {
   "cell_type": "markdown",
   "metadata": {},
   "source": [
    "#### Group of declarations and considering number of events"
   ]
  },
  {
   "cell_type": "code",
   "execution_count": 28,
   "metadata": {},
   "outputs": [
    {
     "data": {
      "text/plain": [
       "1755"
      ]
     },
     "execution_count": 28,
     "metadata": {},
     "output_type": "execute_result"
    }
   ],
   "source": [
    "# For declarations sharing intersections, the number of summed reports where more than 4 events occured is 1755\n",
    "\n",
    "(df_bedbugs.groupby(by = 'LONG_LAT')['EXT_FREQ'].count()>4).sum()"
   ]
  },
  {
   "cell_type": "code",
   "execution_count": 29,
   "metadata": {},
   "outputs": [
    {
     "data": {
      "text/plain": [
       "LONG_LAT\n",
       "-73.484312_45.694138                      0\n",
       "-73.485599_45.698515                      1\n",
       "-73.487241_45.695382                      6\n",
       "-73.487936_45.649078                      3\n",
       "-73.489228_45.693533                      1\n",
       "-73.489451_45.689027                      1\n",
       "-73.489574_45.644719                      3\n",
       "-73.48965600000001_45.688243              2\n",
       "-73.49010899999999_45.653622              1\n",
       "-73.490427_45.639412                      1\n",
       "-73.490471_45.651309000000005            27\n",
       "-73.49077199999999_45.649502000000005     1\n",
       "-73.491029_45.63825                       4\n",
       "-73.491455_45.675867                      2\n",
       "-73.491575_45.694154                      2\n",
       "-73.492104_45.650409                      1\n",
       "-73.492193_45.645915                      4\n",
       "-73.492277_45.641759                      1\n",
       "-73.492308_45.6918                        3\n",
       "-73.492402_45.635714                     13\n",
       "-73.492599_45.648424                      3\n",
       "-73.49268199999999_45.640356              1\n",
       "-73.492705_45.635064                      1\n",
       "-73.492806_45.649871999999995             1\n",
       "-73.49305600000001_45.694758              1\n",
       "-73.493173_45.660714                      0\n",
       "-73.493218_45.634094                      2\n",
       "-73.493376_45.673096                      1\n",
       "-73.493579_45.672385                      2\n",
       "-73.493804_45.638015                      1\n",
       "                                         ..\n",
       "-73.850942_45.498092                      3\n",
       "-73.851635_45.48793                       2\n",
       "-73.853178_45.493473                      3\n",
       "-73.857423_45.500801                      1\n",
       "-73.85959_45.48742                        1\n",
       "-73.86251700000001_45.474313              1\n",
       "-73.863213_45.473051                      1\n",
       "-73.86393100000001_45.485561              1\n",
       "-73.864362_45.506112                      0\n",
       "-73.864514_45.485203999999996             2\n",
       "-73.864525_45.475765                      1\n",
       "-73.867401_45.483348                      6\n",
       "-73.867504_45.470578                      1\n",
       "-73.870175_45.469623                      1\n",
       "-73.8708_45.492971000000004               1\n",
       "-73.87338199999999_45.471057              1\n",
       "-73.87353399999999_45.468987              2\n",
       "-73.873603_45.477925                      1\n",
       "-73.874324_45.474482                      0\n",
       "-73.874434_45.488490999999996             1\n",
       "-73.876508_45.502347                      1\n",
       "-73.877003_45.467868                      0\n",
       "-73.877169_45.466442                      3\n",
       "-73.880439_45.465507                      1\n",
       "-73.880863_45.496349                      1\n",
       "-73.881748_45.459389                      1\n",
       "-73.88297299999999_45.453919              1\n",
       "-73.887183_45.453657                      1\n",
       "-73.889477_45.458117                      1\n",
       "-73.890405_45.456179                      2\n",
       "Name: EXT_FREQ, Length: 4873, dtype: int64"
      ]
     },
     "execution_count": 29,
     "metadata": {},
     "output_type": "execute_result"
    }
   ],
   "source": [
    "# Verification\n",
    "df_bedbugs.groupby(by = 'LONG_LAT')['EXT_FREQ'].count()"
   ]
  },
  {
   "cell_type": "code",
   "execution_count": 30,
   "metadata": {},
   "outputs": [
    {
     "data": {
      "text/html": [
       "<div>\n",
       "<style scoped>\n",
       "    .dataframe tbody tr th:only-of-type {\n",
       "        vertical-align: middle;\n",
       "    }\n",
       "\n",
       "    .dataframe tbody tr th {\n",
       "        vertical-align: top;\n",
       "    }\n",
       "\n",
       "    .dataframe thead th {\n",
       "        text-align: right;\n",
       "    }\n",
       "</style>\n",
       "<table border=\"1\" class=\"dataframe\">\n",
       "  <thead>\n",
       "    <tr style=\"text-align: right;\">\n",
       "      <th></th>\n",
       "      <th>NO_DECLARATION</th>\n",
       "      <th>DATE_DECLARATION</th>\n",
       "      <th>DATE_PRIOR_INSP</th>\n",
       "      <th>EXT_FREQ</th>\n",
       "      <th>DATE_FIRST_EXT</th>\n",
       "      <th>DATE_LAST_EXT</th>\n",
       "      <th>HOOD_NUM</th>\n",
       "      <th>HOOD_NAME</th>\n",
       "      <th>BORO_NAME</th>\n",
       "      <th>MTM8_X</th>\n",
       "      <th>MTM8_Y</th>\n",
       "      <th>LONGITUDE</th>\n",
       "      <th>LATITUDE</th>\n",
       "      <th>LONG_LAT</th>\n",
       "      <th>MTM_X_Y</th>\n",
       "      <th>DEC_MONTH</th>\n",
       "      <th>DEC_ISSUE</th>\n",
       "      <th>DATE_DIFF</th>\n",
       "    </tr>\n",
       "  </thead>\n",
       "  <tbody>\n",
       "    <tr>\n",
       "      <th>391</th>\n",
       "      <td>23728</td>\n",
       "      <td>2016-08-15</td>\n",
       "      <td>2016-08-11</td>\n",
       "      <td>1.00</td>\n",
       "      <td>2016-08-18</td>\n",
       "      <td>2016-08-18</td>\n",
       "      <td>54</td>\n",
       "      <td>Pointe-aux-Trembles</td>\n",
       "      <td>Rivière-des-Prairies–Pointe-aux-Trembles</td>\n",
       "      <td>305542.70</td>\n",
       "      <td>5056824.00</td>\n",
       "      <td>-73.49</td>\n",
       "      <td>45.65</td>\n",
       "      <td>-73.490471_45.651309000000005</td>\n",
       "      <td>305542.7_5056824.0</td>\n",
       "      <td>8</td>\n",
       "      <td>1</td>\n",
       "      <td>4.00</td>\n",
       "    </tr>\n",
       "    <tr>\n",
       "      <th>752</th>\n",
       "      <td>16132</td>\n",
       "      <td>2015-02-10</td>\n",
       "      <td>2015-01-09</td>\n",
       "      <td>1.00</td>\n",
       "      <td>2015-01-09</td>\n",
       "      <td>2015-01-09</td>\n",
       "      <td>54</td>\n",
       "      <td>Pointe-aux-Trembles</td>\n",
       "      <td>Rivière-des-Prairies–Pointe-aux-Trembles</td>\n",
       "      <td>305542.70</td>\n",
       "      <td>5056824.00</td>\n",
       "      <td>-73.49</td>\n",
       "      <td>45.65</td>\n",
       "      <td>-73.490471_45.651309000000005</td>\n",
       "      <td>305542.7_5056824.0</td>\n",
       "      <td>2</td>\n",
       "      <td>1</td>\n",
       "      <td>32.00</td>\n",
       "    </tr>\n",
       "    <tr>\n",
       "      <th>2277</th>\n",
       "      <td>22982</td>\n",
       "      <td>2016-06-20</td>\n",
       "      <td>2016-06-17</td>\n",
       "      <td>1.00</td>\n",
       "      <td>2016-06-17</td>\n",
       "      <td>2016-06-17</td>\n",
       "      <td>54</td>\n",
       "      <td>Pointe-aux-Trembles</td>\n",
       "      <td>Rivière-des-Prairies–Pointe-aux-Trembles</td>\n",
       "      <td>305542.70</td>\n",
       "      <td>5056824.00</td>\n",
       "      <td>-73.49</td>\n",
       "      <td>45.65</td>\n",
       "      <td>-73.490471_45.651309000000005</td>\n",
       "      <td>305542.7_5056824.0</td>\n",
       "      <td>6</td>\n",
       "      <td>1</td>\n",
       "      <td>3.00</td>\n",
       "    </tr>\n",
       "    <tr>\n",
       "      <th>2858</th>\n",
       "      <td>23010</td>\n",
       "      <td>2016-06-23</td>\n",
       "      <td>2016-06-21</td>\n",
       "      <td>1.00</td>\n",
       "      <td>2016-06-21</td>\n",
       "      <td>2016-06-21</td>\n",
       "      <td>54</td>\n",
       "      <td>Pointe-aux-Trembles</td>\n",
       "      <td>Rivière-des-Prairies–Pointe-aux-Trembles</td>\n",
       "      <td>305542.70</td>\n",
       "      <td>5056824.00</td>\n",
       "      <td>-73.49</td>\n",
       "      <td>45.65</td>\n",
       "      <td>-73.490471_45.651309000000005</td>\n",
       "      <td>305542.7_5056824.0</td>\n",
       "      <td>6</td>\n",
       "      <td>1</td>\n",
       "      <td>2.00</td>\n",
       "    </tr>\n",
       "    <tr>\n",
       "      <th>2860</th>\n",
       "      <td>22975</td>\n",
       "      <td>2016-06-17</td>\n",
       "      <td>2016-05-06</td>\n",
       "      <td>1.00</td>\n",
       "      <td>2016-05-06</td>\n",
       "      <td>2016-05-06</td>\n",
       "      <td>54</td>\n",
       "      <td>Pointe-aux-Trembles</td>\n",
       "      <td>Rivière-des-Prairies–Pointe-aux-Trembles</td>\n",
       "      <td>305542.70</td>\n",
       "      <td>5056824.00</td>\n",
       "      <td>-73.49</td>\n",
       "      <td>45.65</td>\n",
       "      <td>-73.490471_45.651309000000005</td>\n",
       "      <td>305542.7_5056824.0</td>\n",
       "      <td>6</td>\n",
       "      <td>1</td>\n",
       "      <td>42.00</td>\n",
       "    </tr>\n",
       "    <tr>\n",
       "      <th>3425</th>\n",
       "      <td>23346</td>\n",
       "      <td>2016-07-18</td>\n",
       "      <td>2016-07-14</td>\n",
       "      <td>1.00</td>\n",
       "      <td>2016-07-14</td>\n",
       "      <td>2016-07-14</td>\n",
       "      <td>54</td>\n",
       "      <td>Pointe-aux-Trembles</td>\n",
       "      <td>Rivière-des-Prairies–Pointe-aux-Trembles</td>\n",
       "      <td>305542.70</td>\n",
       "      <td>5056824.00</td>\n",
       "      <td>-73.49</td>\n",
       "      <td>45.65</td>\n",
       "      <td>-73.490471_45.651309000000005</td>\n",
       "      <td>305542.7_5056824.0</td>\n",
       "      <td>7</td>\n",
       "      <td>1</td>\n",
       "      <td>4.00</td>\n",
       "    </tr>\n",
       "    <tr>\n",
       "      <th>3802</th>\n",
       "      <td>22972</td>\n",
       "      <td>2016-06-17</td>\n",
       "      <td>2016-03-04</td>\n",
       "      <td>1.00</td>\n",
       "      <td>2016-07-29</td>\n",
       "      <td>2016-07-29</td>\n",
       "      <td>54</td>\n",
       "      <td>Pointe-aux-Trembles</td>\n",
       "      <td>Rivière-des-Prairies–Pointe-aux-Trembles</td>\n",
       "      <td>305542.70</td>\n",
       "      <td>5056824.00</td>\n",
       "      <td>-73.49</td>\n",
       "      <td>45.65</td>\n",
       "      <td>-73.490471_45.651309000000005</td>\n",
       "      <td>305542.7_5056824.0</td>\n",
       "      <td>6</td>\n",
       "      <td>1</td>\n",
       "      <td>105.00</td>\n",
       "    </tr>\n",
       "    <tr>\n",
       "      <th>5795</th>\n",
       "      <td>22955</td>\n",
       "      <td>2016-06-17</td>\n",
       "      <td>2016-05-16</td>\n",
       "      <td>2.00</td>\n",
       "      <td>2016-04-15</td>\n",
       "      <td>2016-05-16</td>\n",
       "      <td>54</td>\n",
       "      <td>Pointe-aux-Trembles</td>\n",
       "      <td>Rivière-des-Prairies–Pointe-aux-Trembles</td>\n",
       "      <td>305542.70</td>\n",
       "      <td>5056824.00</td>\n",
       "      <td>-73.49</td>\n",
       "      <td>45.65</td>\n",
       "      <td>-73.490471_45.651309000000005</td>\n",
       "      <td>305542.7_5056824.0</td>\n",
       "      <td>6</td>\n",
       "      <td>1</td>\n",
       "      <td>32.00</td>\n",
       "    </tr>\n",
       "    <tr>\n",
       "      <th>9105</th>\n",
       "      <td>12695</td>\n",
       "      <td>2014-07-14</td>\n",
       "      <td>2014-07-03</td>\n",
       "      <td>1.00</td>\n",
       "      <td>2014-07-03</td>\n",
       "      <td>2014-07-03</td>\n",
       "      <td>54</td>\n",
       "      <td>Pointe-aux-Trembles</td>\n",
       "      <td>Rivière-des-Prairies–Pointe-aux-Trembles</td>\n",
       "      <td>305542.70</td>\n",
       "      <td>5056824.00</td>\n",
       "      <td>-73.49</td>\n",
       "      <td>45.65</td>\n",
       "      <td>-73.490471_45.651309000000005</td>\n",
       "      <td>305542.7_5056824.0</td>\n",
       "      <td>7</td>\n",
       "      <td>1</td>\n",
       "      <td>11.00</td>\n",
       "    </tr>\n",
       "    <tr>\n",
       "      <th>10784</th>\n",
       "      <td>22974</td>\n",
       "      <td>2016-06-17</td>\n",
       "      <td>2016-03-04</td>\n",
       "      <td>1.00</td>\n",
       "      <td>2016-03-18</td>\n",
       "      <td>2016-03-18</td>\n",
       "      <td>54</td>\n",
       "      <td>Pointe-aux-Trembles</td>\n",
       "      <td>Rivière-des-Prairies–Pointe-aux-Trembles</td>\n",
       "      <td>305542.70</td>\n",
       "      <td>5056824.00</td>\n",
       "      <td>-73.49</td>\n",
       "      <td>45.65</td>\n",
       "      <td>-73.490471_45.651309000000005</td>\n",
       "      <td>305542.7_5056824.0</td>\n",
       "      <td>6</td>\n",
       "      <td>1</td>\n",
       "      <td>105.00</td>\n",
       "    </tr>\n",
       "    <tr>\n",
       "      <th>12208</th>\n",
       "      <td>17973</td>\n",
       "      <td>2015-07-15</td>\n",
       "      <td>2015-07-14</td>\n",
       "      <td>1.00</td>\n",
       "      <td>2015-07-14</td>\n",
       "      <td>2015-07-14</td>\n",
       "      <td>54</td>\n",
       "      <td>Pointe-aux-Trembles</td>\n",
       "      <td>Rivière-des-Prairies–Pointe-aux-Trembles</td>\n",
       "      <td>305542.70</td>\n",
       "      <td>5056824.00</td>\n",
       "      <td>-73.49</td>\n",
       "      <td>45.65</td>\n",
       "      <td>-73.490471_45.651309000000005</td>\n",
       "      <td>305542.7_5056824.0</td>\n",
       "      <td>7</td>\n",
       "      <td>1</td>\n",
       "      <td>1.00</td>\n",
       "    </tr>\n",
       "    <tr>\n",
       "      <th>13809</th>\n",
       "      <td>25915</td>\n",
       "      <td>2017-01-31</td>\n",
       "      <td>2017-01-24</td>\n",
       "      <td>1.00</td>\n",
       "      <td>2017-01-24</td>\n",
       "      <td>2017-01-24</td>\n",
       "      <td>54</td>\n",
       "      <td>Pointe-aux-Trembles</td>\n",
       "      <td>Rivière-des-Prairies–Pointe-aux-Trembles</td>\n",
       "      <td>305542.70</td>\n",
       "      <td>5056824.00</td>\n",
       "      <td>-73.49</td>\n",
       "      <td>45.65</td>\n",
       "      <td>-73.490471_45.651309000000005</td>\n",
       "      <td>305542.7_5056824.0</td>\n",
       "      <td>1</td>\n",
       "      <td>1</td>\n",
       "      <td>7.00</td>\n",
       "    </tr>\n",
       "    <tr>\n",
       "      <th>14127</th>\n",
       "      <td>12805</td>\n",
       "      <td>2014-07-18</td>\n",
       "      <td>2014-07-15</td>\n",
       "      <td>1.00</td>\n",
       "      <td>2014-07-15</td>\n",
       "      <td>2014-07-15</td>\n",
       "      <td>54</td>\n",
       "      <td>Pointe-aux-Trembles</td>\n",
       "      <td>Rivière-des-Prairies–Pointe-aux-Trembles</td>\n",
       "      <td>305542.70</td>\n",
       "      <td>5056824.00</td>\n",
       "      <td>-73.49</td>\n",
       "      <td>45.65</td>\n",
       "      <td>-73.490471_45.651309000000005</td>\n",
       "      <td>305542.7_5056824.0</td>\n",
       "      <td>7</td>\n",
       "      <td>1</td>\n",
       "      <td>3.00</td>\n",
       "    </tr>\n",
       "    <tr>\n",
       "      <th>17665</th>\n",
       "      <td>22954</td>\n",
       "      <td>2016-06-17</td>\n",
       "      <td>2015-08-14</td>\n",
       "      <td>1.00</td>\n",
       "      <td>2015-08-14</td>\n",
       "      <td>2015-08-14</td>\n",
       "      <td>54</td>\n",
       "      <td>Pointe-aux-Trembles</td>\n",
       "      <td>Rivière-des-Prairies–Pointe-aux-Trembles</td>\n",
       "      <td>305542.70</td>\n",
       "      <td>5056824.00</td>\n",
       "      <td>-73.49</td>\n",
       "      <td>45.65</td>\n",
       "      <td>-73.490471_45.651309000000005</td>\n",
       "      <td>305542.7_5056824.0</td>\n",
       "      <td>6</td>\n",
       "      <td>1</td>\n",
       "      <td>308.00</td>\n",
       "    </tr>\n",
       "    <tr>\n",
       "      <th>18188</th>\n",
       "      <td>22967</td>\n",
       "      <td>2016-06-17</td>\n",
       "      <td>2016-06-08</td>\n",
       "      <td>1.00</td>\n",
       "      <td>2016-06-08</td>\n",
       "      <td>2016-06-08</td>\n",
       "      <td>54</td>\n",
       "      <td>Pointe-aux-Trembles</td>\n",
       "      <td>Rivière-des-Prairies–Pointe-aux-Trembles</td>\n",
       "      <td>305542.70</td>\n",
       "      <td>5056824.00</td>\n",
       "      <td>-73.49</td>\n",
       "      <td>45.65</td>\n",
       "      <td>-73.490471_45.651309000000005</td>\n",
       "      <td>305542.7_5056824.0</td>\n",
       "      <td>6</td>\n",
       "      <td>1</td>\n",
       "      <td>9.00</td>\n",
       "    </tr>\n",
       "    <tr>\n",
       "      <th>21081</th>\n",
       "      <td>18175</td>\n",
       "      <td>2015-08-04</td>\n",
       "      <td>2015-07-28</td>\n",
       "      <td>1.00</td>\n",
       "      <td>2015-07-28</td>\n",
       "      <td>2015-07-28</td>\n",
       "      <td>54</td>\n",
       "      <td>Pointe-aux-Trembles</td>\n",
       "      <td>Rivière-des-Prairies–Pointe-aux-Trembles</td>\n",
       "      <td>305542.70</td>\n",
       "      <td>5056824.00</td>\n",
       "      <td>-73.49</td>\n",
       "      <td>45.65</td>\n",
       "      <td>-73.490471_45.651309000000005</td>\n",
       "      <td>305542.7_5056824.0</td>\n",
       "      <td>8</td>\n",
       "      <td>1</td>\n",
       "      <td>7.00</td>\n",
       "    </tr>\n",
       "    <tr>\n",
       "      <th>22157</th>\n",
       "      <td>25507</td>\n",
       "      <td>2016-12-14</td>\n",
       "      <td>2016-12-09</td>\n",
       "      <td>1.00</td>\n",
       "      <td>2017-02-10</td>\n",
       "      <td>2017-02-10</td>\n",
       "      <td>54</td>\n",
       "      <td>Pointe-aux-Trembles</td>\n",
       "      <td>Rivière-des-Prairies–Pointe-aux-Trembles</td>\n",
       "      <td>305542.70</td>\n",
       "      <td>5056824.00</td>\n",
       "      <td>-73.49</td>\n",
       "      <td>45.65</td>\n",
       "      <td>-73.490471_45.651309000000005</td>\n",
       "      <td>305542.7_5056824.0</td>\n",
       "      <td>12</td>\n",
       "      <td>1</td>\n",
       "      <td>5.00</td>\n",
       "    </tr>\n",
       "    <tr>\n",
       "      <th>26035</th>\n",
       "      <td>12693</td>\n",
       "      <td>2014-07-14</td>\n",
       "      <td>2014-07-03</td>\n",
       "      <td>1.00</td>\n",
       "      <td>2014-07-03</td>\n",
       "      <td>2014-07-03</td>\n",
       "      <td>54</td>\n",
       "      <td>Pointe-aux-Trembles</td>\n",
       "      <td>Rivière-des-Prairies–Pointe-aux-Trembles</td>\n",
       "      <td>305542.70</td>\n",
       "      <td>5056824.00</td>\n",
       "      <td>-73.49</td>\n",
       "      <td>45.65</td>\n",
       "      <td>-73.490471_45.651309000000005</td>\n",
       "      <td>305542.7_5056824.0</td>\n",
       "      <td>7</td>\n",
       "      <td>1</td>\n",
       "      <td>11.00</td>\n",
       "    </tr>\n",
       "    <tr>\n",
       "      <th>26619</th>\n",
       "      <td>17951</td>\n",
       "      <td>2015-07-14</td>\n",
       "      <td>2015-07-09</td>\n",
       "      <td>1.00</td>\n",
       "      <td>2015-07-09</td>\n",
       "      <td>2015-07-09</td>\n",
       "      <td>54</td>\n",
       "      <td>Pointe-aux-Trembles</td>\n",
       "      <td>Rivière-des-Prairies–Pointe-aux-Trembles</td>\n",
       "      <td>305542.70</td>\n",
       "      <td>5056824.00</td>\n",
       "      <td>-73.49</td>\n",
       "      <td>45.65</td>\n",
       "      <td>-73.490471_45.651309000000005</td>\n",
       "      <td>305542.7_5056824.0</td>\n",
       "      <td>7</td>\n",
       "      <td>1</td>\n",
       "      <td>5.00</td>\n",
       "    </tr>\n",
       "    <tr>\n",
       "      <th>26624</th>\n",
       "      <td>17975</td>\n",
       "      <td>2015-07-15</td>\n",
       "      <td>2015-07-14</td>\n",
       "      <td>2.00</td>\n",
       "      <td>2015-07-14</td>\n",
       "      <td>2015-08-14</td>\n",
       "      <td>54</td>\n",
       "      <td>Pointe-aux-Trembles</td>\n",
       "      <td>Rivière-des-Prairies–Pointe-aux-Trembles</td>\n",
       "      <td>305542.70</td>\n",
       "      <td>5056824.00</td>\n",
       "      <td>-73.49</td>\n",
       "      <td>45.65</td>\n",
       "      <td>-73.490471_45.651309000000005</td>\n",
       "      <td>305542.7_5056824.0</td>\n",
       "      <td>7</td>\n",
       "      <td>1</td>\n",
       "      <td>1.00</td>\n",
       "    </tr>\n",
       "    <tr>\n",
       "      <th>27133</th>\n",
       "      <td>22976</td>\n",
       "      <td>2016-06-17</td>\n",
       "      <td>2016-06-20</td>\n",
       "      <td>1.00</td>\n",
       "      <td>2016-05-20</td>\n",
       "      <td>2016-05-20</td>\n",
       "      <td>54</td>\n",
       "      <td>Pointe-aux-Trembles</td>\n",
       "      <td>Rivière-des-Prairies–Pointe-aux-Trembles</td>\n",
       "      <td>305542.70</td>\n",
       "      <td>5056824.00</td>\n",
       "      <td>-73.49</td>\n",
       "      <td>45.65</td>\n",
       "      <td>-73.490471_45.651309000000005</td>\n",
       "      <td>305542.7_5056824.0</td>\n",
       "      <td>6</td>\n",
       "      <td>1</td>\n",
       "      <td>-3.00</td>\n",
       "    </tr>\n",
       "    <tr>\n",
       "      <th>27552</th>\n",
       "      <td>17976</td>\n",
       "      <td>2015-07-15</td>\n",
       "      <td>2015-07-14</td>\n",
       "      <td>1.00</td>\n",
       "      <td>2015-07-21</td>\n",
       "      <td>2015-07-21</td>\n",
       "      <td>54</td>\n",
       "      <td>Pointe-aux-Trembles</td>\n",
       "      <td>Rivière-des-Prairies–Pointe-aux-Trembles</td>\n",
       "      <td>305542.70</td>\n",
       "      <td>5056824.00</td>\n",
       "      <td>-73.49</td>\n",
       "      <td>45.65</td>\n",
       "      <td>-73.490471_45.651309000000005</td>\n",
       "      <td>305542.7_5056824.0</td>\n",
       "      <td>7</td>\n",
       "      <td>1</td>\n",
       "      <td>1.00</td>\n",
       "    </tr>\n",
       "    <tr>\n",
       "      <th>28059</th>\n",
       "      <td>22973</td>\n",
       "      <td>2016-06-17</td>\n",
       "      <td>2016-03-04</td>\n",
       "      <td>1.00</td>\n",
       "      <td>2016-03-04</td>\n",
       "      <td>2016-03-04</td>\n",
       "      <td>54</td>\n",
       "      <td>Pointe-aux-Trembles</td>\n",
       "      <td>Rivière-des-Prairies–Pointe-aux-Trembles</td>\n",
       "      <td>305542.70</td>\n",
       "      <td>5056824.00</td>\n",
       "      <td>-73.49</td>\n",
       "      <td>45.65</td>\n",
       "      <td>-73.490471_45.651309000000005</td>\n",
       "      <td>305542.7_5056824.0</td>\n",
       "      <td>6</td>\n",
       "      <td>1</td>\n",
       "      <td>105.00</td>\n",
       "    </tr>\n",
       "    <tr>\n",
       "      <th>30061</th>\n",
       "      <td>17974</td>\n",
       "      <td>2015-07-15</td>\n",
       "      <td>2015-07-14</td>\n",
       "      <td>1.00</td>\n",
       "      <td>2015-07-28</td>\n",
       "      <td>2015-07-28</td>\n",
       "      <td>54</td>\n",
       "      <td>Pointe-aux-Trembles</td>\n",
       "      <td>Rivière-des-Prairies–Pointe-aux-Trembles</td>\n",
       "      <td>305542.70</td>\n",
       "      <td>5056824.00</td>\n",
       "      <td>-73.49</td>\n",
       "      <td>45.65</td>\n",
       "      <td>-73.490471_45.651309000000005</td>\n",
       "      <td>305542.7_5056824.0</td>\n",
       "      <td>7</td>\n",
       "      <td>1</td>\n",
       "      <td>1.00</td>\n",
       "    </tr>\n",
       "    <tr>\n",
       "      <th>30535</th>\n",
       "      <td>12806</td>\n",
       "      <td>2014-07-18</td>\n",
       "      <td>2014-07-15</td>\n",
       "      <td>1.00</td>\n",
       "      <td>2014-07-15</td>\n",
       "      <td>2014-07-15</td>\n",
       "      <td>54</td>\n",
       "      <td>Pointe-aux-Trembles</td>\n",
       "      <td>Rivière-des-Prairies–Pointe-aux-Trembles</td>\n",
       "      <td>305542.70</td>\n",
       "      <td>5056824.00</td>\n",
       "      <td>-73.49</td>\n",
       "      <td>45.65</td>\n",
       "      <td>-73.490471_45.651309000000005</td>\n",
       "      <td>305542.7_5056824.0</td>\n",
       "      <td>7</td>\n",
       "      <td>1</td>\n",
       "      <td>3.00</td>\n",
       "    </tr>\n",
       "    <tr>\n",
       "      <th>31574</th>\n",
       "      <td>17952</td>\n",
       "      <td>2015-07-14</td>\n",
       "      <td>2015-07-09</td>\n",
       "      <td>1.00</td>\n",
       "      <td>2015-07-09</td>\n",
       "      <td>2015-07-09</td>\n",
       "      <td>54</td>\n",
       "      <td>Pointe-aux-Trembles</td>\n",
       "      <td>Rivière-des-Prairies–Pointe-aux-Trembles</td>\n",
       "      <td>305542.70</td>\n",
       "      <td>5056824.00</td>\n",
       "      <td>-73.49</td>\n",
       "      <td>45.65</td>\n",
       "      <td>-73.490471_45.651309000000005</td>\n",
       "      <td>305542.7_5056824.0</td>\n",
       "      <td>7</td>\n",
       "      <td>1</td>\n",
       "      <td>5.00</td>\n",
       "    </tr>\n",
       "    <tr>\n",
       "      <th>31612</th>\n",
       "      <td>22981</td>\n",
       "      <td>2016-06-20</td>\n",
       "      <td>2016-06-17</td>\n",
       "      <td>2.00</td>\n",
       "      <td>2016-06-17</td>\n",
       "      <td>2016-07-28</td>\n",
       "      <td>54</td>\n",
       "      <td>Pointe-aux-Trembles</td>\n",
       "      <td>Rivière-des-Prairies–Pointe-aux-Trembles</td>\n",
       "      <td>305542.70</td>\n",
       "      <td>5056824.00</td>\n",
       "      <td>-73.49</td>\n",
       "      <td>45.65</td>\n",
       "      <td>-73.490471_45.651309000000005</td>\n",
       "      <td>305542.7_5056824.0</td>\n",
       "      <td>6</td>\n",
       "      <td>1</td>\n",
       "      <td>3.00</td>\n",
       "    </tr>\n",
       "  </tbody>\n",
       "</table>\n",
       "</div>"
      ],
      "text/plain": [
       "       NO_DECLARATION DATE_DECLARATION DATE_PRIOR_INSP  EXT_FREQ  \\\n",
       "391             23728       2016-08-15      2016-08-11      1.00   \n",
       "752             16132       2015-02-10      2015-01-09      1.00   \n",
       "2277            22982       2016-06-20      2016-06-17      1.00   \n",
       "2858            23010       2016-06-23      2016-06-21      1.00   \n",
       "2860            22975       2016-06-17      2016-05-06      1.00   \n",
       "3425            23346       2016-07-18      2016-07-14      1.00   \n",
       "3802            22972       2016-06-17      2016-03-04      1.00   \n",
       "5795            22955       2016-06-17      2016-05-16      2.00   \n",
       "9105            12695       2014-07-14      2014-07-03      1.00   \n",
       "10784           22974       2016-06-17      2016-03-04      1.00   \n",
       "12208           17973       2015-07-15      2015-07-14      1.00   \n",
       "13809           25915       2017-01-31      2017-01-24      1.00   \n",
       "14127           12805       2014-07-18      2014-07-15      1.00   \n",
       "17665           22954       2016-06-17      2015-08-14      1.00   \n",
       "18188           22967       2016-06-17      2016-06-08      1.00   \n",
       "21081           18175       2015-08-04      2015-07-28      1.00   \n",
       "22157           25507       2016-12-14      2016-12-09      1.00   \n",
       "26035           12693       2014-07-14      2014-07-03      1.00   \n",
       "26619           17951       2015-07-14      2015-07-09      1.00   \n",
       "26624           17975       2015-07-15      2015-07-14      2.00   \n",
       "27133           22976       2016-06-17      2016-06-20      1.00   \n",
       "27552           17976       2015-07-15      2015-07-14      1.00   \n",
       "28059           22973       2016-06-17      2016-03-04      1.00   \n",
       "30061           17974       2015-07-15      2015-07-14      1.00   \n",
       "30535           12806       2014-07-18      2014-07-15      1.00   \n",
       "31574           17952       2015-07-14      2015-07-09      1.00   \n",
       "31612           22981       2016-06-20      2016-06-17      2.00   \n",
       "\n",
       "      DATE_FIRST_EXT DATE_LAST_EXT HOOD_NUM            HOOD_NAME  \\\n",
       "391       2016-08-18    2016-08-18       54  Pointe-aux-Trembles   \n",
       "752       2015-01-09    2015-01-09       54  Pointe-aux-Trembles   \n",
       "2277      2016-06-17    2016-06-17       54  Pointe-aux-Trembles   \n",
       "2858      2016-06-21    2016-06-21       54  Pointe-aux-Trembles   \n",
       "2860      2016-05-06    2016-05-06       54  Pointe-aux-Trembles   \n",
       "3425      2016-07-14    2016-07-14       54  Pointe-aux-Trembles   \n",
       "3802      2016-07-29    2016-07-29       54  Pointe-aux-Trembles   \n",
       "5795      2016-04-15    2016-05-16       54  Pointe-aux-Trembles   \n",
       "9105      2014-07-03    2014-07-03       54  Pointe-aux-Trembles   \n",
       "10784     2016-03-18    2016-03-18       54  Pointe-aux-Trembles   \n",
       "12208     2015-07-14    2015-07-14       54  Pointe-aux-Trembles   \n",
       "13809     2017-01-24    2017-01-24       54  Pointe-aux-Trembles   \n",
       "14127     2014-07-15    2014-07-15       54  Pointe-aux-Trembles   \n",
       "17665     2015-08-14    2015-08-14       54  Pointe-aux-Trembles   \n",
       "18188     2016-06-08    2016-06-08       54  Pointe-aux-Trembles   \n",
       "21081     2015-07-28    2015-07-28       54  Pointe-aux-Trembles   \n",
       "22157     2017-02-10    2017-02-10       54  Pointe-aux-Trembles   \n",
       "26035     2014-07-03    2014-07-03       54  Pointe-aux-Trembles   \n",
       "26619     2015-07-09    2015-07-09       54  Pointe-aux-Trembles   \n",
       "26624     2015-07-14    2015-08-14       54  Pointe-aux-Trembles   \n",
       "27133     2016-05-20    2016-05-20       54  Pointe-aux-Trembles   \n",
       "27552     2015-07-21    2015-07-21       54  Pointe-aux-Trembles   \n",
       "28059     2016-03-04    2016-03-04       54  Pointe-aux-Trembles   \n",
       "30061     2015-07-28    2015-07-28       54  Pointe-aux-Trembles   \n",
       "30535     2014-07-15    2014-07-15       54  Pointe-aux-Trembles   \n",
       "31574     2015-07-09    2015-07-09       54  Pointe-aux-Trembles   \n",
       "31612     2016-06-17    2016-07-28       54  Pointe-aux-Trembles   \n",
       "\n",
       "                                      BORO_NAME    MTM8_X     MTM8_Y  \\\n",
       "391    Rivière-des-Prairies–Pointe-aux-Trembles 305542.70 5056824.00   \n",
       "752    Rivière-des-Prairies–Pointe-aux-Trembles 305542.70 5056824.00   \n",
       "2277   Rivière-des-Prairies–Pointe-aux-Trembles 305542.70 5056824.00   \n",
       "2858   Rivière-des-Prairies–Pointe-aux-Trembles 305542.70 5056824.00   \n",
       "2860   Rivière-des-Prairies–Pointe-aux-Trembles 305542.70 5056824.00   \n",
       "3425   Rivière-des-Prairies–Pointe-aux-Trembles 305542.70 5056824.00   \n",
       "3802   Rivière-des-Prairies–Pointe-aux-Trembles 305542.70 5056824.00   \n",
       "5795   Rivière-des-Prairies–Pointe-aux-Trembles 305542.70 5056824.00   \n",
       "9105   Rivière-des-Prairies–Pointe-aux-Trembles 305542.70 5056824.00   \n",
       "10784  Rivière-des-Prairies–Pointe-aux-Trembles 305542.70 5056824.00   \n",
       "12208  Rivière-des-Prairies–Pointe-aux-Trembles 305542.70 5056824.00   \n",
       "13809  Rivière-des-Prairies–Pointe-aux-Trembles 305542.70 5056824.00   \n",
       "14127  Rivière-des-Prairies–Pointe-aux-Trembles 305542.70 5056824.00   \n",
       "17665  Rivière-des-Prairies–Pointe-aux-Trembles 305542.70 5056824.00   \n",
       "18188  Rivière-des-Prairies–Pointe-aux-Trembles 305542.70 5056824.00   \n",
       "21081  Rivière-des-Prairies–Pointe-aux-Trembles 305542.70 5056824.00   \n",
       "22157  Rivière-des-Prairies–Pointe-aux-Trembles 305542.70 5056824.00   \n",
       "26035  Rivière-des-Prairies–Pointe-aux-Trembles 305542.70 5056824.00   \n",
       "26619  Rivière-des-Prairies–Pointe-aux-Trembles 305542.70 5056824.00   \n",
       "26624  Rivière-des-Prairies–Pointe-aux-Trembles 305542.70 5056824.00   \n",
       "27133  Rivière-des-Prairies–Pointe-aux-Trembles 305542.70 5056824.00   \n",
       "27552  Rivière-des-Prairies–Pointe-aux-Trembles 305542.70 5056824.00   \n",
       "28059  Rivière-des-Prairies–Pointe-aux-Trembles 305542.70 5056824.00   \n",
       "30061  Rivière-des-Prairies–Pointe-aux-Trembles 305542.70 5056824.00   \n",
       "30535  Rivière-des-Prairies–Pointe-aux-Trembles 305542.70 5056824.00   \n",
       "31574  Rivière-des-Prairies–Pointe-aux-Trembles 305542.70 5056824.00   \n",
       "31612  Rivière-des-Prairies–Pointe-aux-Trembles 305542.70 5056824.00   \n",
       "\n",
       "       LONGITUDE  LATITUDE                       LONG_LAT             MTM_X_Y  \\\n",
       "391       -73.49     45.65  -73.490471_45.651309000000005  305542.7_5056824.0   \n",
       "752       -73.49     45.65  -73.490471_45.651309000000005  305542.7_5056824.0   \n",
       "2277      -73.49     45.65  -73.490471_45.651309000000005  305542.7_5056824.0   \n",
       "2858      -73.49     45.65  -73.490471_45.651309000000005  305542.7_5056824.0   \n",
       "2860      -73.49     45.65  -73.490471_45.651309000000005  305542.7_5056824.0   \n",
       "3425      -73.49     45.65  -73.490471_45.651309000000005  305542.7_5056824.0   \n",
       "3802      -73.49     45.65  -73.490471_45.651309000000005  305542.7_5056824.0   \n",
       "5795      -73.49     45.65  -73.490471_45.651309000000005  305542.7_5056824.0   \n",
       "9105      -73.49     45.65  -73.490471_45.651309000000005  305542.7_5056824.0   \n",
       "10784     -73.49     45.65  -73.490471_45.651309000000005  305542.7_5056824.0   \n",
       "12208     -73.49     45.65  -73.490471_45.651309000000005  305542.7_5056824.0   \n",
       "13809     -73.49     45.65  -73.490471_45.651309000000005  305542.7_5056824.0   \n",
       "14127     -73.49     45.65  -73.490471_45.651309000000005  305542.7_5056824.0   \n",
       "17665     -73.49     45.65  -73.490471_45.651309000000005  305542.7_5056824.0   \n",
       "18188     -73.49     45.65  -73.490471_45.651309000000005  305542.7_5056824.0   \n",
       "21081     -73.49     45.65  -73.490471_45.651309000000005  305542.7_5056824.0   \n",
       "22157     -73.49     45.65  -73.490471_45.651309000000005  305542.7_5056824.0   \n",
       "26035     -73.49     45.65  -73.490471_45.651309000000005  305542.7_5056824.0   \n",
       "26619     -73.49     45.65  -73.490471_45.651309000000005  305542.7_5056824.0   \n",
       "26624     -73.49     45.65  -73.490471_45.651309000000005  305542.7_5056824.0   \n",
       "27133     -73.49     45.65  -73.490471_45.651309000000005  305542.7_5056824.0   \n",
       "27552     -73.49     45.65  -73.490471_45.651309000000005  305542.7_5056824.0   \n",
       "28059     -73.49     45.65  -73.490471_45.651309000000005  305542.7_5056824.0   \n",
       "30061     -73.49     45.65  -73.490471_45.651309000000005  305542.7_5056824.0   \n",
       "30535     -73.49     45.65  -73.490471_45.651309000000005  305542.7_5056824.0   \n",
       "31574     -73.49     45.65  -73.490471_45.651309000000005  305542.7_5056824.0   \n",
       "31612     -73.49     45.65  -73.490471_45.651309000000005  305542.7_5056824.0   \n",
       "\n",
       "       DEC_MONTH  DEC_ISSUE  DATE_DIFF  \n",
       "391            8          1       4.00  \n",
       "752            2          1      32.00  \n",
       "2277           6          1       3.00  \n",
       "2858           6          1       2.00  \n",
       "2860           6          1      42.00  \n",
       "3425           7          1       4.00  \n",
       "3802           6          1     105.00  \n",
       "5795           6          1      32.00  \n",
       "9105           7          1      11.00  \n",
       "10784          6          1     105.00  \n",
       "12208          7          1       1.00  \n",
       "13809          1          1       7.00  \n",
       "14127          7          1       3.00  \n",
       "17665          6          1     308.00  \n",
       "18188          6          1       9.00  \n",
       "21081          8          1       7.00  \n",
       "22157         12          1       5.00  \n",
       "26035          7          1      11.00  \n",
       "26619          7          1       5.00  \n",
       "26624          7          1       1.00  \n",
       "27133          6          1      -3.00  \n",
       "27552          7          1       1.00  \n",
       "28059          6          1     105.00  \n",
       "30061          7          1       1.00  \n",
       "30535          7          1       3.00  \n",
       "31574          7          1       5.00  \n",
       "31612          6          1       3.00  "
      ]
     },
     "execution_count": 30,
     "metadata": {},
     "output_type": "execute_result"
    }
   ],
   "source": [
    "# Intersection with cases of more than one report\n",
    "df_bedbugs[(df_bedbugs['LONGITUDE']==-73.490471) & (df_bedbugs['LATITUDE']==45.651309000000005)]"
   ]
  },
  {
   "cell_type": "code",
   "execution_count": null,
   "metadata": {},
   "outputs": [],
   "source": []
  },
  {
   "cell_type": "markdown",
   "metadata": {},
   "source": [
    "### Dealing with missing values\n",
    "How to deal with the missing values? Should we remove the rows or fill the gap with a value?"
   ]
  },
  {
   "cell_type": "code",
   "execution_count": 31,
   "metadata": {},
   "outputs": [
    {
     "name": "stdout",
     "output_type": "stream",
     "text": [
      "==================TYPES==================\n",
      "NO_DECLARATION               int64\n",
      "DATE_DECLARATION    datetime64[ns]\n",
      "DATE_PRIOR_INSP     datetime64[ns]\n",
      "EXT_FREQ                   float64\n",
      "DATE_FIRST_EXT      datetime64[ns]\n",
      "DATE_LAST_EXT       datetime64[ns]\n",
      "HOOD_NUM                    object\n",
      "HOOD_NAME                   object\n",
      "BORO_NAME                   object\n",
      "MTM8_X                     float64\n",
      "MTM8_Y                     float64\n",
      "LONGITUDE                  float64\n",
      "LATITUDE                   float64\n",
      "LONG_LAT                    object\n",
      "MTM_X_Y                     object\n",
      "DEC_MONTH                    int64\n",
      "DEC_ISSUE                    int64\n",
      "DATE_DIFF                  float64\n",
      "dtype: object\n",
      "\n",
      "==================NULL_VALUES==================\n",
      "NO_DECLARATION         0\n",
      "DATE_DECLARATION       0\n",
      "DATE_PRIOR_INSP        8\n",
      "EXT_FREQ            2124\n",
      "DATE_FIRST_EXT      2124\n",
      "DATE_LAST_EXT       2124\n",
      "HOOD_NUM               0\n",
      "HOOD_NAME              0\n",
      "BORO_NAME              0\n",
      "MTM8_X                 0\n",
      "MTM8_Y                 0\n",
      "LONGITUDE              0\n",
      "LATITUDE               0\n",
      "LONG_LAT               0\n",
      "MTM_X_Y                0\n",
      "DEC_MONTH              0\n",
      "DEC_ISSUE              0\n",
      "DATE_DIFF              8\n",
      "dtype: int64\n"
     ]
    }
   ],
   "source": [
    "print('==================TYPES==================')\n",
    "print(df_bedbugs.dtypes)\n",
    "print('')\n",
    "print('==================NULL_VALUES==================')\n",
    "# Check for null values\n",
    "print(df_bedbugs.isnull().sum())"
   ]
  },
  {
   "cell_type": "markdown",
   "metadata": {},
   "source": [
    "#### Populate blank values in EXT_FREQ"
   ]
  },
  {
   "cell_type": "code",
   "execution_count": 32,
   "metadata": {},
   "outputs": [],
   "source": [
    "# Populate blank values in EXT_FREQ \n",
    "df_bedbugs['EXT_FREQ'].fillna(1, inplace=True)"
   ]
  },
  {
   "cell_type": "markdown",
   "metadata": {},
   "source": [
    "#### Populate blanks with DATE_DECLARATION date"
   ]
  },
  {
   "cell_type": "code",
   "execution_count": 34,
   "metadata": {},
   "outputs": [
    {
     "name": "stdout",
     "output_type": "stream",
     "text": [
      "==================NULL_VALUES==================\n",
      "NO_DECLARATION         0\n",
      "DATE_DECLARATION       0\n",
      "DATE_PRIOR_INSP        8\n",
      "EXT_FREQ               0\n",
      "DATE_FIRST_EXT         0\n",
      "DATE_LAST_EXT       2124\n",
      "HOOD_NUM               0\n",
      "HOOD_NAME              0\n",
      "BORO_NAME              0\n",
      "MTM8_X                 0\n",
      "MTM8_Y                 0\n",
      "LONGITUDE              0\n",
      "LATITUDE               0\n",
      "LONG_LAT               0\n",
      "MTM_X_Y                0\n",
      "DEC_MONTH              0\n",
      "DEC_ISSUE              0\n",
      "DATE_DIFF              8\n",
      "dtype: int64\n"
     ]
    }
   ],
   "source": [
    "# Populate blanks with DATE_DECLARATION date\n",
    "df_bedbugs['DATE_FIRST_EXT'] = df_bedbugs['DATE_FIRST_EXT'].fillna(df_bedbugs['DATE_DECLARATION'].dt.date)\n",
    "\n",
    "print('==================NULL_VALUES==================')\n",
    "# Check for null values\n",
    "print(df_bedbugs.isnull().sum())"
   ]
  },
  {
   "cell_type": "markdown",
   "metadata": {},
   "source": [
    "# Dealing with outliers"
   ]
  },
  {
   "cell_type": "markdown",
   "metadata": {},
   "source": [
    "### Removing outliers"
   ]
  },
  {
   "cell_type": "markdown",
   "metadata": {},
   "source": [
    "### Merging Data Sets"
   ]
  },
  {
   "cell_type": "code",
   "execution_count": 35,
   "metadata": {},
   "outputs": [],
   "source": [
    "df_bedbugs_base = df_bedbugs.copy()"
   ]
  },
  {
   "cell_type": "markdown",
   "metadata": {},
   "source": [
    "### Saving the processed file"
   ]
  },
  {
   "cell_type": "code",
   "execution_count": null,
   "metadata": {},
   "outputs": [],
   "source": [
    "df_bedbugs_base.to_csv('declarations-exterminations-punaises-de-lit-1.csv', index=False)"
   ]
  },
  {
   "cell_type": "code",
   "execution_count": 66,
   "metadata": {},
   "outputs": [
    {
     "name": "stdout",
     "output_type": "stream",
     "text": [
      "==================TYPES==================\n",
      "NO_DECLARATION               int64\n",
      "DATE_DECLARATION    datetime64[ns]\n",
      "DATE_PRIOR_INSP     datetime64[ns]\n",
      "EXT_FREQ                   float64\n",
      "DATE_FIRST_EXT              object\n",
      "DATE_LAST_EXT       datetime64[ns]\n",
      "HOOD_NUM                    object\n",
      "HOOD_NAME                   object\n",
      "BORO_NAME                   object\n",
      "MTM8_X                     float64\n",
      "MTM8_Y                     float64\n",
      "LONGITUDE                  float64\n",
      "LATITUDE                   float64\n",
      "LONG_LAT                    object\n",
      "MTM_X_Y                     object\n",
      "DEC_MONTH                    int64\n",
      "DEC_ISSUE                    int64\n",
      "DATE_DIFF                  float64\n",
      "dtype: object\n",
      "\n",
      "==================COLUMNS==================\n",
      "Index(['NO_DECLARATION', 'DATE_DECLARATION', 'DATE_PRIOR_INSP', 'EXT_FREQ',\n",
      "       'DATE_FIRST_EXT', 'DATE_LAST_EXT', 'HOOD_NUM', 'HOOD_NAME', 'BORO_NAME',\n",
      "       'MTM8_X', 'MTM8_Y', 'LONGITUDE', 'LATITUDE', 'LONG_LAT', 'MTM_X_Y',\n",
      "       'DEC_MONTH', 'DEC_ISSUE', 'DATE_DIFF'],\n",
      "      dtype='object')\n",
      "\n"
     ]
    }
   ],
   "source": [
    "print('==================TYPES==================')\n",
    "print(df_bedbugs_base.dtypes)\n",
    "print('')\n",
    "print('==================COLUMNS==================')\n",
    "print(df_bedbugs.columns)\n",
    "print('')"
   ]
  },
  {
   "cell_type": "code",
   "execution_count": null,
   "metadata": {},
   "outputs": [],
   "source": []
  }
 ],
 "metadata": {
  "anaconda-cloud": {},
  "kernelspec": {
   "display_name": "Python 3",
   "language": "python",
   "name": "python3"
  },
  "language_info": {
   "codemirror_mode": {
    "name": "ipython",
    "version": 3
   },
   "file_extension": ".py",
   "mimetype": "text/x-python",
   "name": "python",
   "nbconvert_exporter": "python",
   "pygments_lexer": "ipython3",
   "version": "3.6.4"
  }
 },
 "nbformat": 4,
 "nbformat_minor": 1
}
