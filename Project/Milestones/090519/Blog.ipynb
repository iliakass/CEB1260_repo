{
 "cells": [
  {
   "cell_type": "markdown",
   "metadata": {},
   "source": [
    "The City of Montreal bedbug infestation declarations dataset, which is available on the city website [Ref 1], is analysed as part of this project.  The dataset contains a list of over 33,000 declarations of confirmed infestations located in the various boroughs.  Included in the dataset are 13 columns detailing the specific dates the infestations were declared along with unique declaration numbers per entry.  Each record also identifies the neighborhood and borough.  The specific locations are solely identified by coordinates to ensure the privacy of the residents.  The dataset also includes inspection dates along with the start and end periods for exterminations including the number of visits per household. \n",
    "\n",
    "The city clarifies some information concerning the data in the following manner.  “The declarations that are not associated exterminations have been removed from the dataset.”[Ref 1]  Therefore, the dataset pertains to households that have been treated.  Declarations linked to non-residential housing or out of the territory of the 19 boroughs have been removed. Finally, for confidentiality purposes, the closest intersection to the dwelling is reference rather the actual location.  Infestation reports since the 5th of July 2011 are included in the dataset.\n",
    "\n",
    "The city website indicates that the data has a low degree of reliability due to the concern that they were entered manually by a third party, and the data is not validated by the City of Montreal. [Ref 1]\n",
    "\n",
    "While analysing the data we found numerous entries, approximately 2,100, with a lack of inspection dates as well as missing start and end dates for the extermination along with missing values for number of visits required.  Since the city indicated that all declarations not associated with extermination declarations are removed from the dataset, we can conclude that a blank visits field is at minimum equal to 1 \n"
   ]
  },
  {
   "cell_type": "markdown",
   "metadata": {},
   "source": [
    "\n",
    "[Ref 1] http://donnees.ville.montreal.qc.ca/dataset/declarations-exterminations-punaises-de-lit \n",
    "\n",
    "As for missing dates, the gaps were filled, if required, by using the Declaration and Inspection dates as approximates to feed the Start and End dates.  \n",
    "\n",
    "Further investigation is required, in order to determine if several events, for the same location grouped under an intersection, are split into several reports. Specifically, the frequency of exterminations is capped at four for each report. [Ref 2]\n",
    "\n",
    "[Ref 2] http://donnees.ville.montreal.qc.ca/dataset/declarations-exterminations-punaises-de-lit/resource/81a05c27-2563-4cf5-9c40-ffcc053e05de?inner_span=True). \n",
    "\n",
    "If more than four events occurred for a report, it needs to be determined through analysis of the data whether the records were split."
   ]
  },
  {
   "cell_type": "code",
   "execution_count": null,
   "metadata": {},
   "outputs": [],
   "source": []
  }
 ],
 "metadata": {
  "kernelspec": {
   "display_name": "Python 3",
   "language": "python",
   "name": "python3"
  },
  "language_info": {
   "codemirror_mode": {
    "name": "ipython",
    "version": 3
   },
   "file_extension": ".py",
   "mimetype": "text/x-python",
   "name": "python",
   "nbconvert_exporter": "python",
   "pygments_lexer": "ipython3",
   "version": "3.6.4"
  }
 },
 "nbformat": 4,
 "nbformat_minor": 2
}
