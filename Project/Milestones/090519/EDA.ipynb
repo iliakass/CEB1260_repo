{
 "cells": [
  {
   "cell_type": "markdown",
   "metadata": {},
   "source": [
    "# Exploratory Data Analysis (EDA) (Notebook 1_Week 3 Deliverable_Part2)"
   ]
  },
  {
   "cell_type": "markdown",
   "metadata": {},
   "source": [
    "### Import libraries"
   ]
  },
  {
   "cell_type": "code",
   "execution_count": 1,
   "metadata": {},
   "outputs": [],
   "source": [
    "# import the library\n",
    "%matplotlib inline\n",
    "\n",
    "import pandas as pd\n",
    "import numpy as np\n",
    "import scipy\n",
    "import matplotlib.pyplot as plt\n",
    "\n",
    "import calendar # for months bar chart\n",
    "\n",
    "# the more advanced python visualization library\n",
    "import seaborn as sns\n",
    "\n",
    "# apply style to all the charts\n",
    "sns.set_style('whitegrid')\n",
    "\n",
    "# convert scientific notation to decimals\n",
    "pd.set_option('display.float_format', lambda x: '%.2f' % x)"
   ]
  },
  {
   "cell_type": "markdown",
   "metadata": {},
   "source": [
    "### Loading clean Dataset"
   ]
  },
  {
   "cell_type": "code",
   "execution_count": 2,
   "metadata": {},
   "outputs": [],
   "source": [
    "# Load the data\n",
    "df = pd.read_csv('declarations-exterminations-punaises-de-lit-1.csv')"
   ]
  },
  {
   "cell_type": "markdown",
   "metadata": {},
   "source": [
    "#### Verify Datatype and make modifications"
   ]
  },
  {
   "cell_type": "code",
   "execution_count": 3,
   "metadata": {},
   "outputs": [
    {
     "name": "stdout",
     "output_type": "stream",
     "text": [
      "NO_DECLARATION        int64\n",
      "DATE_DECLARATION     object\n",
      "DATE_PRIOR_INSP      object\n",
      "EXT_FREQ            float64\n",
      "DATE_FIRST_EXT       object\n",
      "DATE_LAST_EXT        object\n",
      "HOOD_NUM             object\n",
      "HOOD_NAME            object\n",
      "BORO_NAME            object\n",
      "MTM8_X              float64\n",
      "MTM8_Y              float64\n",
      "LONGITUDE           float64\n",
      "LATITUDE            float64\n",
      "LONG_LAT             object\n",
      "MTM_X_Y              object\n",
      "DEC_MONTH             int64\n",
      "DEC_ISSUE             int64\n",
      "DATE_DIFF           float64\n",
      "dtype: object\n"
     ]
    }
   ],
   "source": [
    "print(df.dtypes)"
   ]
  },
  {
   "cell_type": "code",
   "execution_count": 4,
   "metadata": {},
   "outputs": [
    {
     "name": "stdout",
     "output_type": "stream",
     "text": [
      "NO_DECLARATION               int64\n",
      "DATE_DECLARATION    datetime64[ns]\n",
      "DATE_PRIOR_INSP     datetime64[ns]\n",
      "EXT_FREQ                   float64\n",
      "DATE_FIRST_EXT      datetime64[ns]\n",
      "DATE_LAST_EXT       datetime64[ns]\n",
      "HOOD_NUM                    object\n",
      "HOOD_NAME                   object\n",
      "BORO_NAME                   object\n",
      "MTM8_X                     float64\n",
      "MTM8_Y                     float64\n",
      "LONGITUDE                  float64\n",
      "LATITUDE                   float64\n",
      "LONG_LAT                    object\n",
      "MTM_X_Y                     object\n",
      "DEC_MONTH                    int64\n",
      "DEC_ISSUE                    int64\n",
      "DATE_DIFF                  float64\n",
      "dtype: object\n"
     ]
    }
   ],
   "source": [
    "# Convert 'DATE_INSP_VISPRE', 'DATE_DEBUTTRAIT', and 'DATE_FINTRAIT'\n",
    "df['DATE_PRIOR_INSP'] = pd.to_datetime(df['DATE_PRIOR_INSP'])\n",
    "df['DATE_FIRST_EXT'] = pd.to_datetime(df['DATE_FIRST_EXT'])\n",
    "df['DATE_LAST_EXT'] = pd.to_datetime(df['DATE_LAST_EXT'])\n",
    "df['DATE_DECLARATION'] = pd.to_datetime(df['DATE_DECLARATION'])\n",
    "print(df.dtypes)"
   ]
  },
  {
   "cell_type": "markdown",
   "metadata": {},
   "source": [
    "#### Dataframe summary"
   ]
  },
  {
   "cell_type": "code",
   "execution_count": 86,
   "metadata": {},
   "outputs": [
    {
     "name": "stdout",
     "output_type": "stream",
     "text": [
      "Bed bug extermination declarations\n",
      "\n",
      "==================COLUMNS==================\n",
      "Index(['NO_DECLARATION', 'DATE_DECLARATION', 'DATE_PRIOR_INSP', 'EXT_FREQ',\n",
      "       'DATE_FIRST_EXT', 'DATE_LAST_EXT', 'HOOD_NUM', 'HOOD_NAME', 'BORO_NAME',\n",
      "       'MTM8_X', 'MTM8_Y', 'LONGITUDE', 'LATITUDE', 'LONG_LAT', 'MTM_X_Y',\n",
      "       'DEC_MONTH', 'DEC_ISSUE', 'DATE_DIFF', 'DEC_YEAR'],\n",
      "      dtype='object')\n",
      "\n",
      "==================HEAD==================\n",
      "   NO_DECLARATION DATE_DECLARATION DATE_PRIOR_INSP  EXT_FREQ DATE_FIRST_EXT  \\\n",
      "0            4254       2012-10-28      2012-09-21      1.00     2012-09-21   \n",
      "1             830       2011-09-16      2011-07-13      1.00     2011-07-27   \n",
      "2            1380       2011-11-08      2011-11-02      1.00     2011-11-07   \n",
      "3             455       2011-08-10      2011-08-09      1.00     2011-08-09   \n",
      "4            1243       2011-10-26      2011-09-16      1.00     2011-10-05   \n",
      "\n",
      "  DATE_LAST_EXT HOOD_NUM      HOOD_NAME                            BORO_NAME  \\\n",
      "0    2012-09-21       24     Beaurivage        Mercier–Hochelaga-Maisonneuve   \n",
      "1    2011-08-17       50    Saint-Henri                         Le Sud-Ouest   \n",
      "2    2011-11-21       30   Sainte-Marie                          Ville-Marie   \n",
      "3    2011-08-09       44  Upper Lachine  Côte-des-Neiges–Notre-Dame-de-Grâce   \n",
      "4    2011-10-05       19    Petite-Côte            Rosemont–La Petite-Patrie   \n",
      "\n",
      "     MTM8_X     MTM8_Y  LONGITUDE  LATITUDE                      LONG_LAT  \\\n",
      "0 303753.60 5049835.70     -73.51     45.59          -73.513411_45.588426   \n",
      "1 298119.80 5036963.70     -73.59     45.47          -73.585437_45.472569   \n",
      "2 300294.90 5042372.10     -73.56     45.52          -73.557668_45.521253   \n",
      "3 296046.90 5036494.90     -73.61     45.47          -73.611941_45.468327   \n",
      "4 299524.20 5045639.90     -73.57     45.55  -73.56756899999999_45.550652   \n",
      "\n",
      "              MTM_X_Y  DEC_MONTH  DEC_ISSUE  DATE_DIFF  DEC_YEAR  \n",
      "0  303753.6_5049835.7         10          1      37.00      2012  \n",
      "1  298119.8_5036963.7          9          1      65.00      2011  \n",
      "2  300294.9_5042372.1         11          1       6.00      2011  \n",
      "3  296046.9_5036494.9          8          1       1.00      2011  \n",
      "4  299524.2_5045639.9         10          1      40.00      2011  \n",
      "\n",
      "==================TAIL==================\n",
      "       NO_DECLARATION DATE_DECLARATION DATE_PRIOR_INSP  EXT_FREQ  \\\n",
      "33360           22221       2016-04-07      2016-03-29      1.00   \n",
      "33361           23753       2016-08-17      2016-07-27      1.00   \n",
      "33362           26147       2017-02-23      2017-02-10      1.00   \n",
      "33363           25763       2017-01-18      2017-01-12      4.00   \n",
      "33364           29096       2017-10-02      2017-09-29      4.00   \n",
      "\n",
      "      DATE_FIRST_EXT DATE_LAST_EXT HOOD_NUM                      HOOD_NAME  \\\n",
      "33360     2016-04-04    2016-04-04       40                        Snowdon   \n",
      "33361     2016-07-27    2016-07-27       75  L'Île-Bizard–Sainte-Geneviève   \n",
      "33362     2017-02-23    2017-02-23       50                    Saint-Henri   \n",
      "33363     2017-01-12    2017-05-11       63                 Grande-Prairie   \n",
      "33364     2017-09-29    2017-10-13       41              Édouard-Montpetit   \n",
      "\n",
      "                                 BORO_NAME    MTM8_X     MTM8_Y  LONGITUDE  \\\n",
      "33360  Côte-des-Neiges–Notre-Dame-de-Grâce 293508.30 5038936.00     -73.64   \n",
      "33361        L'Île-Bizard–Sainte-Geneviève 276305.70 5038429.00     -73.86   \n",
      "33362                         Le Sud-Ouest 298127.50 5037218.70     -73.59   \n",
      "33363                        Saint-Léonard 299330.40 5049214.00     -73.57   \n",
      "33364  Côte-des-Neiges–Notre-Dame-de-Grâce 295797.50 5040825.60     -73.62   \n",
      "\n",
      "       LATITUDE                       LONG_LAT             MTM_X_Y  DEC_MONTH  \\\n",
      "33360     45.49           -73.644463_45.490257  293508.3_5038936.0          4   \n",
      "33361     45.49  -73.864514_45.485203999999996  276305.7_5038429.0          8   \n",
      "33362     45.47   -73.58534300000001_45.474863  298127.5_5037218.7          2   \n",
      "33363     45.58           -73.570091_45.582812  299330.4_5049214.0          1   \n",
      "33364     45.51           -73.615209_45.507293  295797.5_5040825.6         10   \n",
      "\n",
      "       DEC_ISSUE  DATE_DIFF  DEC_YEAR  \n",
      "33360          1       9.00      2016  \n",
      "33361          1      21.00      2016  \n",
      "33362          1      13.00      2017  \n",
      "33363          1       6.00      2017  \n",
      "33364          1       3.00      2017  \n",
      "\n",
      "==================DESCRIBE==================\n",
      "       NO_DECLARATION  EXT_FREQ    MTM8_X     MTM8_Y  LONGITUDE  LATITUDE  \\\n",
      "count        33365.00  33365.00  33365.00   33365.00   33365.00  33365.00   \n",
      "mean         17119.47      1.46 297055.28 5044088.86     -73.60     45.54   \n",
      "std           9819.57      0.89   3664.67    4756.57       0.05      0.04   \n",
      "min            104.00      1.00 274266.10 5030733.00     -73.89     45.42   \n",
      "25%           8602.00      1.00 294841.50 5041950.60     -73.63     45.52   \n",
      "50%          17099.00      1.00 297627.30 5044129.10     -73.59     45.54   \n",
      "75%          25632.00      2.00 299638.40 5046434.50     -73.57     45.56   \n",
      "max          34130.00      4.00 306021.80 5062070.20     -73.48     45.70   \n",
      "\n",
      "       DEC_MONTH  DEC_ISSUE  DATE_DIFF  DEC_YEAR  \n",
      "count   33365.00   33365.00   33357.00  33365.00  \n",
      "mean        7.13       1.00      37.33   2014.80  \n",
      "std         3.33       0.00      78.70      2.02  \n",
      "min         1.00       1.00    -348.00   2011.00  \n",
      "25%         4.00       1.00       6.00   2013.00  \n",
      "50%         8.00       1.00      15.00   2015.00  \n",
      "75%        10.00       1.00      39.00   2017.00  \n",
      "max        12.00       1.00    3737.00   2018.00  \n"
     ]
    }
   ],
   "source": [
    "#print(df.shape)\n",
    "\n",
    "print('Bed bug extermination declarations')\n",
    "print('')\n",
    "print('==================COLUMNS==================')\n",
    "print(df.columns)\n",
    "print('')\n",
    "print('==================HEAD==================')\n",
    "print(df.head())\n",
    "print('')\n",
    "print('==================TAIL==================')\n",
    "print(df.tail())\n",
    "print('')\n",
    "print('==================DESCRIBE==================')\n",
    "print(df.describe())"
   ]
  },
  {
   "cell_type": "code",
   "execution_count": 6,
   "metadata": {},
   "outputs": [
    {
     "name": "stdout",
     "output_type": "stream",
     "text": [
      "==================BORO_VALUE_COUNT==================\n",
      "Rosemont–La Petite-Patrie                   4320\n",
      "Villeray–Saint-Michel–Parc-Extension        4304\n",
      "Mercier–Hochelaga-Maisonneuve               4036\n",
      "Le Plateau-Mont-Royal                       3696\n",
      "Ville-Marie                                 3347\n",
      "Côte-des-Neiges–Notre-Dame-de-Grâce         2909\n",
      "Ahuntsic-Cartierville                       2695\n",
      "Montréal-Nord                               1754\n",
      "Le Sud-Ouest                                1251\n",
      "Saint-Laurent                               1116\n",
      "Saint-Léonard                                994\n",
      "Verdun                                       782\n",
      "Rivière-des-Prairies–Pointe-aux-Trembles     695\n",
      "LaSalle                                      521\n",
      "Lachine                                      361\n",
      "Anjou                                        304\n",
      "Outremont                                    145\n",
      "Pierrefonds-Roxboro                          117\n",
      "L'Île-Bizard–Sainte-Geneviève                 18\n",
      "Name: BORO_NAME, dtype: int64\n",
      "\n",
      "==================ANALYSIS==================\n",
      "max: 4320\n",
      "min: 18\n",
      "sum: 33365\n",
      "mean: 1756.0526315789473\n",
      "mean: 1756.05\n",
      "std: 1521.2930951793749\n",
      "std: 1521.29\n",
      "median: 1116.0\n",
      "count: 19\n"
     ]
    }
   ],
   "source": [
    "print('==================BORO_VALUE_COUNT==================')\n",
    "print(df['BORO_NAME'].value_counts())\n",
    "print('')\n",
    "print('==================ANALYSIS==================')\n",
    "print('max:',np.max(df['BORO_NAME'].value_counts()))\n",
    "print('min:',np.min(df['BORO_NAME'].value_counts()))\n",
    "print('sum:',np.sum(df['BORO_NAME'].value_counts()))\n",
    "print('mean:',np.mean(df['BORO_NAME'].value_counts()))\n",
    "print('mean:',np.round(np.mean(df['BORO_NAME'].value_counts()),2))\n",
    "print('std:',np.std(df['BORO_NAME'].value_counts()))\n",
    "print('std:',np.round(np.std(df['BORO_NAME'].value_counts()),2))\n",
    "print('median:',np.median(df['BORO_NAME'].value_counts()))\n",
    "print ('count:',df['BORO_NAME'].value_counts().count())"
   ]
  },
  {
   "cell_type": "markdown",
   "metadata": {},
   "source": [
    "#### Create Declaration date Month and Year Columns"
   ]
  },
  {
   "cell_type": "code",
   "execution_count": 88,
   "metadata": {},
   "outputs": [],
   "source": [
    "#We have this for month:\n",
    "df['DEC_MONTH'] = pd.DatetimeIndex(df['DATE_DECLARATION']).month\n",
    "df['DEC_YEAR'] = pd.DatetimeIndex(df['DATE_DECLARATION']).year"
   ]
  },
  {
   "cell_type": "markdown",
   "metadata": {},
   "source": [
    "#### Correletation"
   ]
  },
  {
   "cell_type": "code",
   "execution_count": 48,
   "metadata": {},
   "outputs": [
    {
     "data": {
      "text/html": [
       "<div>\n",
       "<style scoped>\n",
       "    .dataframe tbody tr th:only-of-type {\n",
       "        vertical-align: middle;\n",
       "    }\n",
       "\n",
       "    .dataframe tbody tr th {\n",
       "        vertical-align: top;\n",
       "    }\n",
       "\n",
       "    .dataframe thead th {\n",
       "        text-align: right;\n",
       "    }\n",
       "</style>\n",
       "<table border=\"1\" class=\"dataframe\">\n",
       "  <thead>\n",
       "    <tr style=\"text-align: right;\">\n",
       "      <th></th>\n",
       "      <th>NO_DECLARATION</th>\n",
       "      <th>EXT_FREQ</th>\n",
       "      <th>MTM8_X</th>\n",
       "      <th>MTM8_Y</th>\n",
       "      <th>LONGITUDE</th>\n",
       "      <th>LATITUDE</th>\n",
       "      <th>DEC_MONTH</th>\n",
       "      <th>DEC_ISSUE</th>\n",
       "      <th>DATE_DIFF</th>\n",
       "      <th>DEC_YEAR</th>\n",
       "    </tr>\n",
       "  </thead>\n",
       "  <tbody>\n",
       "    <tr>\n",
       "      <th>NO_DECLARATION</th>\n",
       "      <td>1.00</td>\n",
       "      <td>-0.05</td>\n",
       "      <td>-0.05</td>\n",
       "      <td>-0.00</td>\n",
       "      <td>-0.05</td>\n",
       "      <td>-0.00</td>\n",
       "      <td>0.08</td>\n",
       "      <td>nan</td>\n",
       "      <td>0.11</td>\n",
       "      <td>0.99</td>\n",
       "    </tr>\n",
       "    <tr>\n",
       "      <th>EXT_FREQ</th>\n",
       "      <td>-0.05</td>\n",
       "      <td>1.00</td>\n",
       "      <td>0.02</td>\n",
       "      <td>0.01</td>\n",
       "      <td>0.02</td>\n",
       "      <td>0.01</td>\n",
       "      <td>-0.05</td>\n",
       "      <td>nan</td>\n",
       "      <td>-0.03</td>\n",
       "      <td>-0.04</td>\n",
       "    </tr>\n",
       "    <tr>\n",
       "      <th>MTM8_X</th>\n",
       "      <td>-0.05</td>\n",
       "      <td>0.02</td>\n",
       "      <td>1.00</td>\n",
       "      <td>0.22</td>\n",
       "      <td>1.00</td>\n",
       "      <td>0.22</td>\n",
       "      <td>-0.00</td>\n",
       "      <td>nan</td>\n",
       "      <td>-0.07</td>\n",
       "      <td>-0.05</td>\n",
       "    </tr>\n",
       "    <tr>\n",
       "      <th>MTM8_Y</th>\n",
       "      <td>-0.00</td>\n",
       "      <td>0.01</td>\n",
       "      <td>0.22</td>\n",
       "      <td>1.00</td>\n",
       "      <td>0.22</td>\n",
       "      <td>1.00</td>\n",
       "      <td>0.02</td>\n",
       "      <td>nan</td>\n",
       "      <td>0.01</td>\n",
       "      <td>-0.01</td>\n",
       "    </tr>\n",
       "    <tr>\n",
       "      <th>LONGITUDE</th>\n",
       "      <td>-0.05</td>\n",
       "      <td>0.02</td>\n",
       "      <td>1.00</td>\n",
       "      <td>0.22</td>\n",
       "      <td>1.00</td>\n",
       "      <td>0.22</td>\n",
       "      <td>-0.00</td>\n",
       "      <td>nan</td>\n",
       "      <td>-0.07</td>\n",
       "      <td>-0.05</td>\n",
       "    </tr>\n",
       "    <tr>\n",
       "      <th>LATITUDE</th>\n",
       "      <td>-0.00</td>\n",
       "      <td>0.01</td>\n",
       "      <td>0.22</td>\n",
       "      <td>1.00</td>\n",
       "      <td>0.22</td>\n",
       "      <td>1.00</td>\n",
       "      <td>0.02</td>\n",
       "      <td>nan</td>\n",
       "      <td>0.01</td>\n",
       "      <td>-0.01</td>\n",
       "    </tr>\n",
       "    <tr>\n",
       "      <th>DEC_MONTH</th>\n",
       "      <td>0.08</td>\n",
       "      <td>-0.05</td>\n",
       "      <td>-0.00</td>\n",
       "      <td>0.02</td>\n",
       "      <td>-0.00</td>\n",
       "      <td>0.02</td>\n",
       "      <td>1.00</td>\n",
       "      <td>nan</td>\n",
       "      <td>0.05</td>\n",
       "      <td>-0.06</td>\n",
       "    </tr>\n",
       "    <tr>\n",
       "      <th>DEC_ISSUE</th>\n",
       "      <td>nan</td>\n",
       "      <td>nan</td>\n",
       "      <td>nan</td>\n",
       "      <td>nan</td>\n",
       "      <td>nan</td>\n",
       "      <td>nan</td>\n",
       "      <td>nan</td>\n",
       "      <td>nan</td>\n",
       "      <td>nan</td>\n",
       "      <td>nan</td>\n",
       "    </tr>\n",
       "    <tr>\n",
       "      <th>DATE_DIFF</th>\n",
       "      <td>0.11</td>\n",
       "      <td>-0.03</td>\n",
       "      <td>-0.07</td>\n",
       "      <td>0.01</td>\n",
       "      <td>-0.07</td>\n",
       "      <td>0.01</td>\n",
       "      <td>0.05</td>\n",
       "      <td>nan</td>\n",
       "      <td>1.00</td>\n",
       "      <td>0.10</td>\n",
       "    </tr>\n",
       "    <tr>\n",
       "      <th>DEC_YEAR</th>\n",
       "      <td>0.99</td>\n",
       "      <td>-0.04</td>\n",
       "      <td>-0.05</td>\n",
       "      <td>-0.01</td>\n",
       "      <td>-0.05</td>\n",
       "      <td>-0.01</td>\n",
       "      <td>-0.06</td>\n",
       "      <td>nan</td>\n",
       "      <td>0.10</td>\n",
       "      <td>1.00</td>\n",
       "    </tr>\n",
       "  </tbody>\n",
       "</table>\n",
       "</div>"
      ],
      "text/plain": [
       "                NO_DECLARATION  EXT_FREQ  MTM8_X  MTM8_Y  LONGITUDE  LATITUDE  \\\n",
       "NO_DECLARATION            1.00     -0.05   -0.05   -0.00      -0.05     -0.00   \n",
       "EXT_FREQ                 -0.05      1.00    0.02    0.01       0.02      0.01   \n",
       "MTM8_X                   -0.05      0.02    1.00    0.22       1.00      0.22   \n",
       "MTM8_Y                   -0.00      0.01    0.22    1.00       0.22      1.00   \n",
       "LONGITUDE                -0.05      0.02    1.00    0.22       1.00      0.22   \n",
       "LATITUDE                 -0.00      0.01    0.22    1.00       0.22      1.00   \n",
       "DEC_MONTH                 0.08     -0.05   -0.00    0.02      -0.00      0.02   \n",
       "DEC_ISSUE                  nan       nan     nan     nan        nan       nan   \n",
       "DATE_DIFF                 0.11     -0.03   -0.07    0.01      -0.07      0.01   \n",
       "DEC_YEAR                  0.99     -0.04   -0.05   -0.01      -0.05     -0.01   \n",
       "\n",
       "                DEC_MONTH  DEC_ISSUE  DATE_DIFF  DEC_YEAR  \n",
       "NO_DECLARATION       0.08        nan       0.11      0.99  \n",
       "EXT_FREQ            -0.05        nan      -0.03     -0.04  \n",
       "MTM8_X              -0.00        nan      -0.07     -0.05  \n",
       "MTM8_Y               0.02        nan       0.01     -0.01  \n",
       "LONGITUDE           -0.00        nan      -0.07     -0.05  \n",
       "LATITUDE             0.02        nan       0.01     -0.01  \n",
       "DEC_MONTH            1.00        nan       0.05     -0.06  \n",
       "DEC_ISSUE             nan        nan        nan       nan  \n",
       "DATE_DIFF            0.05        nan       1.00      0.10  \n",
       "DEC_YEAR            -0.06        nan       0.10      1.00  "
      ]
     },
     "execution_count": 48,
     "metadata": {},
     "output_type": "execute_result"
    }
   ],
   "source": [
    "df.corr()"
   ]
  },
  {
   "cell_type": "markdown",
   "metadata": {},
   "source": [
    "There is a strong correlation between MTM8_X and Longitude, and another strong relationship between MTM8_Y and Latitude. All other relationships are negligible."
   ]
  },
  {
   "cell_type": "markdown",
   "metadata": {},
   "source": [
    "# Data Perspective\n",
    "- One variable\n",
    "    - Numeric variables\n",
    "    - Categorical variables\n",
    "Business Perspective"
   ]
  },
  {
   "cell_type": "markdown",
   "metadata": {},
   "source": [
    "## One Variable (numeric)"
   ]
  },
  {
   "cell_type": "code",
   "execution_count": 128,
   "metadata": {},
   "outputs": [
    {
     "name": "stdout",
     "output_type": "stream",
     "text": [
      "==================DESCRIBE==================\n",
      "count   33357.00\n",
      "mean       37.00\n",
      "std        79.00\n",
      "min      -348.00\n",
      "25%         6.00\n",
      "50%        15.00\n",
      "75%        39.00\n",
      "max      3737.00\n",
      "Name: DATE_DIFF, dtype: float64\n",
      "\n",
      "==================DESCRIBE_without_NAN==================\n",
      "count   33357.00\n",
      "mean       37.00\n",
      "std        79.00\n",
      "min      -348.00\n",
      "25%         6.00\n",
      "50%        15.00\n",
      "75%        39.00\n",
      "max      3737.00\n",
      "Name: DATE_DIFF, dtype: float64\n",
      "\n",
      "median: 15.0\n",
      "==================number_of_days_between_declaration_and_inspection==================\n"
     ]
    },
    {
     "data": {
      "image/png": "[encoded data removed]",
      "text/plain": [
       "<matplotlib.figure.Figure at 0xd19fd30>"
      ]
     },
     "metadata": {},
     "output_type": "display_data"
    }
   ],
   "source": [
    "# Analyzing number of days between declaration and inspection\n",
    "\n",
    "# Histogram\n",
    "print('==================DESCRIBE==================')\n",
    "print(df['DATE_DIFF'].describe().round())\n",
    "print('')\n",
    "print('==================DESCRIBE_without_NAN==================')\n",
    "print(df['DATE_DIFF'].describe().round().dropna())\n",
    "print('')\n",
    "print('median: '+str(np.median(df['DATE_DIFF'].round().dropna())))\n",
    "\n",
    "\n",
    "#Ref.: https://stackoverflow.com/questions/20656663/matplotlib-pandas-error-using-histogram\n",
    "plt.figure(figsize=(20,6))\n",
    "plt.hist(df['DATE_DIFF'].dropna(), bins=100) # drop nan\n",
    "print('==================number_of_days_between_declaration_and_inspection==================')\n",
    "plt.show()"
   ]
  },
  {
   "cell_type": "markdown",
   "metadata": {},
   "source": [
    "The mean is more than half of the median, which indicates a strong variability in the number of days between the declaration date and the inspection date."
   ]
  },
  {
   "cell_type": "markdown",
   "metadata": {},
   "source": [
    "## One Variable (categorical)"
   ]
  },
  {
   "cell_type": "markdown",
   "metadata": {},
   "source": [
    "### Boroughs"
   ]
  },
  {
   "cell_type": "code",
   "execution_count": 10,
   "metadata": {
    "scrolled": true
   },
   "outputs": [
    {
     "name": "stdout",
     "output_type": "stream",
     "text": [
      "==================BORO_DESC==================\n",
      "Rosemont–La Petite-Patrie                   4320\n",
      "Villeray–Saint-Michel–Parc-Extension        4304\n",
      "Mercier–Hochelaga-Maisonneuve               4036\n",
      "Le Plateau-Mont-Royal                       3696\n",
      "Ville-Marie                                 3347\n",
      "Côte-des-Neiges–Notre-Dame-de-Grâce         2909\n",
      "Ahuntsic-Cartierville                       2695\n",
      "Montréal-Nord                               1754\n",
      "Le Sud-Ouest                                1251\n",
      "Saint-Laurent                               1116\n",
      "Saint-Léonard                                994\n",
      "Verdun                                       782\n",
      "Rivière-des-Prairies–Pointe-aux-Trembles     695\n",
      "LaSalle                                      521\n",
      "Lachine                                      361\n",
      "Anjou                                        304\n",
      "Outremont                                    145\n",
      "Pierrefonds-Roxboro                          117\n",
      "L'Île-Bizard–Sainte-Geneviève                 18\n",
      "Name: BORO_NAME, dtype: int64\n",
      "\n",
      "==================TOP_4==================\n",
      "First 4 locations represent 49.0 % of total declarations counts\n",
      "\n"
     ]
    },
    {
     "data": {
      "image/png": "[encoded data removed]",
      "text/plain": [
       "<matplotlib.figure.Figure at 0xbaebdd8>"
      ]
     },
     "metadata": {},
     "output_type": "display_data"
    }
   ],
   "source": [
    "# Ref. : https://pythonspot.com/matplotlib-bar-chart/\n",
    "# Ref. : https://python-graph-gallery.com/2-horizontal-barplot/\n",
    "\n",
    "# Analyze by borough distribution with horizontal bar chart\n",
    "print('==================BORO_DESC==================')\n",
    "print(df['BORO_NAME'].value_counts())\n",
    "print('')\n",
    "\n",
    "print('==================TOP_4==================')\n",
    "print( 'First 4 locations represent '+str( round((df['BORO_NAME'].value_counts()[0]\n",
    "             +df['BORO_NAME'].value_counts()[1]\n",
    "             +df['BORO_NAME'].value_counts()[2]\n",
    "             +df['BORO_NAME'].value_counts()[3])\n",
    "           /(df['BORO_NAME'].value_counts()).sum()*100 ))  + ' % of total declarations counts')\n",
    "print('')\n",
    "\n",
    "# Bar Chart\n",
    "plt.figure(figsize=(12,6))\n",
    "plt.title('Top 10 Boroughs By Declaration')\n",
    "\n",
    "labels = df['BORO_NAME'].value_counts().head(10).index\n",
    "values = df['BORO_NAME'].value_counts().head(10).values\n",
    "\n",
    "y_pos = range(len(labels))\n",
    "\n",
    "plt.barh(y_pos, values, align='center', alpha=0.5)\n",
    "plt.yticks(y_pos, labels)\n",
    "\n",
    "plt.ylabel('Boroughs')\n",
    "plt.xlabel('Declarations')\n",
    "\n",
    "\n",
    "plt.show()"
   ]
  },
  {
   "cell_type": "code",
   "execution_count": 11,
   "metadata": {},
   "outputs": [
    {
     "name": "stdout",
     "output_type": "stream",
     "text": [
      "==================BORO_DESC==================\n"
     ]
    },
    {
     "data": {
      "text/html": [
       "<div>\n",
       "<style scoped>\n",
       "    .dataframe tbody tr th:only-of-type {\n",
       "        vertical-align: middle;\n",
       "    }\n",
       "\n",
       "    .dataframe tbody tr th {\n",
       "        vertical-align: top;\n",
       "    }\n",
       "\n",
       "    .dataframe thead th {\n",
       "        text-align: right;\n",
       "    }\n",
       "</style>\n",
       "<table border=\"1\" class=\"dataframe\">\n",
       "  <thead>\n",
       "    <tr style=\"text-align: right;\">\n",
       "      <th></th>\n",
       "      <th>EXT_QT</th>\n",
       "      <th>DECL_QT</th>\n",
       "    </tr>\n",
       "    <tr>\n",
       "      <th>BORO_NAME</th>\n",
       "      <th></th>\n",
       "      <th></th>\n",
       "    </tr>\n",
       "  </thead>\n",
       "  <tbody>\n",
       "    <tr>\n",
       "      <th>Rosemont–La Petite-Patrie</th>\n",
       "      <td>6571.00</td>\n",
       "      <td>4320</td>\n",
       "    </tr>\n",
       "    <tr>\n",
       "      <th>Villeray–Saint-Michel–Parc-Extension</th>\n",
       "      <td>6197.00</td>\n",
       "      <td>4304</td>\n",
       "    </tr>\n",
       "    <tr>\n",
       "      <th>Mercier–Hochelaga-Maisonneuve</th>\n",
       "      <td>6005.00</td>\n",
       "      <td>4036</td>\n",
       "    </tr>\n",
       "    <tr>\n",
       "      <th>Le Plateau-Mont-Royal</th>\n",
       "      <td>5690.00</td>\n",
       "      <td>3696</td>\n",
       "    </tr>\n",
       "    <tr>\n",
       "      <th>Ville-Marie</th>\n",
       "      <td>5031.00</td>\n",
       "      <td>3347</td>\n",
       "    </tr>\n",
       "    <tr>\n",
       "      <th>Côte-des-Neiges–Notre-Dame-de-Grâce</th>\n",
       "      <td>4196.00</td>\n",
       "      <td>2909</td>\n",
       "    </tr>\n",
       "    <tr>\n",
       "      <th>Ahuntsic-Cartierville</th>\n",
       "      <td>3719.00</td>\n",
       "      <td>2695</td>\n",
       "    </tr>\n",
       "    <tr>\n",
       "      <th>Montréal-Nord</th>\n",
       "      <td>2476.00</td>\n",
       "      <td>1754</td>\n",
       "    </tr>\n",
       "    <tr>\n",
       "      <th>Le Sud-Ouest</th>\n",
       "      <td>1715.00</td>\n",
       "      <td>1251</td>\n",
       "    </tr>\n",
       "    <tr>\n",
       "      <th>Saint-Laurent</th>\n",
       "      <td>1706.00</td>\n",
       "      <td>1116</td>\n",
       "    </tr>\n",
       "  </tbody>\n",
       "</table>\n",
       "</div>"
      ],
      "text/plain": [
       "                                      EXT_QT  DECL_QT\n",
       "BORO_NAME                                            \n",
       "Rosemont–La Petite-Patrie            6571.00     4320\n",
       "Villeray–Saint-Michel–Parc-Extension 6197.00     4304\n",
       "Mercier–Hochelaga-Maisonneuve        6005.00     4036\n",
       "Le Plateau-Mont-Royal                5690.00     3696\n",
       "Ville-Marie                          5031.00     3347\n",
       "Côte-des-Neiges–Notre-Dame-de-Grâce  4196.00     2909\n",
       "Ahuntsic-Cartierville                3719.00     2695\n",
       "Montréal-Nord                        2476.00     1754\n",
       "Le Sud-Ouest                         1715.00     1251\n",
       "Saint-Laurent                        1706.00     1116"
      ]
     },
     "execution_count": 11,
     "metadata": {},
     "output_type": "execute_result"
    }
   ],
   "source": [
    "# Ref. : https://pythonspot.com/matplotlib-bar-chart/\n",
    "# Ref. : https://python-graph-gallery.com/2-horizontal-barplot/\n",
    "\n",
    "# Analyze by borough distribution with horizontal bar chart\n",
    "print('==================BORO_DESC==================')\n",
    "((df.groupby(['BORO_NAME'])\n",
    "       .agg({'EXT_FREQ': sum, 'NO_DECLARATION':'count'}))\n",
    "       .sort_values(by = ['EXT_FREQ','NO_DECLARATION'],ascending=False)\n",
    "       .rename(columns={'EXT_FREQ':'EXT_QT','NO_DECLARATION':'DECL_QT'})\n",
    "       .head(10))\n"
   ]
  },
  {
   "cell_type": "markdown",
   "metadata": {},
   "source": [
    "For boroughs orders in descending order based on extermination reports, the order remains unchanged when descending based on the number of declarations."
   ]
  },
  {
   "cell_type": "markdown",
   "metadata": {},
   "source": [
    "### Neighborhoods"
   ]
  },
  {
   "cell_type": "code",
   "execution_count": 12,
   "metadata": {},
   "outputs": [
    {
     "name": "stdout",
     "output_type": "stream",
     "text": [
      "==================TOP_10_HOOD==================\n",
      "Sainte-Marie      1730\n",
      "Crémazie          1205\n",
      "Parc-Extension    1171\n",
      "Maisonneuve       1150\n",
      "Lorimier           964\n",
      "Vieux-Rosemont     938\n",
      "Est                866\n",
      "Père-Marquette     800\n",
      "Cartierville       793\n",
      "Montagne           792\n",
      "Name: HOOD_NAME, dtype: int64\n",
      "\n",
      "==================TOP_4==================\n",
      "First 4 locations represent 24.0 % of total declarations counts\n",
      "\n"
     ]
    },
    {
     "data": {
      "image/png": "[encoded data removed]",
      "text/plain": [
       "<matplotlib.figure.Figure at 0xbb02630>"
      ]
     },
     "metadata": {},
     "output_type": "display_data"
    }
   ],
   "source": [
    "# Analyze Neighborhood distribution\n",
    "print('==================TOP_10_HOOD==================')\n",
    "print(df['HOOD_NAME'].value_counts().head(10))\n",
    "print('')\n",
    "\n",
    "print('==================TOP_4==================')\n",
    "print( 'First 4 locations represent '+str( round((df['BORO_NAME'].value_counts()[0]\n",
    "             +df['HOOD_NAME'].value_counts()[1]\n",
    "             +df['HOOD_NAME'].value_counts()[2]\n",
    "             +df['HOOD_NAME'].value_counts()[3])\n",
    "           /(df['HOOD_NAME'].value_counts()).sum()*100 ))  + ' % of total declarations counts')\n",
    "print('')\n",
    "\n",
    "# Bar Chart\n",
    "plt.figure(figsize=(12,6))\n",
    "plt.title('Top 10 Neighborhoods By Declaration')\n",
    "\n",
    "plt.ylabel('Neighborhoods')\n",
    "plt.xlabel('Declarations')\n",
    "\n",
    "labels = df['HOOD_NAME'].value_counts().head(10).index\n",
    "values = df['HOOD_NAME'].value_counts().head(10).values\n",
    "\n",
    "y_pos = range(len(labels))\n",
    "\n",
    "plt.barh(y_pos, values, align='center', alpha=0.5)\n",
    "plt.yticks(y_pos, labels)\n",
    "\n",
    "plt.show()"
   ]
  },
  {
   "cell_type": "code",
   "execution_count": 13,
   "metadata": {},
   "outputs": [
    {
     "name": "stdout",
     "output_type": "stream",
     "text": [
      "==================TOP_10_HOOD==================\n"
     ]
    },
    {
     "data": {
      "text/html": [
       "<div>\n",
       "<style scoped>\n",
       "    .dataframe tbody tr th:only-of-type {\n",
       "        vertical-align: middle;\n",
       "    }\n",
       "\n",
       "    .dataframe tbody tr th {\n",
       "        vertical-align: top;\n",
       "    }\n",
       "\n",
       "    .dataframe thead th {\n",
       "        text-align: right;\n",
       "    }\n",
       "</style>\n",
       "<table border=\"1\" class=\"dataframe\">\n",
       "  <thead>\n",
       "    <tr style=\"text-align: right;\">\n",
       "      <th></th>\n",
       "      <th>EXT_QT</th>\n",
       "      <th>DECL_QT</th>\n",
       "    </tr>\n",
       "    <tr>\n",
       "      <th>HOOD_NAME</th>\n",
       "      <th></th>\n",
       "      <th></th>\n",
       "    </tr>\n",
       "  </thead>\n",
       "  <tbody>\n",
       "    <tr>\n",
       "      <th>Sainte-Marie</th>\n",
       "      <td>2854.00</td>\n",
       "      <td>1730</td>\n",
       "    </tr>\n",
       "    <tr>\n",
       "      <th>Crémazie</th>\n",
       "      <td>1953.00</td>\n",
       "      <td>1205</td>\n",
       "    </tr>\n",
       "    <tr>\n",
       "      <th>Maisonneuve</th>\n",
       "      <td>1763.00</td>\n",
       "      <td>1150</td>\n",
       "    </tr>\n",
       "    <tr>\n",
       "      <th>Parc-Extension</th>\n",
       "      <td>1534.00</td>\n",
       "      <td>1171</td>\n",
       "    </tr>\n",
       "    <tr>\n",
       "      <th>Lorimier</th>\n",
       "      <td>1399.00</td>\n",
       "      <td>964</td>\n",
       "    </tr>\n",
       "    <tr>\n",
       "      <th>Père-Marquette</th>\n",
       "      <td>1392.00</td>\n",
       "      <td>800</td>\n",
       "    </tr>\n",
       "    <tr>\n",
       "      <th>Vieux-Rosemont</th>\n",
       "      <td>1319.00</td>\n",
       "      <td>938</td>\n",
       "    </tr>\n",
       "    <tr>\n",
       "      <th>Est</th>\n",
       "      <td>1216.00</td>\n",
       "      <td>866</td>\n",
       "    </tr>\n",
       "    <tr>\n",
       "      <th>Parc-Laurier</th>\n",
       "      <td>1213.00</td>\n",
       "      <td>670</td>\n",
       "    </tr>\n",
       "    <tr>\n",
       "      <th>Hochelaga</th>\n",
       "      <td>1143.00</td>\n",
       "      <td>767</td>\n",
       "    </tr>\n",
       "  </tbody>\n",
       "</table>\n",
       "</div>"
      ],
      "text/plain": [
       "                EXT_QT  DECL_QT\n",
       "HOOD_NAME                      \n",
       "Sainte-Marie   2854.00     1730\n",
       "Crémazie       1953.00     1205\n",
       "Maisonneuve    1763.00     1150\n",
       "Parc-Extension 1534.00     1171\n",
       "Lorimier       1399.00      964\n",
       "Père-Marquette 1392.00      800\n",
       "Vieux-Rosemont 1319.00      938\n",
       "Est            1216.00      866\n",
       "Parc-Laurier   1213.00      670\n",
       "Hochelaga      1143.00      767"
      ]
     },
     "execution_count": 13,
     "metadata": {},
     "output_type": "execute_result"
    }
   ],
   "source": [
    "# Analyze Neighborhood distribution\n",
    "print('==================TOP_10_HOOD==================')\n",
    "((df.groupby(['HOOD_NAME'])\n",
    "       .agg({'EXT_FREQ': sum, 'NO_DECLARATION':'count'}))\n",
    "       .sort_values(by = ['EXT_FREQ','NO_DECLARATION'],ascending=False)\n",
    "       .rename(columns={'EXT_FREQ':'EXT_QT','NO_DECLARATION':'DECL_QT'})\n",
    "       .head(10))"
   ]
  },
  {
   "cell_type": "markdown",
   "metadata": {},
   "source": [
    "The order for neighborhoods is different when descending based based on extermination reports rather than the number of declarations."
   ]
  },
  {
   "cell_type": "markdown",
   "metadata": {},
   "source": [
    "When comparing the results between boroughs and neighborhoods, the number of exterminations reports per declaration is more apparent at the neighborhood level. Specifically, it is possible to have more reports for a neighborhood, while having fewer exterminations reports. This is not apparent at the borough level."
   ]
  },
  {
   "cell_type": "markdown",
   "metadata": {},
   "source": [
    "### Quantity of Declarations per Month"
   ]
  },
  {
   "cell_type": "code",
   "execution_count": 31,
   "metadata": {},
   "outputs": [
    {
     "name": "stdout",
     "output_type": "stream",
     "text": [
      "==================DECLARATION_BY_MONTH_DESC==================\n",
      "1     2031\n",
      "2     2264\n",
      "3     2186\n",
      "4     2069\n",
      "5     2069\n",
      "6     2552\n",
      "7     3217\n",
      "8     3202\n",
      "9     3671\n",
      "10    4022\n",
      "11    3379\n",
      "12    2703\n",
      "Name: DEC_MONTH, dtype: int64\n",
      "\n"
     ]
    }
   ],
   "source": [
    "# Analyze Months distribution from declaration\n",
    "print('==================DECLARATION_BY_MONTH_DESC==================')\n",
    "print( (df['DEC_MONTH'].value_counts()).sort_index() )\n",
    "print('')\n",
    "\n",
    "df_m_sorted = (df['DEC_MONTH'].value_counts()).sort_index()"
   ]
  },
  {
   "cell_type": "code",
   "execution_count": 62,
   "metadata": {},
   "outputs": [
    {
     "data": {
      "image/png": "[encoded data removed]",
      "text/plain": [
       "<matplotlib.figure.Figure at 0xce43630>"
      ]
     },
     "metadata": {},
     "output_type": "display_data"
    }
   ],
   "source": [
    "# Bar Chart\n",
    "\n",
    "plt.figure(figsize=(16,6))\n",
    "plt.title('Declarations by Month')\n",
    "plt.xlabel('Month')\n",
    "plt.ylabel('Declarations')\n",
    "\n",
    "labels = df_m_sorted.index\n",
    "labels = ['Jan','Feb','Mar','Apr','May','Jun','Jul','Aug','Sep','Oct','Nov','Dec']\n",
    "values = df_m_sorted.values\n",
    "\n",
    "y_pos = range(len(labels))\n",
    "plt.bar(y_pos, values, align='center', alpha=0.5)\n",
    "plt.xticks(y_pos, labels)\n",
    "plt.show()"
   ]
  },
  {
   "cell_type": "markdown",
   "metadata": {},
   "source": [
    "### Intersections"
   ]
  },
  {
   "cell_type": "code",
   "execution_count": 65,
   "metadata": {},
   "outputs": [
    {
     "name": "stdout",
     "output_type": "stream",
     "text": [
      "==================TOP_10_INTERSECTIONS_BASED_ON_LONG_LAT==================\n",
      "-73.571239_45.584338                     264\n",
      "-73.659233_45.569024                     181\n",
      "-73.620588_45.551456                     151\n",
      "-73.582592_45.49409                      148\n",
      "-73.68714399999999_45.518173             139\n",
      "-73.58043_45.492816999999995             136\n",
      "-73.60591600000001_45.428377000000005    116\n",
      "-73.563652_45.528809                     114\n",
      "-73.604952_45.58441                      107\n",
      "-73.634049_45.504446                     101\n",
      "Name: LONG_LAT, dtype: int64\n",
      "\n",
      "==================TOP_4==================\n",
      "First 4 locations represent 14.0 % of total declarations counts\n",
      "\n"
     ]
    },
    {
     "data": {
      "image/png": "[encoded data removed]",
      "text/plain": [
       "<matplotlib.figure.Figure at 0xd20c630>"
      ]
     },
     "metadata": {},
     "output_type": "display_data"
    }
   ],
   "source": [
    "print('==================TOP_10_INTERSECTIONS_BASED_ON_LONG_LAT==================')\n",
    "# Analyze Coordinates distribution from declaration\n",
    "print(df['LONG_LAT'].value_counts().head(10))\n",
    "print('')\n",
    "\n",
    "print('==================TOP_4==================')\n",
    "print( 'First 4 locations represent '+str( round((df['BORO_NAME'].value_counts()[0]\n",
    "             +df['LONG_LAT'].value_counts()[1]\n",
    "             +df['LONG_LAT'].value_counts()[2]\n",
    "             +df['LONG_LAT'].value_counts()[3])\n",
    "           /(df['LONG_LAT'].value_counts()).sum()*100 ))  + ' % of total declarations counts')\n",
    "print('')\n",
    "\n",
    "\n",
    "# Bar Chart\n",
    "plt.figure(figsize=(12,6))\n",
    "plt.title('Declarations by LON_LAT')\n",
    "\n",
    "plt.ylabel('Coordinates')\n",
    "plt.xlabel('Declarations')\n",
    "\n",
    "labels = df['LONG_LAT'].value_counts().head(10).index\n",
    "values = df['LONG_LAT'].value_counts().head(10).values\n",
    "\n",
    "y_pos = range(len(labels))\n",
    "\n",
    "plt.barh(y_pos, values, align='center', alpha=0.5)\n",
    "plt.yticks(y_pos, labels)\n",
    "\n",
    "plt.show()\n"
   ]
  },
  {
   "cell_type": "markdown",
   "metadata": {},
   "source": [
    "#### Quantities of extermination reports and declarations"
   ]
  },
  {
   "cell_type": "code",
   "execution_count": 66,
   "metadata": {},
   "outputs": [
    {
     "name": "stdout",
     "output_type": "stream",
     "text": [
      "\n",
      "==================TOP_10_INTERSECTIONS_BASED_ON_EXT_FREQ_AND_ON_DECLARATIONS==================\n"
     ]
    },
    {
     "data": {
      "text/html": [
       "<div>\n",
       "<style scoped>\n",
       "    .dataframe tbody tr th:only-of-type {\n",
       "        vertical-align: middle;\n",
       "    }\n",
       "\n",
       "    .dataframe tbody tr th {\n",
       "        vertical-align: top;\n",
       "    }\n",
       "\n",
       "    .dataframe thead th {\n",
       "        text-align: right;\n",
       "    }\n",
       "</style>\n",
       "<table border=\"1\" class=\"dataframe\">\n",
       "  <thead>\n",
       "    <tr style=\"text-align: right;\">\n",
       "      <th></th>\n",
       "      <th></th>\n",
       "      <th></th>\n",
       "      <th>EXT_QT</th>\n",
       "      <th>DECL_QT</th>\n",
       "    </tr>\n",
       "    <tr>\n",
       "      <th>LONG_LAT</th>\n",
       "      <th>HOOD_NAME</th>\n",
       "      <th>BORO_NAME</th>\n",
       "      <th></th>\n",
       "      <th></th>\n",
       "    </tr>\n",
       "  </thead>\n",
       "  <tbody>\n",
       "    <tr>\n",
       "      <th>-73.571239_45.584338</th>\n",
       "      <th>Grande-Prairie</th>\n",
       "      <th>Saint-Léonard</th>\n",
       "      <td>352.00</td>\n",
       "      <td>264</td>\n",
       "    </tr>\n",
       "    <tr>\n",
       "      <th>-73.68714399999999_45.518173</th>\n",
       "      <th>Grenet</th>\n",
       "      <th>Saint-Laurent</th>\n",
       "      <td>302.00</td>\n",
       "      <td>139</td>\n",
       "    </tr>\n",
       "    <tr>\n",
       "      <th>-73.630494_45.509854</th>\n",
       "      <th>Parc-Kent</th>\n",
       "      <th>Côte-des-Neiges–Notre-Dame-de-Grâce</th>\n",
       "      <td>210.00</td>\n",
       "      <td>67</td>\n",
       "    </tr>\n",
       "    <tr>\n",
       "      <th>-73.659233_45.569024</th>\n",
       "      <th>Sault-au-Récollet</th>\n",
       "      <th>Ahuntsic-Cartierville</th>\n",
       "      <td>193.00</td>\n",
       "      <td>181</td>\n",
       "    </tr>\n",
       "    <tr>\n",
       "      <th>-73.585636_45.527404</th>\n",
       "      <th>Parc-Laurier</th>\n",
       "      <th>Le Plateau-Mont-Royal</th>\n",
       "      <td>189.00</td>\n",
       "      <td>79</td>\n",
       "    </tr>\n",
       "    <tr>\n",
       "      <th>-73.600298_45.637873</th>\n",
       "      <th>Marc-Aurèle-Fortin</th>\n",
       "      <th>Rivière-des-Prairies–Pointe-aux-Trembles</th>\n",
       "      <td>181.00</td>\n",
       "      <td>76</td>\n",
       "    </tr>\n",
       "    <tr>\n",
       "      <th>-73.61954399999999_45.545823999999996</th>\n",
       "      <th>Crémazie</th>\n",
       "      <th>Villeray–Saint-Michel–Parc-Extension</th>\n",
       "      <td>176.00</td>\n",
       "      <td>74</td>\n",
       "    </tr>\n",
       "    <tr>\n",
       "      <th>-73.53832299999999_45.543811</th>\n",
       "      <th>Hochelaga</th>\n",
       "      <th>Mercier–Hochelaga-Maisonneuve</th>\n",
       "      <td>164.00</td>\n",
       "      <td>63</td>\n",
       "    </tr>\n",
       "    <tr>\n",
       "      <th>-73.582592_45.49409</th>\n",
       "      <th>Montagne</th>\n",
       "      <th>Ville-Marie</th>\n",
       "      <td>162.00</td>\n",
       "      <td>148</td>\n",
       "    </tr>\n",
       "    <tr>\n",
       "      <th>-73.563652_45.528809</th>\n",
       "      <th>Lorimier</th>\n",
       "      <th>Le Plateau-Mont-Royal</th>\n",
       "      <td>161.00</td>\n",
       "      <td>103</td>\n",
       "    </tr>\n",
       "  </tbody>\n",
       "</table>\n",
       "</div>"
      ],
      "text/plain": [
       "                                                                                                   EXT_QT  \\\n",
       "LONG_LAT                              HOOD_NAME          BORO_NAME                                          \n",
       "-73.571239_45.584338                  Grande-Prairie     Saint-Léonard                             352.00   \n",
       "-73.68714399999999_45.518173          Grenet             Saint-Laurent                             302.00   \n",
       "-73.630494_45.509854                  Parc-Kent          Côte-des-Neiges–Notre-Dame-de-Grâce       210.00   \n",
       "-73.659233_45.569024                  Sault-au-Récollet  Ahuntsic-Cartierville                     193.00   \n",
       "-73.585636_45.527404                  Parc-Laurier       Le Plateau-Mont-Royal                     189.00   \n",
       "-73.600298_45.637873                  Marc-Aurèle-Fortin Rivière-des-Prairies–Pointe-aux-Trembles  181.00   \n",
       "-73.61954399999999_45.545823999999996 Crémazie           Villeray–Saint-Michel–Parc-Extension      176.00   \n",
       "-73.53832299999999_45.543811          Hochelaga          Mercier–Hochelaga-Maisonneuve             164.00   \n",
       "-73.582592_45.49409                   Montagne           Ville-Marie                               162.00   \n",
       "-73.563652_45.528809                  Lorimier           Le Plateau-Mont-Royal                     161.00   \n",
       "\n",
       "                                                                                                   DECL_QT  \n",
       "LONG_LAT                              HOOD_NAME          BORO_NAME                                          \n",
       "-73.571239_45.584338                  Grande-Prairie     Saint-Léonard                                 264  \n",
       "-73.68714399999999_45.518173          Grenet             Saint-Laurent                                 139  \n",
       "-73.630494_45.509854                  Parc-Kent          Côte-des-Neiges–Notre-Dame-de-Grâce            67  \n",
       "-73.659233_45.569024                  Sault-au-Récollet  Ahuntsic-Cartierville                         181  \n",
       "-73.585636_45.527404                  Parc-Laurier       Le Plateau-Mont-Royal                          79  \n",
       "-73.600298_45.637873                  Marc-Aurèle-Fortin Rivière-des-Prairies–Pointe-aux-Trembles       76  \n",
       "-73.61954399999999_45.545823999999996 Crémazie           Villeray–Saint-Michel–Parc-Extension           74  \n",
       "-73.53832299999999_45.543811          Hochelaga          Mercier–Hochelaga-Maisonneuve                  63  \n",
       "-73.582592_45.49409                   Montagne           Ville-Marie                                   148  \n",
       "-73.563652_45.528809                  Lorimier           Le Plateau-Mont-Royal                         103  "
      ]
     },
     "execution_count": 66,
     "metadata": {},
     "output_type": "execute_result"
    }
   ],
   "source": [
    "# Ref. : https://stackoverflow.com/questions/37965380/python-pandas-simple-pivot-table-sum-count\n",
    "    # Ref. : https://www.shanelynn.ie/summarising-aggregation-and-grouping-data-in-python-pandas/\n",
    "\n",
    "# Ref. : https://pandas.pydata.org/pandas-docs/stable/reference/api/pandas.DataFrame.sort_values.html\n",
    "print('')\n",
    "print('==================TOP_10_INTERSECTIONS_BASED_ON_EXT_FREQ_AND_ON_DECLARATIONS==================')\n",
    "((df.groupby(['LONG_LAT','HOOD_NAME','BORO_NAME'])\n",
    "       .agg({'EXT_FREQ': sum, 'NO_DECLARATION':'count'}))\n",
    "       .sort_values(by = ['EXT_FREQ','NO_DECLARATION'],ascending=False)\n",
    "       .rename(columns={'EXT_FREQ':'EXT_QT','NO_DECLARATION':'DECL_QT'})\n",
    "       .head(10))"
   ]
  },
  {
   "cell_type": "markdown",
   "metadata": {},
   "source": [
    "By going from the neighborhood to the intersection level, the number of extermination reports is more apparent is being independent from the number of declarations."
   ]
  },
  {
   "cell_type": "code",
   "execution_count": 75,
   "metadata": {},
   "outputs": [
    {
     "data": {
      "image/png": "[encoded data removed]",
      "text/plain": [
       "<matplotlib.figure.Figure at 0xbb384a8>"
      ]
     },
     "metadata": {},
     "output_type": "display_data"
    }
   ],
   "source": [
    "df_coff = ((df.groupby(['LONG_LAT','HOOD_NAME','BORO_NAME'])\n",
    "       .agg({'EXT_FREQ': sum, 'NO_DECLARATION':'count'}))\n",
    "       .sort_values(by = ['EXT_FREQ','NO_DECLARATION'],ascending=False)\n",
    "       .rename(columns={'EXT_FREQ':'EXT_QT','NO_DECLARATION':'DECL_QT'})\n",
    "        )\n",
    "# Scatter plot\n",
    "plt.figure(figsize=(12,12))\n",
    "plt.title('Declarations vs. Extermination Reports, per intersection')\n",
    "\n",
    "plt.ylabel('Declarations')\n",
    "plt.xlabel('Ext. Reports')\n",
    "\n",
    "plt.plot(df_coff['EXT_QT'], df_coff['DECL_QT'], 'o')\n",
    "plt.show()"
   ]
  },
  {
   "cell_type": "markdown",
   "metadata": {},
   "source": [
    "There is a proportional relationship between the number of declarations and the number of extermination reports. Specifically, one report is assumed to be included in one declaration, as a minimum, while up to four reports can be included in a declaration by definition. This two ranges form the diagonals that bound the dataset and form the cone shap in the figure herein."
   ]
  },
  {
   "cell_type": "markdown",
   "metadata": {},
   "source": [
    "#### View of Boroughs based on Declaration quantity"
   ]
  },
  {
   "cell_type": "code",
   "execution_count": 68,
   "metadata": {},
   "outputs": [],
   "source": [
    "# intersections for boroughs\n",
    "intersection_highest = df['BORO_NAME'].value_counts().head(1).index[0]\n",
    "intersection_lowest = df['BORO_NAME'].value_counts().tail(1).index[0]\n",
    "\n",
    "# dataframes\n",
    "df_intersection_highest = df[df['BORO_NAME'] == intersection_highest]\n",
    "df_intersection_lowest = df[df['BORO_NAME'] == intersection_lowest]\n",
    "\n",
    "# modified dataframes\n",
    "df_highest = ((df_intersection_highest.groupby(['LONG_LAT'])\n",
    "       .agg({'EXT_FREQ': sum, 'NO_DECLARATION':'count'}))\n",
    "       .sort_values(by = ['EXT_FREQ','NO_DECLARATION'],ascending=False)\n",
    "       .rename(columns={'EXT_FREQ':'EXT_QT','NO_DECLARATION':'DECL_QT'})\n",
    "        )\n",
    "\n",
    "df_lowest = ((df_intersection_lowest.groupby(['LONG_LAT'])\n",
    "       .agg({'EXT_FREQ': sum, 'NO_DECLARATION':'count'}))\n",
    "       .sort_values(by = ['EXT_FREQ','NO_DECLARATION'],ascending=False)\n",
    "       .rename(columns={'EXT_FREQ':'EXT_QT','NO_DECLARATION':'DECL_QT'})\n",
    "        )"
   ]
  },
  {
   "cell_type": "code",
   "execution_count": 92,
   "metadata": {},
   "outputs": [
    {
     "data": {
      "image/png": "[encoded data removed]",
      "text/plain": [
       "<matplotlib.figure.Figure at 0xbe7ec18>"
      ]
     },
     "metadata": {},
     "output_type": "display_data"
    }
   ],
   "source": [
    "# Scatter plot\n",
    "plt.figure(figsize=(12,12))\n",
    "plt.title('Declarations vs. Extermination Reports, for boroughs by intersection')\n",
    "\n",
    "plt.ylabel('Declarations')\n",
    "plt.xlabel('Ext. Reports')\n",
    "\n",
    "plt.plot(df_coff['EXT_QT'], df_coff['DECL_QT'], 'o', color='lightgray', alpha=0.6)\n",
    "\n",
    "# L'Île-Bizard–Sainte-Geneviève \n",
    "plt.plot(df_lowest['EXT_QT'], df_lowest['DECL_QT'], 'o', color='red', alpha=0.8)\n",
    "# Rosemont–La Petite-Patrie \n",
    "plt.plot(df_highest['EXT_QT'], df_highest['DECL_QT'], 'o', alpha=0.6)\n",
    "\n",
    "plt.show()\n"
   ]
  },
  {
   "cell_type": "code",
   "execution_count": 70,
   "metadata": {},
   "outputs": [
    {
     "data": {
      "text/html": [
       "<div>\n",
       "<style scoped>\n",
       "    .dataframe tbody tr th:only-of-type {\n",
       "        vertical-align: middle;\n",
       "    }\n",
       "\n",
       "    .dataframe tbody tr th {\n",
       "        vertical-align: top;\n",
       "    }\n",
       "\n",
       "    .dataframe thead th {\n",
       "        text-align: right;\n",
       "    }\n",
       "</style>\n",
       "<table border=\"1\" class=\"dataframe\">\n",
       "  <thead>\n",
       "    <tr style=\"text-align: right;\">\n",
       "      <th></th>\n",
       "      <th>EXT_QT</th>\n",
       "      <th>DECL_QT</th>\n",
       "    </tr>\n",
       "  </thead>\n",
       "  <tbody>\n",
       "    <tr>\n",
       "      <th>EXT_QT</th>\n",
       "      <td>1.00</td>\n",
       "      <td>0.93</td>\n",
       "    </tr>\n",
       "    <tr>\n",
       "      <th>DECL_QT</th>\n",
       "      <td>0.93</td>\n",
       "      <td>1.00</td>\n",
       "    </tr>\n",
       "  </tbody>\n",
       "</table>\n",
       "</div>"
      ],
      "text/plain": [
       "         EXT_QT  DECL_QT\n",
       "EXT_QT     1.00     0.93\n",
       "DECL_QT    0.93     1.00"
      ]
     },
     "execution_count": 70,
     "metadata": {},
     "output_type": "execute_result"
    }
   ],
   "source": [
    "df_highest.corr()"
   ]
  },
  {
   "cell_type": "markdown",
   "metadata": {},
   "source": [
    "The borough, Rosemont–La Petite-Patrie, with the highest declarations quantity has a correlation coefficient of 0.93, with a strong indication of a relationship between the number of declarations and the number of exterminations per declarations."
   ]
  },
  {
   "cell_type": "markdown",
   "metadata": {},
   "source": [
    "#### View of Neighborhood based on Neight quantity"
   ]
  },
  {
   "cell_type": "code",
   "execution_count": 71,
   "metadata": {},
   "outputs": [],
   "source": [
    "# intersections for boroughs\n",
    "intersection_highest = df['HOOD_NAME'].value_counts().head(1).index[0]\n",
    "intersection_lowest = df['HOOD_NAME'].value_counts().tail(1).index[0]\n",
    "\n",
    "# dataframes\n",
    "df_intersection_highest = df[df['HOOD_NAME'] == intersection_highest]\n",
    "df_intersection_lowest = df[df['HOOD_NAME'] == intersection_lowest]\n",
    "\n",
    "# modified dataframes\n",
    "df_highest = ((df_intersection_highest.groupby(['LONG_LAT'])\n",
    "       .agg({'EXT_FREQ': sum, 'NO_DECLARATION':'count'}))\n",
    "       .sort_values(by = ['EXT_FREQ','NO_DECLARATION'],ascending=False)\n",
    "       .rename(columns={'EXT_FREQ':'EXT_QT','NO_DECLARATION':'DECL_QT'})\n",
    "        )\n",
    "\n",
    "df_lowest = ((df_intersection_lowest.groupby(['LONG_LAT'])\n",
    "       .agg({'EXT_FREQ': sum, 'NO_DECLARATION':'count'}))\n",
    "       .sort_values(by = ['EXT_FREQ','NO_DECLARATION'],ascending=False)\n",
    "       .rename(columns={'EXT_FREQ':'EXT_QT','NO_DECLARATION':'DECL_QT'})\n",
    "        )"
   ]
  },
  {
   "cell_type": "code",
   "execution_count": 130,
   "metadata": {},
   "outputs": [
    {
     "data": {
      "image/png": "[encoded data removed]",
      "text/plain": [
       "<matplotlib.figure.Figure at 0xd19df28>"
      ]
     },
     "metadata": {},
     "output_type": "display_data"
    }
   ],
   "source": [
    "# Scatter plot\n",
    "plt.figure(figsize=(12,12))\n",
    "plt.title('Declarations vs. Extermination Reports, for neighborhoods by intersection')\n",
    "\n",
    "plt.ylabel('Declarations')\n",
    "plt.xlabel('Ext. Reports')\n",
    "\n",
    "plt.plot(df_coff['EXT_QT'], df_coff['DECL_QT'], 'o', color='lightgray', alpha=0.6)\n",
    "\n",
    "# L'Île-Bizard–Sainte-Geneviève \n",
    "plt.plot(df_lowest['EXT_QT'], df_lowest['DECL_QT'], 'o', color='red', alpha=0.8)\n",
    "# Sainte-Marie \n",
    "plt.plot(df_highest['EXT_QT'], df_highest['DECL_QT'], 'o', alpha=0.6)\n",
    "\n",
    "plt.show()"
   ]
  },
  {
   "cell_type": "code",
   "execution_count": 76,
   "metadata": {},
   "outputs": [
    {
     "data": {
      "text/html": [
       "<div>\n",
       "<style scoped>\n",
       "    .dataframe tbody tr th:only-of-type {\n",
       "        vertical-align: middle;\n",
       "    }\n",
       "\n",
       "    .dataframe tbody tr th {\n",
       "        vertical-align: top;\n",
       "    }\n",
       "\n",
       "    .dataframe thead th {\n",
       "        text-align: right;\n",
       "    }\n",
       "</style>\n",
       "<table border=\"1\" class=\"dataframe\">\n",
       "  <thead>\n",
       "    <tr style=\"text-align: right;\">\n",
       "      <th></th>\n",
       "      <th>EXT_QT</th>\n",
       "      <th>DECL_QT</th>\n",
       "    </tr>\n",
       "  </thead>\n",
       "  <tbody>\n",
       "    <tr>\n",
       "      <th>EXT_QT</th>\n",
       "      <td>1.00</td>\n",
       "      <td>0.86</td>\n",
       "    </tr>\n",
       "    <tr>\n",
       "      <th>DECL_QT</th>\n",
       "      <td>0.86</td>\n",
       "      <td>1.00</td>\n",
       "    </tr>\n",
       "  </tbody>\n",
       "</table>\n",
       "</div>"
      ],
      "text/plain": [
       "         EXT_QT  DECL_QT\n",
       "EXT_QT     1.00     0.86\n",
       "DECL_QT    0.86     1.00"
      ]
     },
     "execution_count": 76,
     "metadata": {},
     "output_type": "execute_result"
    }
   ],
   "source": [
    "df_highest.corr()"
   ]
  },
  {
   "cell_type": "markdown",
   "metadata": {},
   "source": [
    "The neighborhood, Sainte-Marie, with the highest declarations quantity has a correlation coefficient of 0.86, with an indication of a relationship between the number of declarations and the number of exterminations per declarations; although, the relationship is not as strong as the borough level."
   ]
  },
  {
   "cell_type": "markdown",
   "metadata": {},
   "source": [
    "#### Over time trend"
   ]
  },
  {
   "cell_type": "code",
   "execution_count": 133,
   "metadata": {},
   "outputs": [
    {
     "data": {
      "text/plain": [
       "DEC_YEAR  BORO_NAME              HOOD_NAME       \n",
       "2011      Ahuntsic-Cartierville  Cartierville        20\n",
       "                                 La Visitation       12\n",
       "                                 Nicolas-Viel        21\n",
       "                                 Nouveau-Bordeaux     5\n",
       "                                 Saint-Sulpice        4\n",
       "Name: HOOD_NAME, dtype: int64"
      ]
     },
     "execution_count": 133,
     "metadata": {},
     "output_type": "execute_result"
    }
   ],
   "source": [
    "df.groupby(['DEC_YEAR','BORO_NAME','HOOD_NAME'])['HOOD_NAME'].count().head()"
   ]
  },
  {
   "cell_type": "markdown",
   "metadata": {},
   "source": [
    "# Business Perspective"
   ]
  },
  {
   "cell_type": "markdown",
   "metadata": {
    "slideshow": {
     "slide_type": "notes"
    }
   },
   "source": [
    "## Data Persepective"
   ]
  },
  {
   "cell_type": "markdown",
   "metadata": {
    "slideshow": {
     "slide_type": "notes"
    }
   },
   "source": [
    "## One Variable"
   ]
  },
  {
   "cell_type": "markdown",
   "metadata": {},
   "source": [
    "### Categorical"
   ]
  },
  {
   "cell_type": "markdown",
   "metadata": {},
   "source": [
    "There are a few categorical values that we can generate utilizing our data.  This would be counts based on neighborhood (NOM_QR), borough (NOM_ARROND), declaration date (DATE_DECLARATION) and intersection location (COORD_X x COORD_Y) for longitude and latitude.  This would give us different insights on the infestations declared in the various areas of the city. "
   ]
  },
  {
   "cell_type": "markdown",
   "metadata": {},
   "source": [
    "### Numerical"
   ]
  },
  {
   "cell_type": "markdown",
   "metadata": {},
   "source": [
    "Based on the categorical values we generated above, we can then establish Min, Max, Mean values based on those Counts.  We can also generate Sums based on the number of visits by location or by time of year (based on declaration dates) to possibly gain insight on variables such as temperature or moving period (seasonal). "
   ]
  },
  {
   "cell_type": "markdown",
   "metadata": {
    "slideshow": {
     "slide_type": "notes"
    }
   },
   "source": [
    "## Multiple Variables"
   ]
  },
  {
   "cell_type": "markdown",
   "metadata": {},
   "source": [
    "Multi variable statistics can also be generated based on our dataset to try and establish trends and gain further insight. Examples of such include:\n",
    "\n",
    "-\tCounts on borough (NOM_ARROND) and neighborhood (NOM_QR) by date of declaration\n",
    "-\tNumber of days between DATE_INSP_VISPRE and DATE_DECLARATION. \n",
    "(Long waiting period can cause infestations to spread.)\n",
    "-\tNumber of days between DATE_DECLARATION - DATE_DEBUTTRAIT\n",
    "-\t(Long waiting period can cause infestations to spread.)\n"
   ]
  },
  {
   "cell_type": "markdown",
   "metadata": {
    "slideshow": {
     "slide_type": "notes"
    }
   },
   "source": [
    "# Business Persepective"
   ]
  },
  {
   "cell_type": "markdown",
   "metadata": {},
   "source": [
    "### Descriptive Data Analysis"
   ]
  },
  {
   "cell_type": "markdown",
   "metadata": {},
   "source": [
    "■ Descriptive Analytics\n",
    "\n",
    "What happened? We know that there were exterminations at this location (intersection) in the past, sometimes frequently.\n",
    "\n",
    "■ Diagnostic Analytics\n",
    "\n",
    "Why it happened? History of exterminations nearby, where the bed bugs spread through clothing, humans, animals or other items unto uncontaminated items. With an incubation period, the spread may have been undetected for one to two weeks. \n",
    "Used clothing, used furniture, rental housing, and travel accommodation facilities are available nearby from locations where exterminations occurred.\n",
    "(Environment Canada 2018)\n"
   ]
  },
  {
   "cell_type": "markdown",
   "metadata": {},
   "source": [
    "\n"
   ]
  },
  {
   "cell_type": "markdown",
   "metadata": {},
   "source": [
    "### Diagnostic Data Analysis"
   ]
  },
  {
   "cell_type": "markdown",
   "metadata": {},
   "source": [
    "Bedbugs can spread and infest an area in numerous ways.  Based on government reports we know infestations can spread by human contact (clothing), unsanitary environments, along with used furniture and mattresses to name a few.  This exercise in data mining has been undertaken to potentially uncover flash points, periods and/or locations that can possibly bring to light problematic scenarios that we can rectify and decrease, if not eliminate, future infestations."
   ]
  },
  {
   "cell_type": "markdown",
   "metadata": {},
   "source": [
    "#1 Number of days between Inspection/Declaration and Start-End of extermination.  \n",
    "(Given a lengthy waiting period we could have a potential opportunity for spreading)  "
   ]
  },
  {
   "cell_type": "markdown",
   "metadata": {},
   "source": [
    "#2 Identify the most problematic boroughs\n",
    "(What is the difference between worst and best ranked)"
   ]
  },
  {
   "cell_type": "code",
   "execution_count": 132,
   "metadata": {},
   "outputs": [
    {
     "data": {
      "text/html": [
       "<div>\n",
       "<style scoped>\n",
       "    .dataframe tbody tr th:only-of-type {\n",
       "        vertical-align: middle;\n",
       "    }\n",
       "\n",
       "    .dataframe tbody tr th {\n",
       "        vertical-align: top;\n",
       "    }\n",
       "\n",
       "    .dataframe thead th {\n",
       "        text-align: right;\n",
       "    }\n",
       "</style>\n",
       "<table border=\"1\" class=\"dataframe\">\n",
       "  <thead>\n",
       "    <tr style=\"text-align: right;\">\n",
       "      <th></th>\n",
       "      <th>EXT_QT</th>\n",
       "      <th>DECL_QT</th>\n",
       "    </tr>\n",
       "    <tr>\n",
       "      <th>LONG_LAT</th>\n",
       "      <th></th>\n",
       "      <th></th>\n",
       "    </tr>\n",
       "  </thead>\n",
       "  <tbody>\n",
       "    <tr>\n",
       "      <th>-73.598378_45.536406</th>\n",
       "      <td>112.00</td>\n",
       "      <td>56</td>\n",
       "    </tr>\n",
       "    <tr>\n",
       "      <th>-73.602518_45.536734</th>\n",
       "      <td>109.00</td>\n",
       "      <td>49</td>\n",
       "    </tr>\n",
       "    <tr>\n",
       "      <th>-73.571621_45.559263</th>\n",
       "      <td>106.00</td>\n",
       "      <td>33</td>\n",
       "    </tr>\n",
       "    <tr>\n",
       "      <th>-73.597124_45.537769</th>\n",
       "      <td>96.00</td>\n",
       "      <td>70</td>\n",
       "    </tr>\n",
       "    <tr>\n",
       "      <th>-73.60778_45.541664000000004</th>\n",
       "      <td>87.00</td>\n",
       "      <td>45</td>\n",
       "    </tr>\n",
       "    <tr>\n",
       "      <th>-73.596666_45.543159</th>\n",
       "      <td>86.00</td>\n",
       "      <td>85</td>\n",
       "    </tr>\n",
       "    <tr>\n",
       "      <th>-73.587305_45.551797</th>\n",
       "      <td>86.00</td>\n",
       "      <td>41</td>\n",
       "    </tr>\n",
       "    <tr>\n",
       "      <th>-73.576198_45.566593</th>\n",
       "      <td>82.00</td>\n",
       "      <td>38</td>\n",
       "    </tr>\n",
       "    <tr>\n",
       "      <th>-73.60304599999999_45.541534000000006</th>\n",
       "      <td>78.00</td>\n",
       "      <td>41</td>\n",
       "    </tr>\n",
       "    <tr>\n",
       "      <th>-73.603546_45.546347999999995</th>\n",
       "      <td>74.00</td>\n",
       "      <td>35</td>\n",
       "    </tr>\n",
       "    <tr>\n",
       "      <th>-73.572422_45.565453999999995</th>\n",
       "      <td>72.00</td>\n",
       "      <td>42</td>\n",
       "    </tr>\n",
       "    <tr>\n",
       "      <th>-73.596011_45.533765</th>\n",
       "      <td>70.00</td>\n",
       "      <td>30</td>\n",
       "    </tr>\n",
       "    <tr>\n",
       "      <th>-73.605724_45.533235</th>\n",
       "      <td>69.00</td>\n",
       "      <td>43</td>\n",
       "    </tr>\n",
       "    <tr>\n",
       "      <th>-73.596367_45.530281</th>\n",
       "      <td>65.00</td>\n",
       "      <td>35</td>\n",
       "    </tr>\n",
       "    <tr>\n",
       "      <th>-73.56756899999999_45.550652</th>\n",
       "      <td>64.00</td>\n",
       "      <td>58</td>\n",
       "    </tr>\n",
       "    <tr>\n",
       "      <th>-73.57816600000001_45.564351</th>\n",
       "      <td>57.00</td>\n",
       "      <td>20</td>\n",
       "    </tr>\n",
       "    <tr>\n",
       "      <th>-73.57697900000001_45.559046</th>\n",
       "      <td>56.00</td>\n",
       "      <td>27</td>\n",
       "    </tr>\n",
       "    <tr>\n",
       "      <th>-73.580479_45.545016</th>\n",
       "      <td>55.00</td>\n",
       "      <td>48</td>\n",
       "    </tr>\n",
       "    <tr>\n",
       "      <th>-73.612815_45.536466</th>\n",
       "      <td>51.00</td>\n",
       "      <td>46</td>\n",
       "    </tr>\n",
       "    <tr>\n",
       "      <th>-73.56402_45.549783000000005</th>\n",
       "      <td>50.00</td>\n",
       "      <td>20</td>\n",
       "    </tr>\n",
       "    <tr>\n",
       "      <th>-73.572897_45.544936</th>\n",
       "      <td>48.00</td>\n",
       "      <td>35</td>\n",
       "    </tr>\n",
       "    <tr>\n",
       "      <th>-73.58287800000001_45.555673</th>\n",
       "      <td>46.00</td>\n",
       "      <td>14</td>\n",
       "    </tr>\n",
       "    <tr>\n",
       "      <th>-73.58770799999999_45.543245</th>\n",
       "      <td>44.00</td>\n",
       "      <td>38</td>\n",
       "    </tr>\n",
       "    <tr>\n",
       "      <th>-73.595552_45.532706</th>\n",
       "      <td>44.00</td>\n",
       "      <td>25</td>\n",
       "    </tr>\n",
       "    <tr>\n",
       "      <th>-73.60431700000001_45.534744</th>\n",
       "      <td>44.00</td>\n",
       "      <td>24</td>\n",
       "    </tr>\n",
       "    <tr>\n",
       "      <th>-73.56967900000001_45.557199</th>\n",
       "      <td>42.00</td>\n",
       "      <td>31</td>\n",
       "    </tr>\n",
       "    <tr>\n",
       "      <th>-73.571506_45.553932</th>\n",
       "      <td>42.00</td>\n",
       "      <td>31</td>\n",
       "    </tr>\n",
       "    <tr>\n",
       "      <th>-73.588633_45.543772</th>\n",
       "      <td>40.00</td>\n",
       "      <td>24</td>\n",
       "    </tr>\n",
       "    <tr>\n",
       "      <th>-73.570077_45.552115</th>\n",
       "      <td>40.00</td>\n",
       "      <td>12</td>\n",
       "    </tr>\n",
       "    <tr>\n",
       "      <th>-73.558899_45.555962</th>\n",
       "      <td>39.00</td>\n",
       "      <td>18</td>\n",
       "    </tr>\n",
       "    <tr>\n",
       "      <th>...</th>\n",
       "      <td>...</td>\n",
       "      <td>...</td>\n",
       "    </tr>\n",
       "    <tr>\n",
       "      <th>-73.591567_45.548973</th>\n",
       "      <td>1.00</td>\n",
       "      <td>1</td>\n",
       "    </tr>\n",
       "    <tr>\n",
       "      <th>-73.591616_45.552839</th>\n",
       "      <td>1.00</td>\n",
       "      <td>1</td>\n",
       "    </tr>\n",
       "    <tr>\n",
       "      <th>-73.591828_45.538359</th>\n",
       "      <td>1.00</td>\n",
       "      <td>1</td>\n",
       "    </tr>\n",
       "    <tr>\n",
       "      <th>-73.592055_45.535461</th>\n",
       "      <td>1.00</td>\n",
       "      <td>1</td>\n",
       "    </tr>\n",
       "    <tr>\n",
       "      <th>-73.592249_45.534760999999996</th>\n",
       "      <td>1.00</td>\n",
       "      <td>1</td>\n",
       "    </tr>\n",
       "    <tr>\n",
       "      <th>-73.593296_45.549779</th>\n",
       "      <td>1.00</td>\n",
       "      <td>1</td>\n",
       "    </tr>\n",
       "    <tr>\n",
       "      <th>-73.593386_45.532576</th>\n",
       "      <td>1.00</td>\n",
       "      <td>1</td>\n",
       "    </tr>\n",
       "    <tr>\n",
       "      <th>-73.59349399999999_45.553714</th>\n",
       "      <td>1.00</td>\n",
       "      <td>1</td>\n",
       "    </tr>\n",
       "    <tr>\n",
       "      <th>-73.593963_45.531987</th>\n",
       "      <td>1.00</td>\n",
       "      <td>1</td>\n",
       "    </tr>\n",
       "    <tr>\n",
       "      <th>-73.594347_45.553967</th>\n",
       "      <td>1.00</td>\n",
       "      <td>1</td>\n",
       "    </tr>\n",
       "    <tr>\n",
       "      <th>-73.596062_45.541166</th>\n",
       "      <td>1.00</td>\n",
       "      <td>1</td>\n",
       "    </tr>\n",
       "    <tr>\n",
       "      <th>-73.597499_45.530596</th>\n",
       "      <td>1.00</td>\n",
       "      <td>1</td>\n",
       "    </tr>\n",
       "    <tr>\n",
       "      <th>-73.607605_45.54733</th>\n",
       "      <td>1.00</td>\n",
       "      <td>1</td>\n",
       "    </tr>\n",
       "    <tr>\n",
       "      <th>-73.608496_45.530205</th>\n",
       "      <td>1.00</td>\n",
       "      <td>1</td>\n",
       "    </tr>\n",
       "    <tr>\n",
       "      <th>-73.609408_45.545353000000006</th>\n",
       "      <td>1.00</td>\n",
       "      <td>1</td>\n",
       "    </tr>\n",
       "    <tr>\n",
       "      <th>-73.60952900000001_45.534438</th>\n",
       "      <td>1.00</td>\n",
       "      <td>1</td>\n",
       "    </tr>\n",
       "    <tr>\n",
       "      <th>-73.609989_45.539251</th>\n",
       "      <td>1.00</td>\n",
       "      <td>1</td>\n",
       "    </tr>\n",
       "    <tr>\n",
       "      <th>-73.611065_45.528851</th>\n",
       "      <td>1.00</td>\n",
       "      <td>1</td>\n",
       "    </tr>\n",
       "    <tr>\n",
       "      <th>-73.61149_45.535318</th>\n",
       "      <td>1.00</td>\n",
       "      <td>1</td>\n",
       "    </tr>\n",
       "    <tr>\n",
       "      <th>-73.612362_45.534394</th>\n",
       "      <td>1.00</td>\n",
       "      <td>1</td>\n",
       "    </tr>\n",
       "    <tr>\n",
       "      <th>-73.61278100000001_45.535276</th>\n",
       "      <td>1.00</td>\n",
       "      <td>1</td>\n",
       "    </tr>\n",
       "    <tr>\n",
       "      <th>-73.612832_45.533885999999995</th>\n",
       "      <td>1.00</td>\n",
       "      <td>1</td>\n",
       "    </tr>\n",
       "    <tr>\n",
       "      <th>-73.61352600000001_45.539902000000005</th>\n",
       "      <td>1.00</td>\n",
       "      <td>1</td>\n",
       "    </tr>\n",
       "    <tr>\n",
       "      <th>-73.613814_45.539061</th>\n",
       "      <td>1.00</td>\n",
       "      <td>1</td>\n",
       "    </tr>\n",
       "    <tr>\n",
       "      <th>-73.615157_45.532378</th>\n",
       "      <td>1.00</td>\n",
       "      <td>1</td>\n",
       "    </tr>\n",
       "    <tr>\n",
       "      <th>-73.615685_45.531743</th>\n",
       "      <td>1.00</td>\n",
       "      <td>1</td>\n",
       "    </tr>\n",
       "    <tr>\n",
       "      <th>-73.616864_45.5357</th>\n",
       "      <td>1.00</td>\n",
       "      <td>1</td>\n",
       "    </tr>\n",
       "    <tr>\n",
       "      <th>-73.61739_45.53518</th>\n",
       "      <td>1.00</td>\n",
       "      <td>1</td>\n",
       "    </tr>\n",
       "    <tr>\n",
       "      <th>-73.617598_45.530902000000005</th>\n",
       "      <td>1.00</td>\n",
       "      <td>1</td>\n",
       "    </tr>\n",
       "    <tr>\n",
       "      <th>-73.617716_45.53199</th>\n",
       "      <td>1.00</td>\n",
       "      <td>1</td>\n",
       "    </tr>\n",
       "  </tbody>\n",
       "</table>\n",
       "<p>555 rows × 2 columns</p>\n",
       "</div>"
      ],
      "text/plain": [
       "                                       EXT_QT  DECL_QT\n",
       "LONG_LAT                                              \n",
       "-73.598378_45.536406                   112.00       56\n",
       "-73.602518_45.536734                   109.00       49\n",
       "-73.571621_45.559263                   106.00       33\n",
       "-73.597124_45.537769                    96.00       70\n",
       "-73.60778_45.541664000000004            87.00       45\n",
       "-73.596666_45.543159                    86.00       85\n",
       "-73.587305_45.551797                    86.00       41\n",
       "-73.576198_45.566593                    82.00       38\n",
       "-73.60304599999999_45.541534000000006   78.00       41\n",
       "-73.603546_45.546347999999995           74.00       35\n",
       "-73.572422_45.565453999999995           72.00       42\n",
       "-73.596011_45.533765                    70.00       30\n",
       "-73.605724_45.533235                    69.00       43\n",
       "-73.596367_45.530281                    65.00       35\n",
       "-73.56756899999999_45.550652            64.00       58\n",
       "-73.57816600000001_45.564351            57.00       20\n",
       "-73.57697900000001_45.559046            56.00       27\n",
       "-73.580479_45.545016                    55.00       48\n",
       "-73.612815_45.536466                    51.00       46\n",
       "-73.56402_45.549783000000005            50.00       20\n",
       "-73.572897_45.544936                    48.00       35\n",
       "-73.58287800000001_45.555673            46.00       14\n",
       "-73.58770799999999_45.543245            44.00       38\n",
       "-73.595552_45.532706                    44.00       25\n",
       "-73.60431700000001_45.534744            44.00       24\n",
       "-73.56967900000001_45.557199            42.00       31\n",
       "-73.571506_45.553932                    42.00       31\n",
       "-73.588633_45.543772                    40.00       24\n",
       "-73.570077_45.552115                    40.00       12\n",
       "-73.558899_45.555962                    39.00       18\n",
       "...                                       ...      ...\n",
       "-73.591567_45.548973                     1.00        1\n",
       "-73.591616_45.552839                     1.00        1\n",
       "-73.591828_45.538359                     1.00        1\n",
       "-73.592055_45.535461                     1.00        1\n",
       "-73.592249_45.534760999999996            1.00        1\n",
       "-73.593296_45.549779                     1.00        1\n",
       "-73.593386_45.532576                     1.00        1\n",
       "-73.59349399999999_45.553714             1.00        1\n",
       "-73.593963_45.531987                     1.00        1\n",
       "-73.594347_45.553967                     1.00        1\n",
       "-73.596062_45.541166                     1.00        1\n",
       "-73.597499_45.530596                     1.00        1\n",
       "-73.607605_45.54733                      1.00        1\n",
       "-73.608496_45.530205                     1.00        1\n",
       "-73.609408_45.545353000000006            1.00        1\n",
       "-73.60952900000001_45.534438             1.00        1\n",
       "-73.609989_45.539251                     1.00        1\n",
       "-73.611065_45.528851                     1.00        1\n",
       "-73.61149_45.535318                      1.00        1\n",
       "-73.612362_45.534394                     1.00        1\n",
       "-73.61278100000001_45.535276             1.00        1\n",
       "-73.612832_45.533885999999995            1.00        1\n",
       "-73.61352600000001_45.539902000000005    1.00        1\n",
       "-73.613814_45.539061                     1.00        1\n",
       "-73.615157_45.532378                     1.00        1\n",
       "-73.615685_45.531743                     1.00        1\n",
       "-73.616864_45.5357                       1.00        1\n",
       "-73.61739_45.53518                       1.00        1\n",
       "-73.617598_45.530902000000005            1.00        1\n",
       "-73.617716_45.53199                      1.00        1\n",
       "\n",
       "[555 rows x 2 columns]"
      ]
     },
     "execution_count": 132,
     "metadata": {},
     "output_type": "execute_result"
    }
   ],
   "source": [
    "# intersections for boroughs\n",
    "intersection_highest = df['BORO_NAME'].value_counts().head(1).index[0]\n",
    "intersection_lowest = df['BORO_NAME'].value_counts().tail(1).index[0]\n",
    "\n",
    "# dataframes\n",
    "df_intersection_highest = df[df['BORO_NAME'] == intersection_highest]\n",
    "df_intersection_lowest = df[df['BORO_NAME'] == intersection_lowest]\n",
    "\n",
    "# modified dataframes\n",
    "((df_intersection_highest.groupby(['LONG_LAT'])\n",
    "       .agg({'EXT_FREQ': sum, 'NO_DECLARATION':'count'}))\n",
    "       .sort_values(by = ['EXT_FREQ','NO_DECLARATION'],ascending=False)\n",
    "       .rename(columns={'EXT_FREQ':'EXT_QT','NO_DECLARATION':'DECL_QT'})\n",
    "        )"
   ]
  },
  {
   "cell_type": "markdown",
   "metadata": {},
   "source": [
    "#3 Identify the most problematic neighborhood\n",
    "(What is the difference between worst and best ranked)"
   ]
  },
  {
   "cell_type": "markdown",
   "metadata": {},
   "source": [
    "#4 Based on 2 and 3, is the issue borough wide or at neighborhood level? \n",
    "(Management issue)"
   ]
  },
  {
   "cell_type": "markdown",
   "metadata": {},
   "source": [
    "#5 When was the declaration made?\n",
    "(Is the problem based on a specific time of year? Heat? Moving period?)"
   ]
  },
  {
   "cell_type": "markdown",
   "metadata": {},
   "source": [
    "#6 Is a problem more relevant to a particular block?\n",
    "(COORD_X x COORD_Y)"
   ]
  },
  {
   "cell_type": "markdown",
   "metadata": {},
   "source": [
    "#7 Nbr_Exterminations x COORD_X x COORD_Y x Nom_QR\n",
    "(Can the issue be subject to extermination mismanagement?) "
   ]
  },
  {
   "cell_type": "code",
   "execution_count": null,
   "metadata": {},
   "outputs": [],
   "source": []
  }
 ],
 "metadata": {
  "anaconda-cloud": {},
  "kernelspec": {
   "display_name": "Python 3",
   "language": "python",
   "name": "python3"
  },
  "language_info": {
   "codemirror_mode": {
    "name": "ipython",
    "version": 3
   },
   "file_extension": ".py",
   "mimetype": "text/x-python",
   "name": "python",
   "nbconvert_exporter": "python",
   "pygments_lexer": "ipython3",
   "version": "3.6.4"
  }
 },
 "nbformat": 4,
 "nbformat_minor": 1
}
