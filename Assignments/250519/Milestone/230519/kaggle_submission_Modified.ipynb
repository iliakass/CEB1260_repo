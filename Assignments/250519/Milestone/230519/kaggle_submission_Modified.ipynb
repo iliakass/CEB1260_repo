{
 "cells": [
  {
   "cell_type": "code",
   "execution_count": 1,
   "metadata": {},
   "outputs": [],
   "source": [
    "# Ref.: https://github.com/arybressane/CEBD1260-BIG-DATA-ANALYTICS"
   ]
  },
  {
   "cell_type": "code",
   "execution_count": 2,
   "metadata": {},
   "outputs": [],
   "source": [
    "# import the library\n",
    "%matplotlib inline\n",
    "\n",
    "import pandas as pd\n",
    "import numpy as np\n",
    "import matplotlib.pyplot as plt\n",
    "import seaborn as sns\n",
    "\n",
    "# sklearn :: utils\n",
    "from sklearn.model_selection import train_test_split\n",
    "\n",
    "# sklearn :: models\n",
    "from sklearn.linear_model import LinearRegression\n",
    "from sklearn.ensemble import RandomForestRegressor\n",
    "\n",
    "# knn model\n",
    "from sklearn.neighbors import KNeighborsRegressor\n",
    "\n",
    "# decision tree model\n",
    "from sklearn.tree import DecisionTreeRegressor\n",
    "\n",
    "# sklearn :: evaluation metrics\n",
    "from sklearn.metrics import mean_absolute_error\n",
    "from sklearn.metrics import mean_squared_error\n",
    "\n",
    "\n",
    "sns.set_style('whitegrid')"
   ]
  },
  {
   "cell_type": "markdown",
   "metadata": {},
   "source": [
    "# Problem definition"
   ]
  },
  {
   "cell_type": "markdown",
   "metadata": {},
   "source": [
    "Apply regression models to predict Airbnb prices"
   ]
  },
  {
   "cell_type": "markdown",
   "metadata": {},
   "source": [
    "# Load the data"
   ]
  },
  {
   "cell_type": "code",
   "execution_count": 3,
   "metadata": {},
   "outputs": [
    {
     "name": "stdout",
     "output_type": "stream",
     "text": [
      "df_train shape:(51000, 29)\n",
      "df_test shape:(23111, 28)\n"
     ]
    }
   ],
   "source": [
    "df_train = pd.read_csv('data/train.csv')\n",
    "df_test = pd.read_csv('data/test.csv')\n",
    "print(\"df_train shape:\"+str(df_train.shape) )\n",
    "print(\"df_test shape:\"+str(df_test.shape) )"
   ]
  },
  {
   "cell_type": "code",
   "execution_count": 4,
   "metadata": {},
   "outputs": [
    {
     "name": "stdout",
     "output_type": "stream",
     "text": [
      "Index(['id', 'log_price', 'property_type', 'room_type', 'amenities',\n",
      "       'accommodates', 'bathrooms', 'bed_type', 'cancellation_policy',\n",
      "       'cleaning_fee', 'city', 'description', 'first_review',\n",
      "       'host_has_profile_pic', 'host_identity_verified', 'host_response_rate',\n",
      "       'host_since', 'instant_bookable', 'last_review', 'latitude',\n",
      "       'longitude', 'name', 'neighbourhood', 'number_of_reviews',\n",
      "       'review_scores_rating', 'thumbnail_url', 'zipcode', 'bedrooms', 'beds'],\n",
      "      dtype='object')\n"
     ]
    }
   ],
   "source": [
    "print(df_train.columns)"
   ]
  },
  {
   "cell_type": "code",
   "execution_count": 5,
   "metadata": {},
   "outputs": [
    {
     "data": {
      "text/html": [
       "<div>\n",
       "<style scoped>\n",
       "    .dataframe tbody tr th:only-of-type {\n",
       "        vertical-align: middle;\n",
       "    }\n",
       "\n",
       "    .dataframe tbody tr th {\n",
       "        vertical-align: top;\n",
       "    }\n",
       "\n",
       "    .dataframe thead th {\n",
       "        text-align: right;\n",
       "    }\n",
       "</style>\n",
       "<table border=\"1\" class=\"dataframe\">\n",
       "  <thead>\n",
       "    <tr style=\"text-align: right;\">\n",
       "      <th></th>\n",
       "      <th>id</th>\n",
       "      <th>log_price</th>\n",
       "      <th>property_type</th>\n",
       "      <th>room_type</th>\n",
       "      <th>amenities</th>\n",
       "      <th>accommodates</th>\n",
       "      <th>bathrooms</th>\n",
       "      <th>bed_type</th>\n",
       "      <th>cancellation_policy</th>\n",
       "      <th>cleaning_fee</th>\n",
       "      <th>...</th>\n",
       "      <th>latitude</th>\n",
       "      <th>longitude</th>\n",
       "      <th>name</th>\n",
       "      <th>neighbourhood</th>\n",
       "      <th>number_of_reviews</th>\n",
       "      <th>review_scores_rating</th>\n",
       "      <th>thumbnail_url</th>\n",
       "      <th>zipcode</th>\n",
       "      <th>bedrooms</th>\n",
       "      <th>beds</th>\n",
       "    </tr>\n",
       "  </thead>\n",
       "  <tbody>\n",
       "    <tr>\n",
       "      <th>0</th>\n",
       "      <td>13662370</td>\n",
       "      <td>3.806662</td>\n",
       "      <td>House</td>\n",
       "      <td>Private room</td>\n",
       "      <td>{TV,Internet,\"Wireless Internet\",\"Air conditio...</td>\n",
       "      <td>2</td>\n",
       "      <td>1.5</td>\n",
       "      <td>Real Bed</td>\n",
       "      <td>strict</td>\n",
       "      <td>True</td>\n",
       "      <td>...</td>\n",
       "      <td>41.849684</td>\n",
       "      <td>-87.676270</td>\n",
       "      <td>Pilsen Arts Community Custom Home</td>\n",
       "      <td>Pilsen</td>\n",
       "      <td>17</td>\n",
       "      <td>97.0</td>\n",
       "      <td>https://a0.muscache.com/im/pictures/81318153/a...</td>\n",
       "      <td>60608</td>\n",
       "      <td>1.0</td>\n",
       "      <td>1.0</td>\n",
       "    </tr>\n",
       "    <tr>\n",
       "      <th>1</th>\n",
       "      <td>4765892</td>\n",
       "      <td>4.941642</td>\n",
       "      <td>Apartment</td>\n",
       "      <td>Entire home/apt</td>\n",
       "      <td>{TV,Internet,\"Wireless Internet\",\"Air conditio...</td>\n",
       "      <td>2</td>\n",
       "      <td>2.0</td>\n",
       "      <td>Real Bed</td>\n",
       "      <td>strict</td>\n",
       "      <td>True</td>\n",
       "      <td>...</td>\n",
       "      <td>34.068613</td>\n",
       "      <td>-118.246455</td>\n",
       "      <td>Apartment 5 minutes from DTLA &amp; Dodger Stadium</td>\n",
       "      <td>Echo Park</td>\n",
       "      <td>2</td>\n",
       "      <td>100.0</td>\n",
       "      <td>https://a0.muscache.com/im/pictures/aa00250e-0...</td>\n",
       "      <td>90012</td>\n",
       "      <td>1.0</td>\n",
       "      <td>1.0</td>\n",
       "    </tr>\n",
       "    <tr>\n",
       "      <th>2</th>\n",
       "      <td>21169968</td>\n",
       "      <td>4.941642</td>\n",
       "      <td>Apartment</td>\n",
       "      <td>Entire home/apt</td>\n",
       "      <td>{TV,\"Cable TV\",\"Wireless Internet\",\"Air condit...</td>\n",
       "      <td>5</td>\n",
       "      <td>1.0</td>\n",
       "      <td>Real Bed</td>\n",
       "      <td>moderate</td>\n",
       "      <td>True</td>\n",
       "      <td>...</td>\n",
       "      <td>40.701958</td>\n",
       "      <td>-73.917352</td>\n",
       "      <td>Brand New Huge 2bdr apartment(L,M train 2 min)</td>\n",
       "      <td>Bushwick</td>\n",
       "      <td>25</td>\n",
       "      <td>88.0</td>\n",
       "      <td>https://a0.muscache.com/im/pictures/d9220535-c...</td>\n",
       "      <td>11237</td>\n",
       "      <td>2.0</td>\n",
       "      <td>3.0</td>\n",
       "    </tr>\n",
       "    <tr>\n",
       "      <th>3</th>\n",
       "      <td>7939196</td>\n",
       "      <td>4.867534</td>\n",
       "      <td>Apartment</td>\n",
       "      <td>Entire home/apt</td>\n",
       "      <td>{\"Cable TV\",Internet,\"Wireless Internet\",\"Air ...</td>\n",
       "      <td>6</td>\n",
       "      <td>1.0</td>\n",
       "      <td>Real Bed</td>\n",
       "      <td>strict</td>\n",
       "      <td>True</td>\n",
       "      <td>...</td>\n",
       "      <td>40.742959</td>\n",
       "      <td>-73.990820</td>\n",
       "      <td>Grande Super Large APT !!!</td>\n",
       "      <td>Flatiron District</td>\n",
       "      <td>12</td>\n",
       "      <td>82.0</td>\n",
       "      <td>NaN</td>\n",
       "      <td>10010</td>\n",
       "      <td>1.0</td>\n",
       "      <td>3.0</td>\n",
       "    </tr>\n",
       "    <tr>\n",
       "      <th>4</th>\n",
       "      <td>18161036</td>\n",
       "      <td>3.663562</td>\n",
       "      <td>House</td>\n",
       "      <td>Private room</td>\n",
       "      <td>{Internet,\"Wireless Internet\",\"Air conditionin...</td>\n",
       "      <td>2</td>\n",
       "      <td>1.0</td>\n",
       "      <td>Real Bed</td>\n",
       "      <td>flexible</td>\n",
       "      <td>True</td>\n",
       "      <td>...</td>\n",
       "      <td>34.046473</td>\n",
       "      <td>-117.734095</td>\n",
       "      <td>Private Cozy and Clean Rooms in Pomona</td>\n",
       "      <td>NaN</td>\n",
       "      <td>2</td>\n",
       "      <td>100.0</td>\n",
       "      <td>https://a0.muscache.com/im/pictures/e0c9b2f9-a...</td>\n",
       "      <td>91766</td>\n",
       "      <td>1.0</td>\n",
       "      <td>1.0</td>\n",
       "    </tr>\n",
       "  </tbody>\n",
       "</table>\n",
       "<p>5 rows × 29 columns</p>\n",
       "</div>"
      ],
      "text/plain": [
       "         id  log_price property_type        room_type  \\\n",
       "0  13662370   3.806662         House     Private room   \n",
       "1   4765892   4.941642     Apartment  Entire home/apt   \n",
       "2  21169968   4.941642     Apartment  Entire home/apt   \n",
       "3   7939196   4.867534     Apartment  Entire home/apt   \n",
       "4  18161036   3.663562         House     Private room   \n",
       "\n",
       "                                           amenities  accommodates  bathrooms  \\\n",
       "0  {TV,Internet,\"Wireless Internet\",\"Air conditio...             2        1.5   \n",
       "1  {TV,Internet,\"Wireless Internet\",\"Air conditio...             2        2.0   \n",
       "2  {TV,\"Cable TV\",\"Wireless Internet\",\"Air condit...             5        1.0   \n",
       "3  {\"Cable TV\",Internet,\"Wireless Internet\",\"Air ...             6        1.0   \n",
       "4  {Internet,\"Wireless Internet\",\"Air conditionin...             2        1.0   \n",
       "\n",
       "   bed_type cancellation_policy  cleaning_fee  ...    latitude   longitude  \\\n",
       "0  Real Bed              strict          True  ...   41.849684  -87.676270   \n",
       "1  Real Bed              strict          True  ...   34.068613 -118.246455   \n",
       "2  Real Bed            moderate          True  ...   40.701958  -73.917352   \n",
       "3  Real Bed              strict          True  ...   40.742959  -73.990820   \n",
       "4  Real Bed            flexible          True  ...   34.046473 -117.734095   \n",
       "\n",
       "                                             name      neighbourhood  \\\n",
       "0               Pilsen Arts Community Custom Home             Pilsen   \n",
       "1  Apartment 5 minutes from DTLA & Dodger Stadium          Echo Park   \n",
       "2  Brand New Huge 2bdr apartment(L,M train 2 min)           Bushwick   \n",
       "3                      Grande Super Large APT !!!  Flatiron District   \n",
       "4          Private Cozy and Clean Rooms in Pomona                NaN   \n",
       "\n",
       "  number_of_reviews review_scores_rating  \\\n",
       "0                17                 97.0   \n",
       "1                 2                100.0   \n",
       "2                25                 88.0   \n",
       "3                12                 82.0   \n",
       "4                 2                100.0   \n",
       "\n",
       "                                       thumbnail_url zipcode bedrooms  beds  \n",
       "0  https://a0.muscache.com/im/pictures/81318153/a...   60608      1.0   1.0  \n",
       "1  https://a0.muscache.com/im/pictures/aa00250e-0...   90012      1.0   1.0  \n",
       "2  https://a0.muscache.com/im/pictures/d9220535-c...   11237      2.0   3.0  \n",
       "3                                                NaN   10010      1.0   3.0  \n",
       "4  https://a0.muscache.com/im/pictures/e0c9b2f9-a...   91766      1.0   1.0  \n",
       "\n",
       "[5 rows x 29 columns]"
      ]
     },
     "execution_count": 5,
     "metadata": {},
     "output_type": "execute_result"
    }
   ],
   "source": [
    "df_train.head()"
   ]
  },
  {
   "cell_type": "code",
   "execution_count": 6,
   "metadata": {},
   "outputs": [],
   "source": [
    "# print(df_train.isnull().sum())\n",
    "# no blanks"
   ]
  },
  {
   "cell_type": "markdown",
   "metadata": {},
   "source": [
    "# Feature Engineering "
   ]
  },
  {
   "cell_type": "markdown",
   "metadata": {},
   "source": [
    "#### Modify Columns names "
   ]
  },
  {
   "cell_type": "code",
   "execution_count": 7,
   "metadata": {},
   "outputs": [
    {
     "data": {
      "text/html": [
       "<div>\n",
       "<style scoped>\n",
       "    .dataframe tbody tr th:only-of-type {\n",
       "        vertical-align: middle;\n",
       "    }\n",
       "\n",
       "    .dataframe tbody tr th {\n",
       "        vertical-align: top;\n",
       "    }\n",
       "\n",
       "    .dataframe thead th {\n",
       "        text-align: right;\n",
       "    }\n",
       "</style>\n",
       "<table border=\"1\" class=\"dataframe\">\n",
       "  <thead>\n",
       "    <tr style=\"text-align: right;\">\n",
       "      <th></th>\n",
       "      <th>id</th>\n",
       "      <th>log_price</th>\n",
       "      <th>property_type</th>\n",
       "      <th>room_type</th>\n",
       "      <th>amenities</th>\n",
       "      <th>accommodates</th>\n",
       "      <th>bathrooms</th>\n",
       "      <th>bed_type</th>\n",
       "      <th>cancellation_policy</th>\n",
       "      <th>cleaning_fee</th>\n",
       "      <th>...</th>\n",
       "      <th>latitude</th>\n",
       "      <th>longitude</th>\n",
       "      <th>name</th>\n",
       "      <th>neighbourhood</th>\n",
       "      <th>number_of_reviews</th>\n",
       "      <th>review_scores_rating</th>\n",
       "      <th>thumbnail_url</th>\n",
       "      <th>zipcode</th>\n",
       "      <th>bedrooms</th>\n",
       "      <th>beds</th>\n",
       "    </tr>\n",
       "  </thead>\n",
       "  <tbody>\n",
       "    <tr>\n",
       "      <th>5890</th>\n",
       "      <td>18915873</td>\n",
       "      <td>4.65396</td>\n",
       "      <td>Apartment</td>\n",
       "      <td>Private room</td>\n",
       "      <td>{Internet,\"Wireless Internet\",\"Air conditionin...</td>\n",
       "      <td>1</td>\n",
       "      <td>1.0</td>\n",
       "      <td>Real Bed</td>\n",
       "      <td>flexible</td>\n",
       "      <td>True</td>\n",
       "      <td>...</td>\n",
       "      <td>37.773742</td>\n",
       "      <td>-122.391503</td>\n",
       "      <td>San Francisco Luxury</td>\n",
       "      <td>Mission Bay</td>\n",
       "      <td>5</td>\n",
       "      <td>95.0</td>\n",
       "      <td>https://a0.muscache.com/im/pictures/13f8dcaa-e...</td>\n",
       "      <td>95202\\r\\r\\r\\r\\r\\r\\r\\n\\r\\r\\r\\r\\r\\r\\r\\n\\r\\r\\r\\r\\...</td>\n",
       "      <td>1.0</td>\n",
       "      <td>1.0</td>\n",
       "    </tr>\n",
       "  </tbody>\n",
       "</table>\n",
       "<p>1 rows × 29 columns</p>\n",
       "</div>"
      ],
      "text/plain": [
       "            id  log_price property_type     room_type  \\\n",
       "5890  18915873    4.65396     Apartment  Private room   \n",
       "\n",
       "                                              amenities  accommodates  \\\n",
       "5890  {Internet,\"Wireless Internet\",\"Air conditionin...             1   \n",
       "\n",
       "      bathrooms  bed_type cancellation_policy  cleaning_fee  ...    latitude  \\\n",
       "5890        1.0  Real Bed            flexible          True  ...   37.773742   \n",
       "\n",
       "       longitude                  name neighbourhood number_of_reviews  \\\n",
       "5890 -122.391503  San Francisco Luxury   Mission Bay                 5   \n",
       "\n",
       "     review_scores_rating                                      thumbnail_url  \\\n",
       "5890                 95.0  https://a0.muscache.com/im/pictures/13f8dcaa-e...   \n",
       "\n",
       "                                                zipcode bedrooms  beds  \n",
       "5890  95202\\r\\r\\r\\r\\r\\r\\r\\n\\r\\r\\r\\r\\r\\r\\r\\n\\r\\r\\r\\r\\...      1.0   1.0  \n",
       "\n",
       "[1 rows x 29 columns]"
      ]
     },
     "execution_count": 7,
     "metadata": {},
     "output_type": "execute_result"
    }
   ],
   "source": [
    "df_train[(df_train['zipcode'] == '95202\\r\\r\\r\\r\\r\\r\\r\\n\\r\\r\\r\\r\\r\\r\\r\\n\\r\\r\\r\\r\\r\\r\\r\\n94158')]"
   ]
  },
  {
   "cell_type": "code",
   "execution_count": 8,
   "metadata": {},
   "outputs": [
    {
     "data": {
      "text/html": [
       "<div>\n",
       "<style scoped>\n",
       "    .dataframe tbody tr th:only-of-type {\n",
       "        vertical-align: middle;\n",
       "    }\n",
       "\n",
       "    .dataframe tbody tr th {\n",
       "        vertical-align: top;\n",
       "    }\n",
       "\n",
       "    .dataframe thead th {\n",
       "        text-align: right;\n",
       "    }\n",
       "</style>\n",
       "<table border=\"1\" class=\"dataframe\">\n",
       "  <thead>\n",
       "    <tr style=\"text-align: right;\">\n",
       "      <th></th>\n",
       "      <th>id</th>\n",
       "      <th>log_price</th>\n",
       "      <th>property_type</th>\n",
       "      <th>room_type</th>\n",
       "      <th>amenities</th>\n",
       "      <th>accommodates</th>\n",
       "      <th>bathrooms</th>\n",
       "      <th>bed_type</th>\n",
       "      <th>cancellation_policy</th>\n",
       "      <th>cleaning_fee</th>\n",
       "      <th>...</th>\n",
       "      <th>latitude</th>\n",
       "      <th>longitude</th>\n",
       "      <th>name</th>\n",
       "      <th>neighbourhood</th>\n",
       "      <th>number_of_reviews</th>\n",
       "      <th>review_scores_rating</th>\n",
       "      <th>thumbnail_url</th>\n",
       "      <th>zipcode</th>\n",
       "      <th>bedrooms</th>\n",
       "      <th>beds</th>\n",
       "    </tr>\n",
       "  </thead>\n",
       "  <tbody>\n",
       "    <tr>\n",
       "      <th>50482</th>\n",
       "      <td>19864701</td>\n",
       "      <td>4.317488</td>\n",
       "      <td>Apartment</td>\n",
       "      <td>Entire home/apt</td>\n",
       "      <td>{TV,\"Cable TV\",Internet,\"Wireless Internet\",\"A...</td>\n",
       "      <td>4</td>\n",
       "      <td>1.0</td>\n",
       "      <td>Real Bed</td>\n",
       "      <td>moderate</td>\n",
       "      <td>True</td>\n",
       "      <td>...</td>\n",
       "      <td>38.936838</td>\n",
       "      <td>-76.993548</td>\n",
       "      <td>Stylish Midrise Steps from Metro</td>\n",
       "      <td>NaN</td>\n",
       "      <td>25</td>\n",
       "      <td>88.0</td>\n",
       "      <td>https://a0.muscache.com/im/pictures/2f7dbb0b-a...</td>\n",
       "      <td></td>\n",
       "      <td>1.0</td>\n",
       "      <td>1.0</td>\n",
       "    </tr>\n",
       "  </tbody>\n",
       "</table>\n",
       "<p>1 rows × 29 columns</p>\n",
       "</div>"
      ],
      "text/plain": [
       "             id  log_price property_type        room_type  \\\n",
       "50482  19864701   4.317488     Apartment  Entire home/apt   \n",
       "\n",
       "                                               amenities  accommodates  \\\n",
       "50482  {TV,\"Cable TV\",Internet,\"Wireless Internet\",\"A...             4   \n",
       "\n",
       "       bathrooms  bed_type cancellation_policy  cleaning_fee  ...    latitude  \\\n",
       "50482        1.0  Real Bed            moderate          True  ...   38.936838   \n",
       "\n",
       "       longitude                              name neighbourhood  \\\n",
       "50482 -76.993548  Stylish Midrise Steps from Metro           NaN   \n",
       "\n",
       "      number_of_reviews review_scores_rating  \\\n",
       "50482                25                 88.0   \n",
       "\n",
       "                                           thumbnail_url zipcode bedrooms  \\\n",
       "50482  https://a0.muscache.com/im/pictures/2f7dbb0b-a...              1.0   \n",
       "\n",
       "       beds  \n",
       "50482   1.0  \n",
       "\n",
       "[1 rows x 29 columns]"
      ]
     },
     "execution_count": 8,
     "metadata": {},
     "output_type": "execute_result"
    }
   ],
   "source": [
    "df_train[(df_train['zipcode'] == ' ')]"
   ]
  },
  {
   "cell_type": "code",
   "execution_count": 9,
   "metadata": {},
   "outputs": [
    {
     "name": "stdout",
     "output_type": "stream",
     "text": [
      "5890    95202\\r\\r\\r\\r\\r\\r\\r\\n\\r\\r\\r\\r\\r\\r\\r\\n\\r\\r\\r\\r\\...\n",
      "Name: zipcode, dtype: object\n",
      "50482     \n",
      "Name: zipcode, dtype: object\n",
      "5890    95202_94158\n",
      "Name: zipcode, dtype: object\n",
      "50482    blank_over\n",
      "Name: zipcode, dtype: object\n"
     ]
    }
   ],
   "source": [
    "print(df_train[(df_train['zipcode'] == '95202\\r\\r\\r\\r\\r\\r\\r\\n\\r\\r\\r\\r\\r\\r\\r\\n\\r\\r\\r\\r\\r\\r\\r\\n94158')]['zipcode'])\n",
    "print(df_train[(df_train['zipcode'] == ' ')]['zipcode'])\n",
    "# print(df_train[(df_train.id == 18915873)]['zipcode'])\n",
    "\n",
    "#overwrite '95202\\r\\r\\r\\r\\r\\r\\r\\n\\r\\r\\r\\r\\r\\r\\r\\n\\r\\r\\r\\r\\r\\r\\r\\n94158'\n",
    "# Ref.: https://www.dataquest.io/blog/settingwithcopywarning/\n",
    "df_train.loc[df_train.id == 18915873,'zipcode'] = '95202_94158'\n",
    "df_train.loc[df_train.id == 19864701,'zipcode'] = 'blank_over'\n",
    "\n",
    "print(df_train[(df_train.id == 18915873)]['zipcode'])\n",
    "print(df_train[(df_train.id == 19864701)]['zipcode'])"
   ]
  },
  {
   "cell_type": "code",
   "execution_count": 10,
   "metadata": {},
   "outputs": [],
   "source": [
    "# df_train['zipcode'] = str(df_train['zipcode'])"
   ]
  },
  {
   "cell_type": "code",
   "execution_count": 11,
   "metadata": {
    "scrolled": true
   },
   "outputs": [
    {
     "name": "stdout",
     "output_type": "stream",
     "text": [
      "['02108', '02109', '02110', '02111', '02113', '02114', '02115', '02116', '02118', '02119', '02120', '02121', '02122', '02124', '02125', '02126', '02127', '02128', '02129', '02130', '02131', '02132', '02134', '02135', '02136', '02138', '02139', '02145', '02152', '02186', '02199', '02210', '02215', '02445', '02446', '02467', '07306', '10000', '10001', '10001.0', '10002', '10002.0', '10003', '10003-8623', '10003.0', '10004', '10004.0', '10005', '10006', '10007', '10009', '10009.0', '10010', '10010.0', '10011', '10011.0', '10012', '10012.0', '10013', '10013.0', '10014', '10014.0', '10016', '10017', '10018', '10018.0', '10019', '10019.0', '10021', '10022', '10023', '10024', '10025', '10026', '10026.0', '10027', '10027.0', '10028', '10029', '10029.0', '10030', '10031', '10032', '10033', '10034', '10035', '10035.0', '10036', '10036.0', '10037', '10037.0', '10038', '10038.0', '10039', '10040', '10044', '10048', '10065', '10069', '10075', '10106', '10118', '10119.0', '10128', '10128.0', '10129', '10129.0', '10162', '10270', '10280', '10281', '10282', '10282.0', '10301', '10301.0', '10302', '10303', '10304', '10304.0', '10305', '10305.0', '10306', '10307', '10307.0', '10308', '10308.0', '10309', '10310', '10312', '10312.0', '10314', '10314.0', '10451', '10451.0', '10452', '10452.0', '10453', '10453.0', '10454', '10455', '10456', '10456.0', '10457', '10457.0', '10458', '10459', '10459.0', '10460', '10460.0', '10461', '10462', '10463', '10463.0', '10464', '10465', '10466', '10467', '10467.0', '10468', '10469', '10470', '10471', '10471.0', '10472', '10473', '10473.0', '10474', '10475', '10475.0', '10550.0', '10704', '11001', '11004', '11101', '11102', '11103', '11104', '11105', '11106', '11106.0', '11109', '11201', '11201.0', '11203', '11203.0', '11204', '11205', '11205.0', '11206', '11206.0', '11207', '11207.0', '11208.0', '11209', '11210', '11210.0', '11211', '11211.0', '11212', '11212.0', '11213', '11213.0', '11214', '11215', '11216', '11216.0', '11217', '11217.0', '11218', '11219', '11219.0', '11220', '11220.0', '11221', '11221.0', '11222', '11222.0', '11223', '11224', '11224.0', '11225', '11225.0', '11226', '11226.0', '11228.0', '11229', '11230', '11231', '11231.0', '11232', '11233', '11233.0', '11234', '11234.0', '11235', '11236', '11236.0', '11237', '11237.0', '11238', '11238.0', '11239.0', '11249', '11249.0', '11354', '11355', '11356.0', '11357', '11358', '11360', '11361', '11362', '11362.0', '11363.0', '11364', '11365', '11366', '11367', '11368', '11368.0', '11369.0', '11370', '11370.0', '11372', '11372.0', '11373', '11373.0', '11374', '11374.0', '11375', '11377', '11377.0', '11378', '11379', '11385', '11385-2308', '11411', '11411.0', '11412', '11412.0', '11413', '11414', '11415', '11416', '11417', '11418', '11419', '11420', '11421', '11422', '11423', '11426', '11427', '11428', '11429', '11429.0', '11432', '11433', '11434', '11435', '11436', '11509.0', '11580.0', '11691', '11692', '11693', '11694', '15074', '1m', '20001', '20001-4044', '20002', '20003', '20004', '20005', '20006', '20007', '20007-3413', '20008', '20009', '20010', '20011', '20012', '20015', '20016', '20017', '20018', '20019', '20020', '20024', '20032', '20036', '20037', '20052', '20064', '20268', '20372', '20712', '20743', '20748', '20782', '20816', '20910', '20912', '210', '60601', '60602', '60605', '60606', '60607', '60608', '60609', '60610', '60611', '60612', '60613', '60614', '60615', '60616', '60617', '60618', '60619', '60620', '60621', '60622', '60623', '60624', '60625', '60626', '60628', '60629', '60630', '60631', '60632', '60634', '60636', '60637', '60638', '60639', '60640', '60641', '60642', '60643', '60644', '60645', '60646', '60647', '60649', '60651', '60652', '60653', '60654', '60656', '60657', '60659', '60660', '60660-1448', '60661', '60707', '7302.0', '90001', '90002', '90003', '90004', '90005', '90006', '90007', '90008', '90010', '90011', '90012', '90013', '90014', '90015', '90016', '90017', '90018', '90019', '90020', '90021', '90022', '90023', '90024', '90025', '90026', '90027', '90028', '90029', '90031', '90032', '90033', '90034', '90034-2203', '90035', '90035-4475', '90036', '90036-2514', '90037', '90038', '90039', '90039-2715', '9004', '90040', '90041', '90042', '90043', '90044', '90045', '90046', '90047', '90048', '90049', '90056', '90057', '90058', '90059', '90061', '90062', '90063', '90064', '90065', '90066', '90067', '90068', '90069', '90071', '90077', '90094', '90095', '90210', '90211', '90212', '90220', '90221', '90222', '90230', '90232', '90240', '90241', '90242', '90245', '90247', '90248', '90249', '90250', '90254', '90255', '90260', '90262', '90265', '90266', '90272', '90274', '90275', '90277', '90278', '90280', '90290', '90291', '90292', '90293', '90301', '90302', '90303', '90304', '90305', '90401', '90402', '90403', '90403-2638', '90404', '90405', '90501', '90502', '90503', '90504', '90505', '90601', '90602', '90603', '90604', '90605', '90606', '90630', '90631', '90638', '90640', '90650', '90660', '90670', '90701', '90703', '90704', '90706', '90710', '90712', '90713', '90715', '90716', '90717', '90723', '90731', '90732', '90744', '90745', '90746', '90755', '90802', '90803', '90804', '90805', '90806', '90807', '90808', '90810', '90813', '90814', '90815', '91001', '91001-2243', '91006', '91007', '91008', '91010', '91011', '91016', '91020', '91024', '91030', '91040', '91042', '91101', '91103', '91104', '91105', '91106', '91107', '91108', '91201', '91202', '91203', '91204', '91205', '91206', '91207', '91208', '91210', '91214', '91301', '91302', '91303', '91304', '91306', '91307', '91308', '91311', '91316', '91321', '91324', '91325', '91326', '91331', '91335', '91340', '91342', '91343', '91344', '91345', '91350', '91352', '91354', '91355', '91356', '91361', '91362', '91364', '91367', '91381', '91384', '91387', '91390', '91401', '91402', '91403', '91405', '91406', '91411', '91423', '91436', '91501', '91502', '91504', '91505', '91506', '91523', '91601', '91602', '91604', '91605', '91606', '91606-1412', '91607', '91702', '91706', '91708', '91711', '91722', '91723', '91724', '91731', '91732', '91733', '91740', '91741', '91744', '91745', '91746', '91748', '91750', '91754', '91755', '91764', '91765', '91766', '91767', '91768', '91770', '91773', '91775', '91776', '91780', '91786', '91789', '91790', '91791', '91792', '91801', '91802', '91803', '92397', '92614', '92821', '92880', '93532', '93534', '93535', '93536', '93543', '93550', '93551', '93552', '93563', '94014', '94014.0', '94102', '94102.0', '94103', '94103.0', '94104', '94104.0', '94105', '94107', '94108', '94109', '94109.0', '94110', '94111', '94112', '94114', '94114.0', '94115', '94115.0', '94116', '94117', '94117.0', '94118', '94118.0', '94121', '94122', '94122.0', '94123', '94124', '94127', '94129', '94130', '94131', '94132', '94133', '94134', '94158', '95202_94158', 'blank_over']\n",
      "\n",
      "['id', 'log_price', 'property_type', 'room_type', 'amenities', 'accommodates', 'bathrooms', 'bed_type', 'cancellation_policy', 'cleaning_fee', 'city', 'description', 'first_review', 'host_has_profile_pic', 'host_identity_verified', 'host_response_rate', 'host_since', 'instant_bookable', 'last_review', 'latitude', 'longitude', 'name', 'neighbourhood', 'number_of_reviews', 'review_scores_rating', 'thumbnail_url', 'zipcode', 'bedrooms', 'beds', '02108', '02109', '02110', '02111', '02113', '02114', '02115', '02116', '02118', '02119', '02120', '02121', '02122', '02124', '02125', '02126', '02127', '02128', '02129', '02130', '02131', '02132', '02134', '02135', '02136', '02138', '02139', '02145', '02152', '02186', '02199', '02210', '02215', '02445', '02446', '02467', '07306', '10000', '10001', '10001.0', '10002', '10002.0', '10003', '10003-8623', '10003.0', '10004', '10004.0', '10005', '10006', '10007', '10009', '10009.0', '10010', '10010.0', '10011', '10011.0', '10012', '10012.0', '10013', '10013.0', '10014', '10014.0', '10016', '10017', '10018', '10018.0', '10019', '10019.0', '10021', '10022', '10023', '10024', '10025', '10026', '10026.0', '10027', '10027.0', '10028', '10029', '10029.0', '10030', '10031', '10032', '10033', '10034', '10035', '10035.0', '10036', '10036.0', '10037', '10037.0', '10038', '10038.0', '10039', '10040', '10044', '10048', '10065', '10069', '10075', '10106', '10118', '10119.0', '10128', '10128.0', '10129', '10129.0', '10162', '10270', '10280', '10281', '10282', '10282.0', '10301', '10301.0', '10302', '10303', '10304', '10304.0', '10305', '10305.0', '10306', '10307', '10307.0', '10308', '10308.0', '10309', '10310', '10312', '10312.0', '10314', '10314.0', '10451', '10451.0', '10452', '10452.0', '10453', '10453.0', '10454', '10455', '10456', '10456.0', '10457', '10457.0', '10458', '10459', '10459.0', '10460', '10460.0', '10461', '10462', '10463', '10463.0', '10464', '10465', '10466', '10467', '10467.0', '10468', '10469', '10470', '10471', '10471.0', '10472', '10473', '10473.0', '10474', '10475', '10475.0', '10550.0', '10704', '11001', '11004', '11101', '11102', '11103', '11104', '11105', '11106', '11106.0', '11109', '11201', '11201.0', '11203', '11203.0', '11204', '11205', '11205.0', '11206', '11206.0', '11207', '11207.0', '11208.0', '11209', '11210', '11210.0', '11211', '11211.0', '11212', '11212.0', '11213', '11213.0', '11214', '11215', '11216', '11216.0', '11217', '11217.0', '11218', '11219', '11219.0', '11220', '11220.0', '11221', '11221.0', '11222', '11222.0', '11223', '11224', '11224.0', '11225', '11225.0', '11226', '11226.0', '11228.0', '11229', '11230', '11231', '11231.0', '11232', '11233', '11233.0', '11234', '11234.0', '11235', '11236', '11236.0', '11237', '11237.0', '11238', '11238.0', '11239.0', '11249', '11249.0', '11354', '11355', '11356.0', '11357', '11358', '11360', '11361', '11362', '11362.0', '11363.0', '11364', '11365', '11366', '11367', '11368', '11368.0', '11369.0', '11370', '11370.0', '11372', '11372.0', '11373', '11373.0', '11374', '11374.0', '11375', '11377', '11377.0', '11378', '11379', '11385', '11385-2308', '11411', '11411.0', '11412', '11412.0', '11413', '11414', '11415', '11416', '11417', '11418', '11419', '11420', '11421', '11422', '11423', '11426', '11427', '11428', '11429', '11429.0', '11432', '11433', '11434', '11435', '11436', '11509.0', '11580.0', '11691', '11692', '11693', '11694', '15074', '1m', '20001', '20001-4044', '20002', '20003', '20004', '20005', '20006', '20007', '20007-3413', '20008', '20009', '20010', '20011', '20012', '20015', '20016', '20017', '20018', '20019', '20020', '20024', '20032', '20036', '20037', '20052', '20064', '20268', '20372', '20712', '20743', '20748', '20782', '20816', '20910', '20912', '210', '60601', '60602', '60605', '60606', '60607', '60608', '60609', '60610', '60611', '60612', '60613', '60614', '60615', '60616', '60617', '60618', '60619', '60620', '60621', '60622', '60623', '60624', '60625', '60626', '60628', '60629', '60630', '60631', '60632', '60634', '60636', '60637', '60638', '60639', '60640', '60641', '60642', '60643', '60644', '60645', '60646', '60647', '60649', '60651', '60652', '60653', '60654', '60656', '60657', '60659', '60660', '60660-1448', '60661', '60707', '7302.0', '90001', '90002', '90003', '90004', '90005', '90006', '90007', '90008', '90010', '90011', '90012', '90013', '90014', '90015', '90016', '90017', '90018', '90019', '90020', '90021', '90022', '90023', '90024', '90025', '90026', '90027', '90028', '90029', '90031', '90032', '90033', '90034', '90034-2203', '90035', '90035-4475', '90036', '90036-2514', '90037', '90038', '90039', '90039-2715', '9004', '90040', '90041', '90042', '90043', '90044', '90045', '90046', '90047', '90048', '90049', '90056', '90057', '90058', '90059', '90061', '90062', '90063', '90064', '90065', '90066', '90067', '90068', '90069', '90071', '90077', '90094', '90095', '90210', '90211', '90212', '90220', '90221', '90222', '90230', '90232', '90240', '90241', '90242', '90245', '90247', '90248', '90249', '90250', '90254', '90255', '90260', '90262', '90265', '90266', '90272', '90274', '90275', '90277', '90278', '90280', '90290', '90291', '90292', '90293', '90301', '90302', '90303', '90304', '90305', '90401', '90402', '90403', '90403-2638', '90404', '90405', '90501', '90502', '90503', '90504', '90505', '90601', '90602', '90603', '90604', '90605', '90606', '90630', '90631', '90638', '90640', '90650', '90660', '90670', '90701', '90703', '90704', '90706', '90710', '90712', '90713', '90715', '90716', '90717', '90723', '90731', '90732', '90744', '90745', '90746', '90755', '90802', '90803', '90804', '90805', '90806', '90807', '90808', '90810', '90813', '90814', '90815', '91001', '91001-2243', '91006', '91007', '91008', '91010', '91011', '91016', '91020', '91024', '91030', '91040', '91042', '91101', '91103', '91104', '91105', '91106', '91107', '91108', '91201', '91202', '91203', '91204', '91205', '91206', '91207', '91208', '91210', '91214', '91301', '91302', '91303', '91304', '91306', '91307', '91308', '91311', '91316', '91321', '91324', '91325', '91326', '91331', '91335', '91340', '91342', '91343', '91344', '91345', '91350', '91352', '91354', '91355', '91356', '91361', '91362', '91364', '91367', '91381', '91384', '91387', '91390', '91401', '91402', '91403', '91405', '91406', '91411', '91423', '91436', '91501', '91502', '91504', '91505', '91506', '91523', '91601', '91602', '91604', '91605', '91606', '91606-1412', '91607', '91702', '91706', '91708', '91711', '91722', '91723', '91724', '91731', '91732', '91733', '91740', '91741', '91744', '91745', '91746', '91748', '91750', '91754', '91755', '91764', '91765', '91766', '91767', '91768', '91770', '91773', '91775', '91776', '91780', '91786', '91789', '91790', '91791', '91792', '91801', '91802', '91803', '92397', '92614', '92821', '92880', '93532', '93534', '93535', '93536', '93543', '93550', '93551', '93552', '93563', '94014', '94014.0', '94102', '94102.0', '94103', '94103.0', '94104', '94104.0', '94105', '94107', '94108', '94109', '94109.0', '94110', '94111', '94112', '94114', '94114.0', '94115', '94115.0', '94116', '94117', '94117.0', '94118', '94118.0', '94121', '94122', '94122.0', '94123', '94124', '94127', '94129', '94130', '94131', '94132', '94133', '94134', '94158', '95202_94158', 'blank_over']\n"
     ]
    }
   ],
   "source": [
    "# Ref.: https://github.com/arybressane/CEBD1260-BIG-DATA-ANALYTICS\n",
    "\n",
    "# zipcode to numerical columns\n",
    "df_zipcode_1 = pd.get_dummies(df_train['zipcode'])\n",
    "df = pd.concat([df_train, df_zipcode_1], axis=1).fillna(0.0)\n",
    "\n",
    "print(list(df_zipcode_1.columns))\n",
    "print('')\n",
    "print(list(df.columns))"
   ]
  },
  {
   "cell_type": "code",
   "execution_count": 12,
   "metadata": {
    "scrolled": true
   },
   "outputs": [
    {
     "data": {
      "text/plain": [
       "02108          uint8\n",
       "02109          uint8\n",
       "02110          uint8\n",
       "02111          uint8\n",
       "02113          uint8\n",
       "02114          uint8\n",
       "02115          uint8\n",
       "02116          uint8\n",
       "02118          uint8\n",
       "02119          uint8\n",
       "02120          uint8\n",
       "02121          uint8\n",
       "02122          uint8\n",
       "02124          uint8\n",
       "02125          uint8\n",
       "02126          uint8\n",
       "02127          uint8\n",
       "02128          uint8\n",
       "02129          uint8\n",
       "02130          uint8\n",
       "02131          uint8\n",
       "02132          uint8\n",
       "02134          uint8\n",
       "02135          uint8\n",
       "02136          uint8\n",
       "02138          uint8\n",
       "02139          uint8\n",
       "02145          uint8\n",
       "02152          uint8\n",
       "02186          uint8\n",
       "               ...  \n",
       "94108          uint8\n",
       "94109          uint8\n",
       "94109.0        uint8\n",
       "94110          uint8\n",
       "94111          uint8\n",
       "94112          uint8\n",
       "94114          uint8\n",
       "94114.0        uint8\n",
       "94115          uint8\n",
       "94115.0        uint8\n",
       "94116          uint8\n",
       "94117          uint8\n",
       "94117.0        uint8\n",
       "94118          uint8\n",
       "94118.0        uint8\n",
       "94121          uint8\n",
       "94122          uint8\n",
       "94122.0        uint8\n",
       "94123          uint8\n",
       "94124          uint8\n",
       "94127          uint8\n",
       "94129          uint8\n",
       "94130          uint8\n",
       "94131          uint8\n",
       "94132          uint8\n",
       "94133          uint8\n",
       "94134          uint8\n",
       "94158          uint8\n",
       "95202_94158    uint8\n",
       "blank_over     uint8\n",
       "Length: 732, dtype: object"
      ]
     },
     "execution_count": 12,
     "metadata": {},
     "output_type": "execute_result"
    }
   ],
   "source": [
    "df_zipcode_1.dtypes"
   ]
  },
  {
   "cell_type": "code",
   "execution_count": 13,
   "metadata": {
    "scrolled": true
   },
   "outputs": [
    {
     "data": {
      "text/html": [
       "<div>\n",
       "<style scoped>\n",
       "    .dataframe tbody tr th:only-of-type {\n",
       "        vertical-align: middle;\n",
       "    }\n",
       "\n",
       "    .dataframe tbody tr th {\n",
       "        vertical-align: top;\n",
       "    }\n",
       "\n",
       "    .dataframe thead th {\n",
       "        text-align: right;\n",
       "    }\n",
       "</style>\n",
       "<table border=\"1\" class=\"dataframe\">\n",
       "  <thead>\n",
       "    <tr style=\"text-align: right;\">\n",
       "      <th></th>\n",
       "      <th>id</th>\n",
       "      <th>log_price</th>\n",
       "      <th>property_type</th>\n",
       "      <th>room_type</th>\n",
       "      <th>amenities</th>\n",
       "      <th>accommodates</th>\n",
       "      <th>bathrooms</th>\n",
       "      <th>bed_type</th>\n",
       "      <th>cancellation_policy</th>\n",
       "      <th>cleaning_fee</th>\n",
       "      <th>...</th>\n",
       "      <th>94127</th>\n",
       "      <th>94129</th>\n",
       "      <th>94130</th>\n",
       "      <th>94131</th>\n",
       "      <th>94132</th>\n",
       "      <th>94133</th>\n",
       "      <th>94134</th>\n",
       "      <th>94158</th>\n",
       "      <th>95202_94158</th>\n",
       "      <th>blank_over</th>\n",
       "    </tr>\n",
       "  </thead>\n",
       "  <tbody>\n",
       "    <tr>\n",
       "      <th>0</th>\n",
       "      <td>13662370</td>\n",
       "      <td>3.806662</td>\n",
       "      <td>House</td>\n",
       "      <td>Private room</td>\n",
       "      <td>{TV,Internet,\"Wireless Internet\",\"Air conditio...</td>\n",
       "      <td>2</td>\n",
       "      <td>1.5</td>\n",
       "      <td>Real Bed</td>\n",
       "      <td>strict</td>\n",
       "      <td>True</td>\n",
       "      <td>...</td>\n",
       "      <td>0</td>\n",
       "      <td>0</td>\n",
       "      <td>0</td>\n",
       "      <td>0</td>\n",
       "      <td>0</td>\n",
       "      <td>0</td>\n",
       "      <td>0</td>\n",
       "      <td>0</td>\n",
       "      <td>0</td>\n",
       "      <td>0</td>\n",
       "    </tr>\n",
       "    <tr>\n",
       "      <th>1</th>\n",
       "      <td>4765892</td>\n",
       "      <td>4.941642</td>\n",
       "      <td>Apartment</td>\n",
       "      <td>Entire home/apt</td>\n",
       "      <td>{TV,Internet,\"Wireless Internet\",\"Air conditio...</td>\n",
       "      <td>2</td>\n",
       "      <td>2.0</td>\n",
       "      <td>Real Bed</td>\n",
       "      <td>strict</td>\n",
       "      <td>True</td>\n",
       "      <td>...</td>\n",
       "      <td>0</td>\n",
       "      <td>0</td>\n",
       "      <td>0</td>\n",
       "      <td>0</td>\n",
       "      <td>0</td>\n",
       "      <td>0</td>\n",
       "      <td>0</td>\n",
       "      <td>0</td>\n",
       "      <td>0</td>\n",
       "      <td>0</td>\n",
       "    </tr>\n",
       "    <tr>\n",
       "      <th>2</th>\n",
       "      <td>21169968</td>\n",
       "      <td>4.941642</td>\n",
       "      <td>Apartment</td>\n",
       "      <td>Entire home/apt</td>\n",
       "      <td>{TV,\"Cable TV\",\"Wireless Internet\",\"Air condit...</td>\n",
       "      <td>5</td>\n",
       "      <td>1.0</td>\n",
       "      <td>Real Bed</td>\n",
       "      <td>moderate</td>\n",
       "      <td>True</td>\n",
       "      <td>...</td>\n",
       "      <td>0</td>\n",
       "      <td>0</td>\n",
       "      <td>0</td>\n",
       "      <td>0</td>\n",
       "      <td>0</td>\n",
       "      <td>0</td>\n",
       "      <td>0</td>\n",
       "      <td>0</td>\n",
       "      <td>0</td>\n",
       "      <td>0</td>\n",
       "    </tr>\n",
       "    <tr>\n",
       "      <th>3</th>\n",
       "      <td>7939196</td>\n",
       "      <td>4.867534</td>\n",
       "      <td>Apartment</td>\n",
       "      <td>Entire home/apt</td>\n",
       "      <td>{\"Cable TV\",Internet,\"Wireless Internet\",\"Air ...</td>\n",
       "      <td>6</td>\n",
       "      <td>1.0</td>\n",
       "      <td>Real Bed</td>\n",
       "      <td>strict</td>\n",
       "      <td>True</td>\n",
       "      <td>...</td>\n",
       "      <td>0</td>\n",
       "      <td>0</td>\n",
       "      <td>0</td>\n",
       "      <td>0</td>\n",
       "      <td>0</td>\n",
       "      <td>0</td>\n",
       "      <td>0</td>\n",
       "      <td>0</td>\n",
       "      <td>0</td>\n",
       "      <td>0</td>\n",
       "    </tr>\n",
       "    <tr>\n",
       "      <th>4</th>\n",
       "      <td>18161036</td>\n",
       "      <td>3.663562</td>\n",
       "      <td>House</td>\n",
       "      <td>Private room</td>\n",
       "      <td>{Internet,\"Wireless Internet\",\"Air conditionin...</td>\n",
       "      <td>2</td>\n",
       "      <td>1.0</td>\n",
       "      <td>Real Bed</td>\n",
       "      <td>flexible</td>\n",
       "      <td>True</td>\n",
       "      <td>...</td>\n",
       "      <td>0</td>\n",
       "      <td>0</td>\n",
       "      <td>0</td>\n",
       "      <td>0</td>\n",
       "      <td>0</td>\n",
       "      <td>0</td>\n",
       "      <td>0</td>\n",
       "      <td>0</td>\n",
       "      <td>0</td>\n",
       "      <td>0</td>\n",
       "    </tr>\n",
       "  </tbody>\n",
       "</table>\n",
       "<p>5 rows × 761 columns</p>\n",
       "</div>"
      ],
      "text/plain": [
       "         id  log_price property_type        room_type  \\\n",
       "0  13662370   3.806662         House     Private room   \n",
       "1   4765892   4.941642     Apartment  Entire home/apt   \n",
       "2  21169968   4.941642     Apartment  Entire home/apt   \n",
       "3   7939196   4.867534     Apartment  Entire home/apt   \n",
       "4  18161036   3.663562         House     Private room   \n",
       "\n",
       "                                           amenities  accommodates  bathrooms  \\\n",
       "0  {TV,Internet,\"Wireless Internet\",\"Air conditio...             2        1.5   \n",
       "1  {TV,Internet,\"Wireless Internet\",\"Air conditio...             2        2.0   \n",
       "2  {TV,\"Cable TV\",\"Wireless Internet\",\"Air condit...             5        1.0   \n",
       "3  {\"Cable TV\",Internet,\"Wireless Internet\",\"Air ...             6        1.0   \n",
       "4  {Internet,\"Wireless Internet\",\"Air conditionin...             2        1.0   \n",
       "\n",
       "   bed_type cancellation_policy  cleaning_fee     ...     94127 94129 94130  \\\n",
       "0  Real Bed              strict          True     ...         0     0     0   \n",
       "1  Real Bed              strict          True     ...         0     0     0   \n",
       "2  Real Bed            moderate          True     ...         0     0     0   \n",
       "3  Real Bed              strict          True     ...         0     0     0   \n",
       "4  Real Bed            flexible          True     ...         0     0     0   \n",
       "\n",
       "  94131 94132 94133 94134 94158 95202_94158  blank_over  \n",
       "0     0     0     0     0     0           0           0  \n",
       "1     0     0     0     0     0           0           0  \n",
       "2     0     0     0     0     0           0           0  \n",
       "3     0     0     0     0     0           0           0  \n",
       "4     0     0     0     0     0           0           0  \n",
       "\n",
       "[5 rows x 761 columns]"
      ]
     },
     "execution_count": 13,
     "metadata": {},
     "output_type": "execute_result"
    }
   ],
   "source": [
    "df.head()"
   ]
  },
  {
   "cell_type": "code",
   "execution_count": 14,
   "metadata": {
    "scrolled": true
   },
   "outputs": [
    {
     "name": "stdout",
     "output_type": "stream",
     "text": [
      "['accommodates', 'bathrooms', 'bedrooms', 'beds', 'review_scores_rating', '02108', '02109', '02110', '02111', '02113', '02114', '02115', '02116', '02118', '02119', '02120', '02121', '02122', '02124', '02125', '02126', '02127', '02128', '02129', '02130', '02131', '02132', '02134', '02135', '02136', '02138', '02139', '02145', '02152', '02186', '02199', '02210', '02215', '02445', '02446', '02467', '07306', '10000', '10001', '10001.0', '10002', '10002.0', '10003', '10003-8623', '10003.0', '10004', '10004.0', '10005', '10006', '10007', '10009', '10009.0', '10010', '10010.0', '10011', '10011.0', '10012', '10012.0', '10013', '10013.0', '10014', '10014.0', '10016', '10017', '10018', '10018.0', '10019', '10019.0', '10021', '10022', '10023', '10024', '10025', '10026', '10026.0', '10027', '10027.0', '10028', '10029', '10029.0', '10030', '10031', '10032', '10033', '10034', '10035', '10035.0', '10036', '10036.0', '10037', '10037.0', '10038', '10038.0', '10039', '10040', '10044', '10048', '10065', '10069', '10075', '10106', '10118', '10119.0', '10128', '10128.0', '10129', '10129.0', '10162', '10270', '10280', '10281', '10282', '10282.0', '10301', '10301.0', '10302', '10303', '10304', '10304.0', '10305', '10305.0', '10306', '10307', '10307.0', '10308', '10308.0', '10309', '10310', '10312', '10312.0', '10314', '10314.0', '10451', '10451.0', '10452', '10452.0', '10453', '10453.0', '10454', '10455', '10456', '10456.0', '10457', '10457.0', '10458', '10459', '10459.0', '10460', '10460.0', '10461', '10462', '10463', '10463.0', '10464', '10465', '10466', '10467', '10467.0', '10468', '10469', '10470', '10471', '10471.0', '10472', '10473', '10473.0', '10474', '10475', '10475.0', '10550.0', '10704', '11001', '11004', '11101', '11102', '11103', '11104', '11105', '11106', '11106.0', '11109', '11201', '11201.0', '11203', '11203.0', '11204', '11205', '11205.0', '11206', '11206.0', '11207', '11207.0', '11208.0', '11209', '11210', '11210.0', '11211', '11211.0', '11212', '11212.0', '11213', '11213.0', '11214', '11215', '11216', '11216.0', '11217', '11217.0', '11218', '11219', '11219.0', '11220', '11220.0', '11221', '11221.0', '11222', '11222.0', '11223', '11224', '11224.0', '11225', '11225.0', '11226', '11226.0', '11228.0', '11229', '11230', '11231', '11231.0', '11232', '11233', '11233.0', '11234', '11234.0', '11235', '11236', '11236.0', '11237', '11237.0', '11238', '11238.0', '11239.0', '11249', '11249.0', '11354', '11355', '11356.0', '11357', '11358', '11360', '11361', '11362', '11362.0', '11363.0', '11364', '11365', '11366', '11367', '11368', '11368.0', '11369.0', '11370', '11370.0', '11372', '11372.0', '11373', '11373.0', '11374', '11374.0', '11375', '11377', '11377.0', '11378', '11379', '11385', '11385-2308', '11411', '11411.0', '11412', '11412.0', '11413', '11414', '11415', '11416', '11417', '11418', '11419', '11420', '11421', '11422', '11423', '11426', '11427', '11428', '11429', '11429.0', '11432', '11433', '11434', '11435', '11436', '11509.0', '11580.0', '11691', '11692', '11693', '11694', '15074', '1m', '20001', '20001-4044', '20002', '20003', '20004', '20005', '20006', '20007', '20007-3413', '20008', '20009', '20010', '20011', '20012', '20015', '20016', '20017', '20018', '20019', '20020', '20024', '20032', '20036', '20037', '20052', '20064', '20268', '20372', '20712', '20743', '20748', '20782', '20816', '20910', '20912', '210', '60601', '60602', '60605', '60606', '60607', '60608', '60609', '60610', '60611', '60612', '60613', '60614', '60615', '60616', '60617', '60618', '60619', '60620', '60621', '60622', '60623', '60624', '60625', '60626', '60628', '60629', '60630', '60631', '60632', '60634', '60636', '60637', '60638', '60639', '60640', '60641', '60642', '60643', '60644', '60645', '60646', '60647', '60649', '60651', '60652', '60653', '60654', '60656', '60657', '60659', '60660', '60660-1448', '60661', '60707', '7302.0', '90001', '90002', '90003', '90004', '90005', '90006', '90007', '90008', '90010', '90011', '90012', '90013', '90014', '90015', '90016', '90017', '90018', '90019', '90020', '90021', '90022', '90023', '90024', '90025', '90026', '90027', '90028', '90029', '90031', '90032', '90033', '90034', '90034-2203', '90035', '90035-4475', '90036', '90036-2514', '90037', '90038', '90039', '90039-2715', '9004', '90040', '90041', '90042', '90043', '90044', '90045', '90046', '90047', '90048', '90049', '90056', '90057', '90058', '90059', '90061', '90062', '90063', '90064', '90065', '90066', '90067', '90068', '90069', '90071', '90077', '90094', '90095', '90210', '90211', '90212', '90220', '90221', '90222', '90230', '90232', '90240', '90241', '90242', '90245', '90247', '90248', '90249', '90250', '90254', '90255', '90260', '90262', '90265', '90266', '90272', '90274', '90275', '90277', '90278', '90280', '90290', '90291', '90292', '90293', '90301', '90302', '90303', '90304', '90305', '90401', '90402', '90403', '90403-2638', '90404', '90405', '90501', '90502', '90503', '90504', '90505', '90601', '90602', '90603', '90604', '90605', '90606', '90630', '90631', '90638', '90640', '90650', '90660', '90670', '90701', '90703', '90704', '90706', '90710', '90712', '90713', '90715', '90716', '90717', '90723', '90731', '90732', '90744', '90745', '90746', '90755', '90802', '90803', '90804', '90805', '90806', '90807', '90808', '90810', '90813', '90814', '90815', '91001', '91001-2243', '91006', '91007', '91008', '91010', '91011', '91016', '91020', '91024', '91030', '91040', '91042', '91101', '91103', '91104', '91105', '91106', '91107', '91108', '91201', '91202', '91203', '91204', '91205', '91206', '91207', '91208', '91210', '91214', '91301', '91302', '91303', '91304', '91306', '91307', '91308', '91311', '91316', '91321', '91324', '91325', '91326', '91331', '91335', '91340', '91342', '91343', '91344', '91345', '91350', '91352', '91354', '91355', '91356', '91361', '91362', '91364', '91367', '91381', '91384', '91387', '91390', '91401', '91402', '91403', '91405', '91406', '91411', '91423', '91436', '91501', '91502', '91504', '91505', '91506', '91523', '91601', '91602', '91604', '91605', '91606', '91606-1412', '91607', '91702', '91706', '91708', '91711', '91722', '91723', '91724', '91731', '91732', '91733', '91740', '91741', '91744', '91745', '91746', '91748', '91750', '91754', '91755', '91764', '91765', '91766', '91767', '91768', '91770', '91773', '91775', '91776', '91780', '91786', '91789', '91790', '91791', '91792', '91801', '91802', '91803', '92397', '92614', '92821', '92880', '93532', '93534', '93535', '93536', '93543', '93550', '93551', '93552', '93563', '94014', '94014.0', '94102', '94102.0', '94103', '94103.0', '94104', '94104.0', '94105', '94107', '94108', '94109', '94109.0', '94110', '94111', '94112', '94114', '94114.0', '94115', '94115.0', '94116', '94117', '94117.0', '94118', '94118.0', '94121', '94122', '94122.0', '94123', '94124', '94127', '94129', '94130', '94131', '94132', '94133', '94134', '94158', '95202_94158', 'blank_over']\n"
     ]
    }
   ],
   "source": [
    "# Ref.: https://github.com/arybressane/CEBD1260-BIG-DATA-ANALYTICS\n",
    "# select the columns\n",
    "X_columns = ['accommodates', 'bathrooms', 'bedrooms', 'beds', 'review_scores_rating'] + list(df_zipcode_1.columns)\n",
    "y_column = ['log_price']\n",
    "print(X_columns)"
   ]
  },
  {
   "cell_type": "markdown",
   "metadata": {},
   "source": [
    "# Model Training"
   ]
  },
  {
   "cell_type": "code",
   "execution_count": 15,
   "metadata": {},
   "outputs": [
    {
     "name": "stdout",
     "output_type": "stream",
     "text": [
      "X_train (51000, 737)\n",
      "y_train (51000, 1)\n",
      "Xu_test (0, 737)\n",
      "yu_test (0, 1)\n"
     ]
    }
   ],
   "source": [
    "# threshold = 0.8 \n",
    "# 80% for train, 20% for test\n",
    "\n",
    "threshold = 1\n",
    "\n",
    "X = df[X_columns]\n",
    "y = df[y_column]\n",
    "\n",
    "X_train, Xu_test, y_train, yu_test = train_test_split(X, y, test_size=1.0-threshold, shuffle=True)\n",
    "\n",
    "print('X_train', X_train.shape) #df_train, X_train\n",
    "print('y_train', y_train.shape) #df_train, y_train\n",
    "print('Xu_test', Xu_test.shape) # unreal X_test\n",
    "print('yu_test', yu_test.shape) # unreal y_test"
   ]
  },
  {
   "cell_type": "code",
   "execution_count": 16,
   "metadata": {},
   "outputs": [
    {
     "name": "stdout",
     "output_type": "stream",
     "text": [
      "X_test (51000, 673)\n",
      "y_test (51000, 1)\n",
      "Xu_train (0, 673)\n",
      "yu_train (0, 1)\n"
     ]
    }
   ],
   "source": [
    "df_zipcode_2 = pd.get_dummies(df_test['zipcode'])\n",
    "df = pd.concat([df_train, df_zipcode_2], axis=1).fillna(0.0)\n",
    "X_columns = ['accommodates', 'bathrooms', 'bedrooms', 'beds', 'review_scores_rating'] + list(df_zipcode_2.columns)\n",
    "y_column = ['log_price']\n",
    "\n",
    "threshold = 1\n",
    "\n",
    "X = df[X_columns]\n",
    "y = df[y_column]\n",
    "\n",
    "X_test, Xu_train, y_test, yu_train = train_test_split(X, y, test_size=1.0-threshold, shuffle=True)\n",
    "\n",
    "print('X_test', X_test.shape) #df_test, X_test\n",
    "print('y_test', y_test.shape) #df_test, y_test\n",
    "print('Xu_train', Xu_train.shape) # unreal X_train\n",
    "print('yu_train', yu_train.shape) # unreal y_train"
   ]
  },
  {
   "cell_type": "markdown",
   "metadata": {},
   "source": [
    "# Missing values"
   ]
  },
  {
   "cell_type": "code",
   "execution_count": 17,
   "metadata": {},
   "outputs": [
    {
     "name": "stdout",
     "output_type": "stream",
     "text": [
      "(51000, 29)\n"
     ]
    }
   ],
   "source": [
    "# handle missing values\n",
    "\n",
    "# probably not a good idea for 'review_scores_rating' \n",
    "# as it fill empty reviews with 0 when the actual review score is unknown\n",
    "df_train = df_train.fillna(0.0) \n",
    "\n",
    "print(df_train.shape)"
   ]
  },
  {
   "cell_type": "markdown",
   "metadata": {},
   "source": [
    "# Experiments"
   ]
  },
  {
   "cell_type": "code",
   "execution_count": 18,
   "metadata": {},
   "outputs": [
    {
     "ename": "ValueError",
     "evalue": "shapes (51000,673) and (737,1) not aligned: 673 (dim 1) != 737 (dim 0)",
     "output_type": "error",
     "traceback": [
      "\u001b[1;31m---------------------------------------------------------------------------\u001b[0m",
      "\u001b[1;31mValueError\u001b[0m                                Traceback (most recent call last)",
      "\u001b[1;32m<ipython-input-18-348593ee03d8>\u001b[0m in \u001b[0;36m<module>\u001b[1;34m()\u001b[0m\n\u001b[0;32m     28\u001b[0m     \u001b[0mmodel_evaluation\u001b[0m\u001b[1;33m(\u001b[0m\u001b[0mmodel_name\u001b[0m\u001b[1;33m,\u001b[0m \u001b[0my_test\u001b[0m\u001b[1;33m,\u001b[0m \u001b[0mpredictions\u001b[0m\u001b[1;33m)\u001b[0m\u001b[1;33m\u001b[0m\u001b[0m\n\u001b[0;32m     29\u001b[0m \u001b[1;33m\u001b[0m\u001b[0m\n\u001b[1;32m---> 30\u001b[1;33m \u001b[0mrun_experiment\u001b[0m\u001b[1;33m(\u001b[0m\u001b[1;34m'Linear Regression'\u001b[0m\u001b[1;33m,\u001b[0m \u001b[0mLinearRegression\u001b[0m\u001b[1;33m(\u001b[0m\u001b[1;33m)\u001b[0m\u001b[1;33m,\u001b[0m \u001b[0mX_train\u001b[0m\u001b[1;33m,\u001b[0m \u001b[0my_train\u001b[0m\u001b[1;33m,\u001b[0m \u001b[0mX_test\u001b[0m\u001b[1;33m)\u001b[0m\u001b[1;33m\u001b[0m\u001b[0m\n\u001b[0m\u001b[0;32m     31\u001b[0m \u001b[0mrun_experiment\u001b[0m\u001b[1;33m(\u001b[0m\u001b[1;34m'KNN 5'\u001b[0m\u001b[1;33m,\u001b[0m \u001b[0mKNeighborsRegressor\u001b[0m\u001b[1;33m(\u001b[0m\u001b[1;36m5\u001b[0m\u001b[1;33m)\u001b[0m\u001b[1;33m,\u001b[0m \u001b[0mX_train\u001b[0m\u001b[1;33m,\u001b[0m \u001b[0my_train\u001b[0m\u001b[1;33m,\u001b[0m \u001b[0mX_test\u001b[0m\u001b[1;33m)\u001b[0m\u001b[1;33m\u001b[0m\u001b[0m\n\u001b[0;32m     32\u001b[0m \u001b[0mrun_experiment\u001b[0m\u001b[1;33m(\u001b[0m\u001b[1;34m'KNN 2'\u001b[0m\u001b[1;33m,\u001b[0m \u001b[0mKNeighborsRegressor\u001b[0m\u001b[1;33m(\u001b[0m\u001b[1;36m2\u001b[0m\u001b[1;33m)\u001b[0m\u001b[1;33m,\u001b[0m \u001b[0mX_train\u001b[0m\u001b[1;33m,\u001b[0m \u001b[0my_train\u001b[0m\u001b[1;33m,\u001b[0m \u001b[0mX_test\u001b[0m\u001b[1;33m)\u001b[0m\u001b[1;33m\u001b[0m\u001b[0m\n",
      "\u001b[1;32m<ipython-input-18-348593ee03d8>\u001b[0m in \u001b[0;36mrun_experiment\u001b[1;34m(model_name, model, X_train, y_train, X_test)\u001b[0m\n\u001b[0;32m     25\u001b[0m \u001b[1;32mdef\u001b[0m \u001b[0mrun_experiment\u001b[0m\u001b[1;33m(\u001b[0m\u001b[0mmodel_name\u001b[0m\u001b[1;33m,\u001b[0m \u001b[0mmodel\u001b[0m\u001b[1;33m,\u001b[0m \u001b[0mX_train\u001b[0m\u001b[1;33m,\u001b[0m \u001b[0my_train\u001b[0m\u001b[1;33m,\u001b[0m \u001b[0mX_test\u001b[0m\u001b[1;33m)\u001b[0m\u001b[1;33m:\u001b[0m\u001b[1;33m\u001b[0m\u001b[0m\n\u001b[0;32m     26\u001b[0m     \u001b[0mtrain_model\u001b[0m \u001b[1;33m=\u001b[0m \u001b[0mmodel_training\u001b[0m\u001b[1;33m(\u001b[0m\u001b[0mmodel_name\u001b[0m\u001b[1;33m,\u001b[0m \u001b[0mmodel\u001b[0m\u001b[1;33m,\u001b[0m \u001b[0mX_train\u001b[0m\u001b[1;33m,\u001b[0m \u001b[0my_train\u001b[0m\u001b[1;33m)\u001b[0m\u001b[1;33m\u001b[0m\u001b[0m\n\u001b[1;32m---> 27\u001b[1;33m     \u001b[0mpredictions\u001b[0m \u001b[1;33m=\u001b[0m \u001b[0mmodel_prediction\u001b[0m\u001b[1;33m(\u001b[0m\u001b[0mtrain_model\u001b[0m\u001b[1;33m,\u001b[0m \u001b[0mX_test\u001b[0m\u001b[1;33m)\u001b[0m\u001b[1;33m\u001b[0m\u001b[0m\n\u001b[0m\u001b[0;32m     28\u001b[0m     \u001b[0mmodel_evaluation\u001b[0m\u001b[1;33m(\u001b[0m\u001b[0mmodel_name\u001b[0m\u001b[1;33m,\u001b[0m \u001b[0my_test\u001b[0m\u001b[1;33m,\u001b[0m \u001b[0mpredictions\u001b[0m\u001b[1;33m)\u001b[0m\u001b[1;33m\u001b[0m\u001b[0m\n\u001b[0;32m     29\u001b[0m \u001b[1;33m\u001b[0m\u001b[0m\n",
      "\u001b[1;32m<ipython-input-18-348593ee03d8>\u001b[0m in \u001b[0;36mmodel_prediction\u001b[1;34m(model, X_test)\u001b[0m\n\u001b[0;32m      6\u001b[0m \u001b[1;33m\u001b[0m\u001b[0m\n\u001b[0;32m      7\u001b[0m \u001b[1;32mdef\u001b[0m \u001b[0mmodel_prediction\u001b[0m\u001b[1;33m(\u001b[0m\u001b[0mmodel\u001b[0m\u001b[1;33m,\u001b[0m \u001b[0mX_test\u001b[0m\u001b[1;33m)\u001b[0m\u001b[1;33m:\u001b[0m\u001b[1;33m\u001b[0m\u001b[0m\n\u001b[1;32m----> 8\u001b[1;33m     \u001b[0my_pred\u001b[0m \u001b[1;33m=\u001b[0m \u001b[0mmodel\u001b[0m\u001b[1;33m.\u001b[0m\u001b[0mpredict\u001b[0m\u001b[1;33m(\u001b[0m\u001b[0mX_test\u001b[0m\u001b[1;33m)\u001b[0m\u001b[1;33m\u001b[0m\u001b[0m\n\u001b[0m\u001b[0;32m      9\u001b[0m     \u001b[1;32mreturn\u001b[0m \u001b[0my_pred\u001b[0m\u001b[1;33m\u001b[0m\u001b[0m\n\u001b[0;32m     10\u001b[0m \u001b[1;33m\u001b[0m\u001b[0m\n",
      "\u001b[1;32m~\\Anaconda3\\lib\\site-packages\\sklearn\\linear_model\\base.py\u001b[0m in \u001b[0;36mpredict\u001b[1;34m(self, X)\u001b[0m\n\u001b[0;32m    254\u001b[0m             \u001b[0mReturns\u001b[0m \u001b[0mpredicted\u001b[0m \u001b[0mvalues\u001b[0m\u001b[1;33m.\u001b[0m\u001b[1;33m\u001b[0m\u001b[0m\n\u001b[0;32m    255\u001b[0m         \"\"\"\n\u001b[1;32m--> 256\u001b[1;33m         \u001b[1;32mreturn\u001b[0m \u001b[0mself\u001b[0m\u001b[1;33m.\u001b[0m\u001b[0m_decision_function\u001b[0m\u001b[1;33m(\u001b[0m\u001b[0mX\u001b[0m\u001b[1;33m)\u001b[0m\u001b[1;33m\u001b[0m\u001b[0m\n\u001b[0m\u001b[0;32m    257\u001b[0m \u001b[1;33m\u001b[0m\u001b[0m\n\u001b[0;32m    258\u001b[0m     \u001b[0m_preprocess_data\u001b[0m \u001b[1;33m=\u001b[0m \u001b[0mstaticmethod\u001b[0m\u001b[1;33m(\u001b[0m\u001b[0m_preprocess_data\u001b[0m\u001b[1;33m)\u001b[0m\u001b[1;33m\u001b[0m\u001b[0m\n",
      "\u001b[1;32m~\\Anaconda3\\lib\\site-packages\\sklearn\\linear_model\\base.py\u001b[0m in \u001b[0;36m_decision_function\u001b[1;34m(self, X)\u001b[0m\n\u001b[0;32m    239\u001b[0m         \u001b[0mX\u001b[0m \u001b[1;33m=\u001b[0m \u001b[0mcheck_array\u001b[0m\u001b[1;33m(\u001b[0m\u001b[0mX\u001b[0m\u001b[1;33m,\u001b[0m \u001b[0maccept_sparse\u001b[0m\u001b[1;33m=\u001b[0m\u001b[1;33m[\u001b[0m\u001b[1;34m'csr'\u001b[0m\u001b[1;33m,\u001b[0m \u001b[1;34m'csc'\u001b[0m\u001b[1;33m,\u001b[0m \u001b[1;34m'coo'\u001b[0m\u001b[1;33m]\u001b[0m\u001b[1;33m)\u001b[0m\u001b[1;33m\u001b[0m\u001b[0m\n\u001b[0;32m    240\u001b[0m         return safe_sparse_dot(X, self.coef_.T,\n\u001b[1;32m--> 241\u001b[1;33m                                dense_output=True) + self.intercept_\n\u001b[0m\u001b[0;32m    242\u001b[0m \u001b[1;33m\u001b[0m\u001b[0m\n\u001b[0;32m    243\u001b[0m     \u001b[1;32mdef\u001b[0m \u001b[0mpredict\u001b[0m\u001b[1;33m(\u001b[0m\u001b[0mself\u001b[0m\u001b[1;33m,\u001b[0m \u001b[0mX\u001b[0m\u001b[1;33m)\u001b[0m\u001b[1;33m:\u001b[0m\u001b[1;33m\u001b[0m\u001b[0m\n",
      "\u001b[1;32m~\\Anaconda3\\lib\\site-packages\\sklearn\\utils\\extmath.py\u001b[0m in \u001b[0;36msafe_sparse_dot\u001b[1;34m(a, b, dense_output)\u001b[0m\n\u001b[0;32m    138\u001b[0m         \u001b[1;32mreturn\u001b[0m \u001b[0mret\u001b[0m\u001b[1;33m\u001b[0m\u001b[0m\n\u001b[0;32m    139\u001b[0m     \u001b[1;32melse\u001b[0m\u001b[1;33m:\u001b[0m\u001b[1;33m\u001b[0m\u001b[0m\n\u001b[1;32m--> 140\u001b[1;33m         \u001b[1;32mreturn\u001b[0m \u001b[0mnp\u001b[0m\u001b[1;33m.\u001b[0m\u001b[0mdot\u001b[0m\u001b[1;33m(\u001b[0m\u001b[0ma\u001b[0m\u001b[1;33m,\u001b[0m \u001b[0mb\u001b[0m\u001b[1;33m)\u001b[0m\u001b[1;33m\u001b[0m\u001b[0m\n\u001b[0m\u001b[0;32m    141\u001b[0m \u001b[1;33m\u001b[0m\u001b[0m\n\u001b[0;32m    142\u001b[0m \u001b[1;33m\u001b[0m\u001b[0m\n",
      "\u001b[1;31mValueError\u001b[0m: shapes (51000,673) and (737,1) not aligned: 673 (dim 1) != 737 (dim 0)"
     ]
    }
   ],
   "source": [
    "# Ref.: https://github.com/arybressane/CEBD1260-BIG-DATA-ANALYTICS/blob/master/week5/regression-house-sklearn-ext-class-version.ipynb\n",
    "\n",
    "def model_training(model_name, model, X_train, y_train):\n",
    "    model.fit(X_train, y_train)\n",
    "    return model\n",
    "    \n",
    "def model_prediction(model, X_test):\n",
    "    y_pred = model.predict(X_test)\n",
    "    return y_pred\n",
    "\n",
    "def model_evaluation(model_name, y_test, y_pred):\n",
    "    print(model_name)\n",
    "    print('MAE', mean_absolute_error(y_test, y_pred))\n",
    "    print('RMSE', np.sqrt(mean_squared_error(y_test, y_pred)))\n",
    "    plt.scatter(y_test, y_pred, alpha=0.3)\n",
    "    plt.plot(range(0,5000000, 100), range(0,5000000, 100), '--r', alpha=0.3, label='Line1')\n",
    "    plt.title(model_name)\n",
    "    plt.xlabel('True Value')\n",
    "    plt.ylabel('Predict Value')\n",
    "    plt.xlim([0, 5000000])\n",
    "    plt.ylim([0, 5000000])\n",
    "    plt.show()\n",
    "    print('')\n",
    "\n",
    "def run_experiment(model_name, model, X_train, y_train, X_test):\n",
    "    train_model = model_training(model_name, model, X_train, y_train)\n",
    "    predictions = model_prediction(train_model, X_test)\n",
    "    model_evaluation(model_name, y_test, predictions)\n",
    "    \n",
    "run_experiment('Linear Regression', LinearRegression(), X_train, y_train, X_test)\n",
    "run_experiment('KNN 5', KNeighborsRegressor(5), X_train, y_train, X_test)\n",
    "run_experiment('KNN 2', KNeighborsRegressor(2), X_train, y_train, X_test)\n",
    "run_experiment('Decision Tree', DecisionTreeRegressor(), X_train, y_train, X_test)\n",
    "run_experiment('Random Forest 10', RandomForestRegressor(10), X_train, y_train, X_test)\n",
    "run_experiment('Random Forest 100', RandomForestRegressor(100), X_train, y_train, X_test)\n",
    "\n"
   ]
  },
  {
   "cell_type": "markdown",
   "metadata": {},
   "source": [
    "# Error Analysis"
   ]
  },
  {
   "cell_type": "code",
   "execution_count": null,
   "metadata": {},
   "outputs": [],
   "source": [
    "# Ref.: https://github.com/arybressane/CEBD1260-BIG-DATA-ANALYTICS/blob/master/week5/regression-house-sklearn-ext-class-version.ipynb\n",
    "\n",
    "model = RandomForestRegressor(100)\n",
    "model.fit(X_train, y_train)\n",
    "y_pred = model.predict(X_test)"
   ]
  },
  {
   "cell_type": "code",
   "execution_count": null,
   "metadata": {},
   "outputs": [],
   "source": [
    "#for i in range(len(X_test.columns)):\n",
    "fi = []\n",
    "for i, col in enumerate(X_test.columns):\n",
    "    fi.append([col, model.feature_importances_[i]])\n",
    "pd.DataFrame(fi).sort_values(1, ascending=False)"
   ]
  },
  {
   "cell_type": "code",
   "execution_count": null,
   "metadata": {},
   "outputs": [],
   "source": [
    "df_test = pd.DataFrame(X_test).copy()\n",
    "df_test['price'] = y_test\n",
    "df_test['prediction'] = y_pred\n",
    "df_test['abs_error'] = abs(df_test['price']-df_test['prediction'])\n",
    "df_test.sort_values(by='abs_error', ascending=False).round()"
   ]
  },
  {
   "cell_type": "code",
   "execution_count": null,
   "metadata": {},
   "outputs": [],
   "source": [
    "plt.hist(df_test['abs_error'], bins=30)\n",
    "plt.show()"
   ]
  },
  {
   "cell_type": "code",
   "execution_count": null,
   "metadata": {},
   "outputs": [],
   "source": [
    "df_error = df_test[df_test['abs_error']>500000]\n",
    "df_error"
   ]
  },
  {
   "cell_type": "code",
   "execution_count": null,
   "metadata": {},
   "outputs": [],
   "source": [
    "df_error.describe()"
   ]
  },
  {
   "cell_type": "code",
   "execution_count": null,
   "metadata": {},
   "outputs": [],
   "source": [
    "df_error.corr()['abs_error'].dropna().sort_values()"
   ]
  },
  {
   "cell_type": "code",
   "execution_count": null,
   "metadata": {},
   "outputs": [],
   "source": []
  },
  {
   "cell_type": "markdown",
   "metadata": {},
   "source": [
    "# Cross Validation"
   ]
  },
  {
   "cell_type": "code",
   "execution_count": null,
   "metadata": {},
   "outputs": [],
   "source": [
    "# Ref.: https://github.com/arybressane/CEBD1260-BIG-DATA-ANALYTICS"
   ]
  },
  {
   "cell_type": "code",
   "execution_count": null,
   "metadata": {},
   "outputs": [],
   "source": [
    "models = [\n",
    "    ('LinearRegression', LinearRegression()),\n",
    "    ('RandomForestRegressor10', RandomForestRegressor(n_estimators=10)),\n",
    "    ('RandomForestRegressor100', RandomForestRegressor(n_estimators=100, n_jobs=4)),\n",
    "    ('KNeighborsRegressor', KNeighborsRegressor()),\n",
    "    ('DecisionTreeRegressor', DecisionTreeRegressor())\n",
    "]\n",
    "\n",
    "k = 10\n",
    "results = {}\n",
    "for m in models:\n",
    "     print('MODEL', m[0])\n",
    "     results[m[0]] = {'mae':[], 'rmse':[]}\n",
    "     kf = KFold(n_splits=k)\n",
    "     for train_index, test_index in kf.split(X):\n",
    "         X_train_k, X_test_k = X.values[train_index], X.values[test_index]\n",
    "         y_train_k, y_test_k = y.values[train_index], y.values[test_index]\n",
    "        \n",
    "         model = m[1]\n",
    "         model.fit(X_train_k, y_train_k.ravel())\n",
    "         y_pred = model.predict(X_test_k)\n",
    "            \n",
    "         mae = mean_absolute_error(y_test_k, y_pred)\n",
    "         rmse = np.sqrt(mean_squared_error(y_test_k, y_pred))\n",
    "            \n",
    "         results[m[0]]['mae'].append(mae)\n",
    "         results[m[0]]['rmse'].append(rmse)\n",
    "            "
   ]
  },
  {
   "cell_type": "code",
   "execution_count": null,
   "metadata": {},
   "outputs": [],
   "source": [
    "for metric in ['mae', 'rmse']:\n",
    "     values = []\n",
    "     labels = []\n",
    "     for model, result_values in results.items():\n",
    "         for m, v in result_values.items():\n",
    "             if m == metric:\n",
    "                 labels.append(model)\n",
    "                 values.append(v)\n",
    "                    \n",
    "     plt.figure(figsize=(12,6))\n",
    "     plt.title(metric)\n",
    "     plt.boxplot(values)\n",
    "     plt.xticks(range(1, len(labels)+1), labels, rotation='horizontal')\n",
    "     plt.show()\n",
    "    "
   ]
  },
  {
   "cell_type": "markdown",
   "metadata": {},
   "source": [
    "# Prepare submission"
   ]
  },
  {
   "cell_type": "code",
   "execution_count": null,
   "metadata": {},
   "outputs": [],
   "source": [
    "df_prediction = df_test[X_columns].fillna(0.0)\n",
    "df_test['log_price'] = model.predict(df_prediction)\n",
    "df_test[['id', 'log_price']]"
   ]
  },
  {
   "cell_type": "code",
   "execution_count": null,
   "metadata": {},
   "outputs": [],
   "source": [
    "df_test[['id', 'log_price']].to_csv('submission_linear_regression_modified.csv', index=False)"
   ]
  },
  {
   "cell_type": "code",
   "execution_count": null,
   "metadata": {},
   "outputs": [],
   "source": []
  }
 ],
 "metadata": {
  "kernelspec": {
   "display_name": "Python 3",
   "language": "python",
   "name": "python3"
  },
  "language_info": {
   "codemirror_mode": {
    "name": "ipython",
    "version": 3
   },
   "file_extension": ".py",
   "mimetype": "text/x-python",
   "name": "python",
   "nbconvert_exporter": "python",
   "pygments_lexer": "ipython3",
   "version": "3.6.4"
  }
 },
 "nbformat": 4,
 "nbformat_minor": 2
}
